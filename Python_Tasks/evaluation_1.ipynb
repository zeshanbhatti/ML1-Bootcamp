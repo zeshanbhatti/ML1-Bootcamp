{
 "cells": [
  {
   "cell_type": "markdown",
   "id": "3443b3de",
   "metadata": {},
   "source": [
    "### Question 1\n",
    "Given a list of integers nums and an integer target, return <i>indices of the two numbers such that they add up to target<i>. <br>\n",
    "\n",
    "Example 1:<br>\n",
    "\n",
    "Input: nums = [2,7,11,15], target = 9<br>\n",
    "Output: [0,1]"
   ]
  },
  {
   "cell_type": "code",
   "execution_count": 28,
   "id": "ff1e5aa2",
   "metadata": {},
   "outputs": [
    {
     "name": "stdout",
     "output_type": "stream",
     "text": [
      "index of i is:  1\n",
      "index of j is:  1\n"
     ]
    }
   ],
   "source": [
    "input_list = input(\"enter your list of numbers: \")\n",
    "input_list = input_list.split(\",\")\n",
    "target = input(\"enter target: \")\n",
    "ith = 0\n",
    "jth = 0    \n",
    "for i in input_list:\n",
    "    for j in input_list:\n",
    "        if i+j==target:\n",
    "            ith=i\n",
    "            jth=j\n",
    "            break\n",
    "        else:\n",
    "            continue\n",
    "            \n",
    "print(\"index of i is: \", ith+1)\n",
    "print(\"index of j is: \", jth+1)\n"
   ]
  },
  {
   "cell_type": "markdown",
   "id": "e473f396",
   "metadata": {},
   "source": [
    "### Question 2\n",
    "Given an integer x,<i> return true if x is a <br>\n",
    "palindrome</i><br>\n",
    ", and false otherwise. <br>\n",
    "Example 1:<br>\n",
    "\n",
    "Input: x = 121<br>\n",
    "Output: true<br>\n"
   ]
  },
  {
   "cell_type": "code",
   "execution_count": 31,
   "id": "83e210c0",
   "metadata": {},
   "outputs": [
    {
     "name": "stdout",
     "output_type": "stream",
     "text": [
      "not palindrome\n"
     ]
    }
   ],
   "source": [
    "prompt = input(\"enter here: \")\n",
    "reverse = prompt[::-1]\n",
    "if prompt==reverse:\n",
    "    print(\"palindrome\")\n",
    "else:\n",
    "    print(\"not palindrome\")\n",
    "\n"
   ]
  },
  {
   "cell_type": "markdown",
   "id": "a2f1a21b",
   "metadata": {},
   "source": [
    "### Question 3\n",
    "Given two strings needle and haystack, return the index of the first occurrence of needle in haystack, or -1 if needle is not part of haystack.<br>\n",
    "\n",
    "Example 1:<br>\n",
    "Input: haystack = \"sadbutsad\", needle = \"sad\" <br>\n",
    "Output: 0<br>\n",
    "Explanation: \"sad\" occurs at index 0 and 6.<br>\n",
    "The first occurrence is at index 0, so we return 0.<br>\n",
    "\n",
    "Example 2:<br>\n",
    "Input: haystack = \"apple\", needle = \"appo\"<br>\n",
    "Output: -1<br>\n",
    "Explanation: \"leeto\" did not occur in \"leetcode\", so we return -1.<br>"
   ]
  },
  {
   "cell_type": "code",
   "execution_count": null,
   "id": "d4aeb342",
   "metadata": {},
   "outputs": [],
   "source": []
  },
  {
   "cell_type": "markdown",
   "id": "916e39e1",
   "metadata": {},
   "source": [
    "### Question 4\n",
    "\n",
    "Enter a number and have the program generate the Fibonacci sequence to that number or to the Nth number."
   ]
  },
  {
   "cell_type": "code",
   "execution_count": 29,
   "id": "2bc0707f",
   "metadata": {},
   "outputs": [
    {
     "ename": "TypeError",
     "evalue": "'int' object is not subscriptable",
     "output_type": "error",
     "traceback": [
      "\u001b[1;31m---------------------------------------------------------------------------\u001b[0m",
      "\u001b[1;31mTypeError\u001b[0m                                 Traceback (most recent call last)",
      "Cell \u001b[1;32mIn[29], line 4\u001b[0m\n\u001b[0;32m      2\u001b[0m lis \u001b[39m=\u001b[39m [\u001b[39m0\u001b[39m,\u001b[39m1\u001b[39m]\n\u001b[0;32m      3\u001b[0m \u001b[39mfor\u001b[39;00m i \u001b[39min\u001b[39;00m \u001b[39mrange\u001b[39m(number):\n\u001b[1;32m----> 4\u001b[0m     \u001b[39mwhile\u001b[39;00m lis[i]\u001b[39m<\u001b[39m\u001b[39m=\u001b[39mnumber:\n\u001b[0;32m      5\u001b[0m      lis \u001b[39m=\u001b[39m lis[i] \u001b[39m+\u001b[39m lis[i\u001b[39m-\u001b[39m\u001b[39m1\u001b[39m]\n\u001b[0;32m      6\u001b[0m \u001b[39mprint\u001b[39m(lis)\n",
      "\u001b[1;31mTypeError\u001b[0m: 'int' object is not subscriptable"
     ]
    }
   ],
   "source": [
    "number = int(input(\"enter your number: \"))\n",
    "lis = [0,1]\n",
    "for i in range(number):\n",
    "    while lis[i]<=number:\n",
    "     lis = lis[i] + lis[i-1]\n",
    "print(lis)\n",
    "\n",
    "\n",
    "\n",
    "\n",
    "\n"
   ]
  },
  {
   "cell_type": "markdown",
   "id": "1f0c9bfa",
   "metadata": {},
   "source": [
    "### Question 5\n",
    "Given two integers, return True if the sum of the integers is 20 or if one of the integers is 20. If not, return False"
   ]
  },
  {
   "cell_type": "code",
   "execution_count": 33,
   "id": "4030ce7f",
   "metadata": {},
   "outputs": [
    {
     "name": "stdout",
     "output_type": "stream",
     "text": [
      "False\n"
     ]
    }
   ],
   "source": [
    "def calculate():\n",
    "    num1 = int(input(\"enter first number: \"))\n",
    "    num2 = int(input(\"enter second number: \"))\n",
    "    if num1 + num2 == 20:\n",
    "        return True\n",
    "    else:\n",
    "        return False\n",
    "print(calculate())\n"
   ]
  },
  {
   "cell_type": "markdown",
   "id": "947855f9",
   "metadata": {},
   "source": [
    "### Question 6\n",
    "\n",
    "Convert Celsius to Fahrenheit (Use list comprehension)<br>\n",
    "celsius = [0,10,20.1,34.5]"
   ]
  },
  {
   "cell_type": "code",
   "execution_count": 34,
   "id": "ee590475",
   "metadata": {},
   "outputs": [
    {
     "name": "stdout",
     "output_type": "stream",
     "text": [
      "[32.0, 50.0, 68.18, 94.1]\n"
     ]
    }
   ],
   "source": [
    "celsius = [0,10,20.1, 34.5]\n",
    "F = [(x * 9/5) + 32 for x in celsius  ]\n",
    "# for i in F:\n",
    "#     print(i)\n",
    "print(F)"
   ]
  },
  {
   "cell_type": "markdown",
   "id": "26d6af81",
   "metadata": {},
   "source": [
    "### Question 7\n",
    "\n",
    "Create a simple program to manage a stack? The stack should have a maximum limit of 10 elements. Include two functions: one for adding (pushing) an element to the stack and another for removing (popping) an element from the stack. If the stack is full and someone tries to add an element, return a message saying the stack is full. If the stack is empty and someone tries to remove an element, return a message saying the stack is empty and no element can be removed.<br>\n",
    "\n",
    "<b>Note:</b> Stack follows FIFO (first in first out) rule"
   ]
  },
  {
   "cell_type": "code",
   "execution_count": null,
   "id": "da16794b",
   "metadata": {},
   "outputs": [],
   "source": [
    "stack = []\n",
    "def insert(num):\n",
    "    if len(stack)<=10:\n",
    "        stack.append(num)\n",
    "    else:\n",
    "        print(\"stack is full\")\n",
    "def remove():\n",
    "    if len(stack)>0:\n",
    "        stack.remove()\n",
    "    else:\n",
    "        print(\"stack is empty so noone is removed\")\n",
    "\n",
    "# while True:\n",
    "#     prompt = input(\"press \")"
   ]
  },
  {
   "cell_type": "markdown",
   "id": "c34f3ddd",
   "metadata": {},
   "source": [
    "### Question 8\n",
    "\n",
    "Create a function which will take list as an input argument! If a number can be divided evenly by 3, print \"fizz.\" If it can be divided evenly by 5, print \"buzz.\" And if it can be divided evenly by both 3 and 5, print \"fizzbuzz.\"<br>\n",
    "<b>Note:</b>Use max two conditional statements."
   ]
  },
  {
   "cell_type": "code",
   "execution_count": 41,
   "id": "483439fb",
   "metadata": {},
   "outputs": [
    {
     "name": "stdout",
     "output_type": "stream",
     "text": [
      "fizz,buzz,fizzbuzz,buzz,fizzbuzz,"
     ]
    }
   ],
   "source": [
    "def find(num):\n",
    "    \n",
    "    for i in num:\n",
    "        result = \"\"\n",
    "        if i%3 ==0:\n",
    "            result += \"fizz\"\n",
    "        if i%5 == 0:\n",
    "            result += \"buzz\"\n",
    "        print(result, end=\",\")\n",
    "    \n",
    "number_list = [3,5,15,25,30]\n",
    "find(number_list)\n",
    "\n"
   ]
  }
 ],
 "metadata": {
  "kernelspec": {
   "display_name": "Python 3 (ipykernel)",
   "language": "python",
   "name": "python3"
  },
  "language_info": {
   "codemirror_mode": {
    "name": "ipython",
    "version": 3
   },
   "file_extension": ".py",
   "mimetype": "text/x-python",
   "name": "python",
   "nbconvert_exporter": "python",
   "pygments_lexer": "ipython3",
   "version": "3.11.4"
  }
 },
 "nbformat": 4,
 "nbformat_minor": 5
}
