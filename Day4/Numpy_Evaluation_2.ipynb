{
 "cells": [
  {
   "cell_type": "markdown",
   "id": "7ec98f23",
   "metadata": {},
   "source": [
    "### Questions 1\n",
    "\n",
    "Create a matrix of 5x5 with random integers, after that swap its first and last rows."
   ]
  },
  {
   "cell_type": "code",
   "execution_count": 2,
   "id": "fbab7daa",
   "metadata": {},
   "outputs": [
    {
     "name": "stdout",
     "output_type": "stream",
     "text": [
      "[[8 4 8 8 4]\n",
      " [7 7 4 8 9]\n",
      " [6 3 1 7 5]\n",
      " [8 4 4 6 4]\n",
      " [4 6 4 4 4]]\n",
      "\n",
      "After swapping\n",
      "[[4 6 4 4 4]\n",
      " [7 7 4 8 9]\n",
      " [6 3 1 7 5]\n",
      " [8 4 4 6 4]\n",
      " [8 4 8 8 4]]\n"
     ]
    }
   ],
   "source": [
    "import numpy as np\n",
    "from numpy import random \n",
    "\n",
    "mat = random.randint(1, 10, size=(5, 5))\n",
    "print(mat)\n",
    "mat[0, :], mat[-1, :] = mat[-1, :].copy(), mat[0, :].copy()\n",
    "\n",
    "print(\"\\nAfter swapping\")\n",
    "print(mat)\n"
   ]
  },
  {
   "cell_type": "markdown",
   "id": "804d6649",
   "metadata": {},
   "source": [
    "### Question 2\n",
    "\n",
    "Create a 2D array, remove all rows that contain at least one zero."
   ]
  },
  {
   "cell_type": "code",
   "execution_count": 15,
   "id": "26e7b7e4",
   "metadata": {},
   "outputs": [
    {
     "name": "stdout",
     "output_type": "stream",
     "text": [
      "[[ 1  2  3]\n",
      " [ 4  0  5]\n",
      " [ 6  7  8]\n",
      " [ 0  9 10]]\n",
      "\n",
      "after removing rows with zeros\n",
      "[[1 2 3]\n",
      " [6 7 8]]\n"
     ]
    }
   ],
   "source": [
    "arr = np.array([[1, 2, 3], [4, 0, 5], [6, 7, 8], [0,9,10 ]])\n",
    "print(arr)\n",
    "\n",
    "arr1 = arr[~np.any(arr == 0, axis=1)]\n",
    "print(\"\\nafter removing rows with zeros\")\n",
    "print(arr1)\n"
   ]
  },
  {
   "cell_type": "markdown",
   "id": "2eaedae6",
   "metadata": {},
   "source": [
    "### Question 3\n",
    "\n",
    "Write a NumPy program to find the real and imaginary parts of an array of complex numbers.<br>\n",
    "Original array [ 1.00000000+0.j 0.70710678+0.70710678j]"
   ]
  },
  {
   "cell_type": "code",
   "execution_count": 28,
   "id": "5e2d4526",
   "metadata": {},
   "outputs": [
    {
     "name": "stdout",
     "output_type": "stream",
     "text": [
      "[1.        +0.j         0.70710678+0.70710678j]\n",
      "\n",
      "real part\n",
      "[1.         0.70710678]\n",
      "\n",
      "imaginary part\n",
      "[0.         0.70710678]\n"
     ]
    }
   ],
   "source": [
    "arr = np.array([1.00000000 + 0.j, 0.70710678 + 0.70710678j])\n",
    "\n",
    "rel_part = np.real(arr)\n",
    "img_part = np.imag(arr)\n",
    "\n",
    "print(arr)\n",
    "print(\"\\nreal part\")\n",
    "print(rel_part)\n",
    "print(\"\\nimaginary part\")\n",
    "print(img_part)\n"
   ]
  },
  {
   "cell_type": "markdown",
   "id": "5d22a191",
   "metadata": {},
   "source": [
    "### Question 4\n",
    "\n",
    "Write a NumPy program to remove the duplicate elements of an array.<br>\n",
    "Original array:\n",
    "[10 10 20 20 30 30]\n"
   ]
  },
  {
   "cell_type": "code",
   "execution_count": 29,
   "id": "39a6deaf",
   "metadata": {},
   "outputs": [
    {
     "name": "stdout",
     "output_type": "stream",
     "text": [
      "[10 10 20 20 30 30 40]\n",
      "\n",
      "after removing duplicates\n",
      "[10 20 30 40]\n"
     ]
    }
   ],
   "source": [
    "arr = np.array([10, 10, 20, 20, 30, 30, 40])\n",
    "arr1 = np.unique(arr)\n",
    "\n",
    "print(arr)\n",
    "print(\"\\nafter removing duplicates\")\n",
    "print(arr1)\n"
   ]
  },
  {
   "cell_type": "markdown",
   "id": "80f3538a",
   "metadata": {},
   "source": [
    "### Question 5\n",
    "\n",
    "Write a NumPy program to create a 3x3x3 array with random values."
   ]
  },
  {
   "cell_type": "code",
   "execution_count": 49,
   "id": "462e67c5",
   "metadata": {},
   "outputs": [
    {
     "name": "stdout",
     "output_type": "stream",
     "text": [
      "[[[0.03836133 0.94785348 0.63959493]\n",
      "  [0.28946184 0.36989074 0.19838672]\n",
      "  [0.61176728 0.01122217 0.36546626]]\n",
      "\n",
      " [[0.67967069 0.4818278  0.27445109]\n",
      "  [0.82570384 0.65780895 0.41078466]\n",
      "  [0.67873528 0.95608388 0.36168718]]\n",
      "\n",
      " [[0.65325761 0.09350142 0.84479837]\n",
      "  [0.86194413 0.51209317 0.44456185]\n",
      "  [0.35055041 0.50340394 0.76463629]]]\n"
     ]
    }
   ],
   "source": [
    "arr = random.rand(3, 3, 3)\n",
    "print(arr)\n"
   ]
  },
  {
   "cell_type": "markdown",
   "id": "abd66406",
   "metadata": {},
   "source": [
    "### Question 6\n",
    "\n",
    "Write a NumPy program to create a random vector of size 10 and sort it.\n",
    "<b>Note:<\\b> Do not use builtin sorting function"
   ]
  },
  {
   "cell_type": "code",
   "execution_count": 27,
   "id": "9282c068",
   "metadata": {},
   "outputs": [
    {
     "name": "stdout",
     "output_type": "stream",
     "text": [
      "\n",
      "arr\n",
      "[ 6 11 19  2 17  3  6 15  2 18]\n"
     ]
    },
    {
     "ename": "TypeError",
     "evalue": "'int' object is not callable",
     "output_type": "error",
     "traceback": [
      "\u001b[1;31m---------------------------------------------------------------------------\u001b[0m",
      "\u001b[1;31mTypeError\u001b[0m                                 Traceback (most recent call last)",
      "Cell \u001b[1;32mIn[27], line 17\u001b[0m\n\u001b[0;32m     14\u001b[0m                 arr[j\u001b[38;5;241m+\u001b[39m\u001b[38;5;241m1\u001b[39m]\u001b[38;5;241m=\u001b[39mtemp\n\u001b[0;32m     15\u001b[0m     \u001b[38;5;28;01mreturn\u001b[39;00m arr\n\u001b[1;32m---> 17\u001b[0m n\u001b[38;5;241m=\u001b[39m\u001b[38;5;28;43mlen\u001b[39;49m\u001b[43m(\u001b[49m\u001b[43marr\u001b[49m\u001b[43m)\u001b[49m\n\u001b[0;32m     18\u001b[0m arr1\u001b[38;5;241m=\u001b[39msort(arr,n)\n\u001b[0;32m     20\u001b[0m \u001b[38;5;28mprint\u001b[39m(\u001b[38;5;124m\"\u001b[39m\u001b[38;5;130;01m\\n\u001b[39;00m\u001b[38;5;124msorted arr\u001b[39m\u001b[38;5;124m\"\u001b[39m)\n",
      "\u001b[1;31mTypeError\u001b[0m: 'int' object is not callable"
     ]
    }
   ],
   "source": [
    "arr = random.randint(2,20, size=(10))\n",
    "\n",
    "print(\"\\narr\")\n",
    "print(arr)\n",
    "\n",
    "def sort(arr,n):\n",
    "    for i in range(n):\n",
    "        \n",
    "        for j in range(n-i-1):\n",
    "            \n",
    "            if arr[j]>arr[j+1]:\n",
    "                temp=arr[j]\n",
    "                arr[j]=arr[j+1]\n",
    "                arr[j+1]=temp\n",
    "    return arr\n",
    "\n",
    "n=len(arr)\n",
    "arr1=sort(arr,n)\n",
    "\n",
    "print(\"\\nsorted arr\")\n",
    "print(arr1)\n"
   ]
  },
  {
   "cell_type": "markdown",
   "id": "e0c1e8bb",
   "metadata": {},
   "source": [
    "### Question 7\n",
    "\n",
    "Write a NumPy program to check two random arrays are equal or not."
   ]
  },
  {
   "cell_type": "code",
   "execution_count": 34,
   "id": "e9c571cc",
   "metadata": {},
   "outputs": [
    {
     "name": "stdout",
     "output_type": "stream",
     "text": [
      "\n",
      "arr1\n",
      "[[0.63702949 0.30466696 0.67420131]\n",
      " [0.39136156 0.83803678 0.60418637]\n",
      " [0.71434862 0.30831558 0.24668438]]\n",
      "\n",
      "arr2\n",
      "[[0.06151833 0.85579712 0.36511977]\n",
      " [0.58903925 0.29412463 0.00360142]\n",
      " [0.75734399 0.91458361 0.06532286]]\n",
      "\n",
      "arrays are not equal\n"
     ]
    }
   ],
   "source": [
    "arr1 = np.random.rand(3, 3)\n",
    "arr2 = np.random.rand(3, 3)\n",
    "\n",
    "check = np.array_equal(arr1,arr2)\n",
    "\n",
    "print(\"\\narr1\")\n",
    "print(arr1)\n",
    "print(\"\\narr2\")\n",
    "print(arr2)\n",
    "\n",
    "if check:\n",
    "    print(\"\\narrays are equal\")\n",
    "else:\n",
    "    print(\"\\narrays are not equal\")\n"
   ]
  },
  {
   "cell_type": "markdown",
   "id": "234405fe",
   "metadata": {},
   "source": [
    "### Question 8 \n",
    "\n",
    "Write a NumPy program to sort a given array of shape 2 along the first axis, last axis and on flattened array.<br>\n",
    "\n",
    "Original array:<br>\n",
    "[[10 40]<br>\n",
    "[30 20]]"
   ]
  },
  {
   "cell_type": "code",
   "execution_count": 43,
   "id": "1b349b99",
   "metadata": {},
   "outputs": [
    {
     "name": "stdout",
     "output_type": "stream",
     "text": [
      "\n",
      "first axis\n",
      "[[10 20]\n",
      " [30 40]]\n",
      "\n",
      "last axis\n",
      "[[10 40]\n",
      " [20 30]]\n",
      "\n",
      "flattened\n",
      "[[10 20]\n",
      " [30 40]]\n"
     ]
    }
   ],
   "source": [
    "arr = np.array([[10, 40], [30, 20]])\n",
    "\n",
    "first_axis = np.sort(arr, axis=0)\n",
    "last_axis = np.sort(arr, axis=-1)\n",
    "flatened = np.sort(arr.flatten())\n",
    "\n",
    "print(\"\\nfirst axis\")\n",
    "print(first_axis)\n",
    "\n",
    "print(\"\\nlast axis\")\n",
    "print(last_axis)\n",
    "\n",
    "print(\"\\nflattened\")\n",
    "print(flatened.reshape(arr.shape))"
   ]
  },
  {
   "cell_type": "markdown",
   "id": "2467ff08",
   "metadata": {},
   "source": [
    "### Question 9\n",
    "\n",
    "Write a NumPy program to get the floor, ceiling and truncated values of the elements of a numpy array.<br>\n",
    "\n",
    "Original array:<br>\n",
    "[-1.6 -1.5 -0.3 0.1 1.4 1.8 2. ]"
   ]
  },
  {
   "cell_type": "code",
   "execution_count": 41,
   "id": "8fa2a543",
   "metadata": {},
   "outputs": [
    {
     "name": "stdout",
     "output_type": "stream",
     "text": [
      "\n",
      "floor\n",
      "[-2. -2. -1.  0.  1.  1.  2.]\n",
      "\n",
      "ceil\n",
      "[-1. -1. -0.  1.  2.  2.  2.]\n",
      "\n",
      "truncate\n",
      "[-1. -1. -0.  0.  1.  1.  2.]\n"
     ]
    }
   ],
   "source": [
    "x = np.array([-1.6, -1.5, -0.3, 0.1, 1.4, 1.8, 2.])\n",
    "\n",
    "print(\"\\nfloor\")\n",
    "print(np.floor(x))\n",
    "\n",
    "print(\"\\nceil\")\n",
    "print(np.ceil(x))\n",
    "\n",
    "print(\"\\ntruncate\")\n",
    "print(np.trunc(x)) \n"
   ]
  },
  {
   "cell_type": "markdown",
   "id": "9434026c",
   "metadata": {},
   "source": [
    "### Questions 10\n",
    "\n",
    "Write a NumPy program to display all the dates for the month of March, 2017"
   ]
  },
  {
   "cell_type": "code",
   "execution_count": 57,
   "id": "67332471",
   "metadata": {},
   "outputs": [
    {
     "name": "stdout",
     "output_type": "stream",
     "text": [
      "['2017-03-01' '2017-03-02' '2017-03-03' '2017-03-04' '2017-03-05'\n",
      " '2017-03-06' '2017-03-07' '2017-03-08' '2017-03-09' '2017-03-10'\n",
      " '2017-03-11' '2017-03-12' '2017-03-13' '2017-03-14' '2017-03-15'\n",
      " '2017-03-16' '2017-03-17' '2017-03-18' '2017-03-19' '2017-03-20'\n",
      " '2017-03-21' '2017-03-22' '2017-03-23' '2017-03-24' '2017-03-25'\n",
      " '2017-03-26' '2017-03-27' '2017-03-28' '2017-03-29' '2017-03-30'\n",
      " '2017-03-31']\n"
     ]
    }
   ],
   "source": [
    "x= np.arange('2017-03', '2017-04', dtype='datetime64[D]')\n",
    "print(x)\n"
   ]
  },
  {
   "cell_type": "markdown",
   "id": "34eb3ebf",
   "metadata": {},
   "source": [
    "### Question 11\n",
    "\n",
    "Write a NumPy program to create 24 python datetime.datetime objects (single object for every hour), and then put it in a numpy array."
   ]
  },
  {
   "cell_type": "code",
   "execution_count": 73,
   "id": "705b235f",
   "metadata": {},
   "outputs": [
    {
     "name": "stdout",
     "output_type": "stream",
     "text": [
      "2023-01-01 00:00:00\n",
      "2023-01-01 01:00:00\n",
      "2023-01-01 02:00:00\n",
      "2023-01-01 03:00:00\n",
      "2023-01-01 04:00:00\n",
      "2023-01-01 05:00:00\n",
      "2023-01-01 06:00:00\n",
      "2023-01-01 07:00:00\n",
      "2023-01-01 08:00:00\n",
      "2023-01-01 09:00:00\n",
      "2023-01-01 10:00:00\n",
      "2023-01-01 11:00:00\n",
      "2023-01-01 12:00:00\n",
      "2023-01-01 13:00:00\n",
      "2023-01-01 14:00:00\n",
      "2023-01-01 15:00:00\n",
      "2023-01-01 16:00:00\n",
      "2023-01-01 17:00:00\n",
      "2023-01-01 18:00:00\n",
      "2023-01-01 19:00:00\n",
      "2023-01-01 20:00:00\n",
      "2023-01-01 21:00:00\n",
      "2023-01-01 22:00:00\n",
      "2023-01-01 23:00:00\n"
     ]
    }
   ],
   "source": [
    "import datetime\n",
    "arr = np.empty(())\n",
    "start = datetime.datetime(2023, 1, 1)\n",
    "for i in range(24):\n",
    "    arr = start + datetime.timedelta(hours=i)\n",
    "    print(arr)"
   ]
  },
  {
   "cell_type": "markdown",
   "id": "e34c59d5",
   "metadata": {},
   "source": [
    "### Question 12\n",
    "\n",
    "Write a NumPy program to concatenate element-wise two arrays of string.<br>\n",
    "<b>Example <\\b>\n",
    "Array1:<br>\n",
    "['Python' 'PHP']<br>\n",
    "Array2:<br>\n",
    "[' Java' ' C++']<br>\n",
    "new array:<br>\n",
    "['Python Java' 'PHP C++']<br>"
   ]
  },
  {
   "cell_type": "code",
   "execution_count": 63,
   "id": "cd6b480c",
   "metadata": {},
   "outputs": [
    {
     "name": "stdout",
     "output_type": "stream",
     "text": [
      "\n",
      "arr1\n",
      "['Python' 'PHP']\n",
      "\n",
      "arr2:\n",
      "[' Java' ' C++']\n",
      "\n",
      "arr3\n",
      "['Python Java' 'PHP C++']\n"
     ]
    }
   ],
   "source": [
    "arr1 = np.array(['Python', 'PHP'], dtype=str)\n",
    "arr2 = np.array([' Java', ' C++'], dtype=str)\n",
    "\n",
    "print(\"\\narr1\")\n",
    "print(arr1)\n",
    "\n",
    "print(\"\\narr2:\")\n",
    "print(arr2)\n",
    "\n",
    "arr3 = np.char.add(arr1, arr2)\n",
    "\n",
    "print(\"\\narr3\")\n",
    "print(arr3)\n"
   ]
  }
 ],
 "metadata": {
  "kernelspec": {
   "display_name": "Python 3 (ipykernel)",
   "language": "python",
   "name": "python3"
  },
  "language_info": {
   "codemirror_mode": {
    "name": "ipython",
    "version": 3
   },
   "file_extension": ".py",
   "mimetype": "text/x-python",
   "name": "python",
   "nbconvert_exporter": "python",
   "pygments_lexer": "ipython3",
   "version": "3.11.4"
  }
 },
 "nbformat": 4,
 "nbformat_minor": 5
}
