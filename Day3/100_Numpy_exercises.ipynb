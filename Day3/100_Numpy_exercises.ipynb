{
 "cells": [
  {
   "cell_type": "markdown",
   "id": "6293cc50",
   "metadata": {},
   "source": [
    "# 100 numpy exercises\n",
    "\n",
    "This is a collection of exercises that have been collected in the numpy mailing list, on stack overflow\n",
    "and in the numpy documentation. The goal of this collection is to offer a quick reference for both old\n",
    "and new users but also to provide a set of exercises for those who teach.\n",
    "\n",
    "\n",
    "If you find an error or think you've a better way to solve some of them, feel\n",
    "free to open an issue at <https://github.com/rougier/numpy-100>."
   ]
  },
  {
   "cell_type": "markdown",
   "id": "a167c052",
   "metadata": {},
   "source": [
    "File automatically generated. See the documentation to update questions/answers/hints programmatically."
   ]
  },
  {
   "cell_type": "markdown",
   "id": "57fc0ee5",
   "metadata": {},
   "source": [
    "Run the `initialize.py` module, then for each question you can query the\n",
    "answer or an hint with `hint(n)` or `answer(n)` for `n` question number."
   ]
  },
  {
   "cell_type": "code",
   "execution_count": null,
   "id": "3d46fba2",
   "metadata": {},
   "outputs": [],
   "source": [
    "%run initialise.py"
   ]
  },
  {
   "cell_type": "markdown",
   "id": "3c1222ff",
   "metadata": {},
   "source": [
    "#### 1. Import the numpy package under the name `np` (★☆☆)"
   ]
  },
  {
   "cell_type": "code",
   "execution_count": 16,
   "id": "f52e6a0b",
   "metadata": {},
   "outputs": [],
   "source": [
    "import numpy as np"
   ]
  },
  {
   "cell_type": "markdown",
   "id": "9d9f4753",
   "metadata": {},
   "source": [
    "#### 2. Print the numpy version and the configuration (★☆☆)"
   ]
  },
  {
   "cell_type": "code",
   "execution_count": 17,
   "id": "b7fa5fa1",
   "metadata": {},
   "outputs": [
    {
     "name": "stdout",
     "output_type": "stream",
     "text": [
      "openblas64__info:\n",
      "    libraries = ['openblas64_', 'openblas64_']\n",
      "    library_dirs = ['openblas\\\\lib']\n",
      "    language = c\n",
      "    define_macros = [('HAVE_CBLAS', None), ('BLAS_SYMBOL_SUFFIX', '64_'), ('HAVE_BLAS_ILP64', None)]\n",
      "    runtime_library_dirs = ['openblas\\\\lib']\n",
      "blas_ilp64_opt_info:\n",
      "    libraries = ['openblas64_', 'openblas64_']\n",
      "    library_dirs = ['openblas\\\\lib']\n",
      "    language = c\n",
      "    define_macros = [('HAVE_CBLAS', None), ('BLAS_SYMBOL_SUFFIX', '64_'), ('HAVE_BLAS_ILP64', None)]\n",
      "    runtime_library_dirs = ['openblas\\\\lib']\n",
      "openblas64__lapack_info:\n",
      "    libraries = ['openblas64_', 'openblas64_']\n",
      "    library_dirs = ['openblas\\\\lib']\n",
      "    language = c\n",
      "    define_macros = [('HAVE_CBLAS', None), ('BLAS_SYMBOL_SUFFIX', '64_'), ('HAVE_BLAS_ILP64', None), ('HAVE_LAPACKE', None)]\n",
      "    runtime_library_dirs = ['openblas\\\\lib']\n",
      "lapack_ilp64_opt_info:\n",
      "    libraries = ['openblas64_', 'openblas64_']\n",
      "    library_dirs = ['openblas\\\\lib']\n",
      "    language = c\n",
      "    define_macros = [('HAVE_CBLAS', None), ('BLAS_SYMBOL_SUFFIX', '64_'), ('HAVE_BLAS_ILP64', None), ('HAVE_LAPACKE', None)]\n",
      "    runtime_library_dirs = ['openblas\\\\lib']\n",
      "Supported SIMD extensions in this NumPy install:\n",
      "    baseline = SSE,SSE2,SSE3\n",
      "    found = SSSE3,SSE41,POPCNT,SSE42,AVX,F16C,FMA3,AVX2\n",
      "    not found = AVX512F,AVX512CD,AVX512_SKX,AVX512_CLX,AVX512_CNL,AVX512_ICL\n",
      "1.25.0 None\n"
     ]
    }
   ],
   "source": [
    "print(np.__version__, np.show_config())"
   ]
  },
  {
   "cell_type": "markdown",
   "id": "3e4c23c6",
   "metadata": {},
   "source": [
    "#### 3. Create a null vector of size 10 (★☆☆)"
   ]
  },
  {
   "cell_type": "code",
   "execution_count": 18,
   "id": "083c5c46",
   "metadata": {},
   "outputs": [
    {
     "name": "stdout",
     "output_type": "stream",
     "text": [
      "[0. 0. 0. 0. 0. 0. 0. 0. 0. 0.]\n"
     ]
    }
   ],
   "source": [
    "null_vector = np.zeros(10)\n",
    "print(null_vector)"
   ]
  },
  {
   "cell_type": "markdown",
   "id": "c38bbe82",
   "metadata": {},
   "source": [
    "#### 4. How to find the memory size of any array (★☆☆)"
   ]
  },
  {
   "cell_type": "code",
   "execution_count": 19,
   "id": "02b04021",
   "metadata": {},
   "outputs": [
    {
     "name": "stdout",
     "output_type": "stream",
     "text": [
      "memory size:  16 bytes\n"
     ]
    }
   ],
   "source": [
    "arr = np.array([1,3,5,7], dtype=int)\n",
    "print(\"memory size: \", arr.size * arr.itemsize, \"bytes\")"
   ]
  },
  {
   "cell_type": "markdown",
   "id": "67f893d4",
   "metadata": {},
   "source": [
    "#### 5. How to get the documentation of the numpy add function from the command line? (★☆☆)"
   ]
  },
  {
   "cell_type": "code",
   "execution_count": 20,
   "id": "40e6b70d",
   "metadata": {},
   "outputs": [
    {
     "name": "stdout",
     "output_type": "stream",
     "text": [
      "add(x1, x2, /, out=None, *, where=True, casting='same_kind', order='K', dtype=None, subok=True[, signature, extobj])\n",
      "\n",
      "Add arguments element-wise.\n",
      "\n",
      "Parameters\n",
      "----------\n",
      "x1, x2 : array_like\n",
      "    The arrays to be added.\n",
      "    If ``x1.shape != x2.shape``, they must be broadcastable to a common\n",
      "    shape (which becomes the shape of the output).\n",
      "out : ndarray, None, or tuple of ndarray and None, optional\n",
      "    A location into which the result is stored. If provided, it must have\n",
      "    a shape that the inputs broadcast to. If not provided or None,\n",
      "    a freshly-allocated array is returned. A tuple (possible only as a\n",
      "    keyword argument) must have length equal to the number of outputs.\n",
      "where : array_like, optional\n",
      "    This condition is broadcast over the input. At locations where the\n",
      "    condition is True, the `out` array will be set to the ufunc result.\n",
      "    Elsewhere, the `out` array will retain its original value.\n",
      "    Note that if an uninitialized `out` array is created via the default\n",
      "    ``out=None``, locations within it where the condition is False will\n",
      "    remain uninitialized.\n",
      "**kwargs\n",
      "    For other keyword-only arguments, see the\n",
      "    :ref:`ufunc docs <ufuncs.kwargs>`.\n",
      "\n",
      "Returns\n",
      "-------\n",
      "add : ndarray or scalar\n",
      "    The sum of `x1` and `x2`, element-wise.\n",
      "    This is a scalar if both `x1` and `x2` are scalars.\n",
      "\n",
      "Notes\n",
      "-----\n",
      "Equivalent to `x1` + `x2` in terms of array broadcasting.\n",
      "\n",
      "Examples\n",
      "--------\n",
      ">>> np.add(1.0, 4.0)\n",
      "5.0\n",
      ">>> x1 = np.arange(9.0).reshape((3, 3))\n",
      ">>> x2 = np.arange(3.0)\n",
      ">>> np.add(x1, x2)\n",
      "array([[  0.,   2.,   4.],\n",
      "       [  3.,   5.,   7.],\n",
      "       [  6.,   8.,  10.]])\n",
      "\n",
      "The ``+`` operator can be used as a shorthand for ``np.add`` on ndarrays.\n",
      "\n",
      ">>> x1 = np.arange(9.0).reshape((3, 3))\n",
      ">>> x2 = np.arange(3.0)\n",
      ">>> x1 + x2\n",
      "array([[ 0.,  2.,  4.],\n",
      "       [ 3.,  5.,  7.],\n",
      "       [ 6.,  8., 10.]])\n",
      "None\n"
     ]
    }
   ],
   "source": [
    "print(np.info(np.add))"
   ]
  },
  {
   "cell_type": "markdown",
   "id": "e0c739c6",
   "metadata": {},
   "source": [
    "#### 6. Create a null vector of size 10 but the fifth value which is 1 (★☆☆)"
   ]
  },
  {
   "cell_type": "code",
   "execution_count": 26,
   "id": "bcceacf7",
   "metadata": {},
   "outputs": [
    {
     "name": "stdout",
     "output_type": "stream",
     "text": [
      "[0. 0. 0. 0. 1. 0. 0. 0. 0. 0.]\n"
     ]
    }
   ],
   "source": [
    "arr = np.zeros(10)\n",
    "arr[4] = 1\n",
    "print(arr)"
   ]
  },
  {
   "cell_type": "markdown",
   "id": "fbebedab",
   "metadata": {},
   "source": [
    "#### 7. Create a vector with values ranging from 10 to 49 (★☆☆)"
   ]
  },
  {
   "cell_type": "code",
   "execution_count": 27,
   "id": "3d117d54",
   "metadata": {},
   "outputs": [
    {
     "name": "stdout",
     "output_type": "stream",
     "text": [
      "[10 11 12 13 14 15 16 17 18 19 20 21 22 23 24 25 26 27 28 29 30 31 32 33\n",
      " 34 35 36 37 38 39 40 41 42 43 44 45 46 47 48 49]\n"
     ]
    }
   ],
   "source": [
    "vector = np.arange(10,50)\n",
    "print(vector)"
   ]
  },
  {
   "cell_type": "markdown",
   "id": "ad0bff02",
   "metadata": {},
   "source": [
    "#### 8. Reverse a vector (first element becomes last) (★☆☆)"
   ]
  },
  {
   "cell_type": "code",
   "execution_count": 28,
   "id": "22d23470",
   "metadata": {},
   "outputs": [
    {
     "name": "stdout",
     "output_type": "stream",
     "text": [
      "[49 48 47 46 45 44 43 42 41 40 39 38 37 36 35 34 33 32 31 30 29 28 27 26\n",
      " 25 24 23 22 21 20 19 18 17 16 15 14 13 12 11 10]\n"
     ]
    }
   ],
   "source": [
    "reverse_vector = np.flip(vector)\n",
    "print(reverse_vector)"
   ]
  },
  {
   "cell_type": "markdown",
   "id": "9f59d7e1",
   "metadata": {},
   "source": [
    "#### 9. Create a 3x3 matrix with values ranging from 0 to 8 (★☆☆)"
   ]
  },
  {
   "cell_type": "code",
   "execution_count": 29,
   "id": "7449e82d",
   "metadata": {},
   "outputs": [
    {
     "name": "stdout",
     "output_type": "stream",
     "text": [
      "[[0 1 2]\n",
      " [3 4 5]\n",
      " [6 7 8]]\n"
     ]
    }
   ],
   "source": [
    "matrix_3by3 = np.arange(0,9)\n",
    "matrix_3by3 = matrix_3by3.reshape(3,3)\n",
    "print(matrix_3by3)\n"
   ]
  },
  {
   "cell_type": "markdown",
   "id": "f374c4cf",
   "metadata": {},
   "source": [
    "#### 10. Find indices of non-zero elements from [1,2,0,0,4,0] (★☆☆)"
   ]
  },
  {
   "cell_type": "code",
   "execution_count": 31,
   "id": "1a84bed8",
   "metadata": {},
   "outputs": [
    {
     "name": "stdout",
     "output_type": "stream",
     "text": [
      "(array([0, 1, 4], dtype=int64),)\n"
     ]
    }
   ],
   "source": [
    "arr = [1,2,0,0,4,0]\n",
    "arr = np.nonzero(arr)\n",
    "print(arr)\n"
   ]
  },
  {
   "cell_type": "markdown",
   "id": "9c4707f5",
   "metadata": {},
   "source": [
    "#### 11. Create a 3x3 identity matrix (★☆☆)"
   ]
  },
  {
   "cell_type": "code",
   "execution_count": 33,
   "id": "29dc1fd3",
   "metadata": {},
   "outputs": [
    {
     "name": "stdout",
     "output_type": "stream",
     "text": [
      "[[1. 0. 0.]\n",
      " [0. 1. 0.]\n",
      " [0. 0. 1.]]\n"
     ]
    }
   ],
   "source": [
    "arr = np.eye(3,3)\n",
    "print(arr)"
   ]
  },
  {
   "cell_type": "markdown",
   "id": "3bac294a",
   "metadata": {},
   "source": [
    "#### 12. Create a 3x3x3 array with random values (★☆☆)"
   ]
  },
  {
   "cell_type": "code",
   "execution_count": 40,
   "id": "eadfae67",
   "metadata": {},
   "outputs": [
    {
     "name": "stdout",
     "output_type": "stream",
     "text": [
      "[[[0.55396093 0.61572708 0.72323432]\n",
      "  [0.90213992 0.65425647 0.89061607]\n",
      "  [0.06984668 0.58225727 0.53495324]]\n",
      "\n",
      " [[0.37260605 0.37587855 0.87440633]\n",
      "  [0.93731213 0.03435059 0.27479527]\n",
      "  [0.20001159 0.55841163 0.56762666]]\n",
      "\n",
      " [[0.95447248 0.97996744 0.14086087]\n",
      "  [0.55567254 0.56010474 0.8971756 ]\n",
      "  [0.98822187 0.6731284  0.91732848]]]\n"
     ]
    }
   ],
   "source": [
    "arr = np.random.random((3,3,3))\n",
    "print(arr)"
   ]
  },
  {
   "cell_type": "markdown",
   "id": "466c2989",
   "metadata": {},
   "source": [
    "#### 13. Create a 10x10 array with random values and find the minimum and maximum values (★☆☆)"
   ]
  },
  {
   "cell_type": "code",
   "execution_count": 46,
   "id": "9a74dbfc",
   "metadata": {},
   "outputs": [
    {
     "name": "stdout",
     "output_type": "stream",
     "text": [
      "minimum value is: 0.006942185349661734 and maximum value is: 0.99110537420025\n"
     ]
    }
   ],
   "source": [
    "arr = np.random.random((10,10))\n",
    "print(f\"minimum value is: {arr.min()} and maximum value is: {arr.max()}\")"
   ]
  },
  {
   "cell_type": "markdown",
   "id": "53a8edb2",
   "metadata": {},
   "source": [
    "#### 14. Create a random vector of size 30 and find the mean value (★☆☆)"
   ]
  },
  {
   "cell_type": "code",
   "execution_count": 50,
   "id": "6691530b",
   "metadata": {},
   "outputs": [
    {
     "name": "stdout",
     "output_type": "stream",
     "text": [
      "mean value is: 0.42511036790751694\n"
     ]
    }
   ],
   "source": [
    "arr = np.random.random(30)\n",
    "print(f\"mean value is: {arr.mean()}\")"
   ]
  },
  {
   "cell_type": "markdown",
   "id": "cbaad31c",
   "metadata": {},
   "source": [
    "#### 15. Create a 2d array with 1 on the border and 0 inside (★☆☆)"
   ]
  },
  {
   "cell_type": "code",
   "execution_count": 52,
   "id": "ad8308e3",
   "metadata": {},
   "outputs": [
    {
     "name": "stdout",
     "output_type": "stream",
     "text": [
      "[[1. 1. 1. 1. 1.]\n",
      " [1. 0. 0. 0. 1.]\n",
      " [1. 0. 0. 0. 1.]\n",
      " [1. 0. 0. 0. 1.]\n",
      " [1. 1. 1. 1. 1.]]\n"
     ]
    }
   ],
   "source": [
    "arr = np.ones((5,5))\n",
    "arr[1:-1, 1:-1] = 0\n",
    "print(arr)"
   ]
  },
  {
   "cell_type": "markdown",
   "id": "c5ecc267",
   "metadata": {},
   "source": [
    "#### 16. How to add a border (filled with 0's) around an existing array? (★☆☆)"
   ]
  },
  {
   "cell_type": "code",
   "execution_count": 63,
   "id": "9d5c78c4",
   "metadata": {},
   "outputs": [
    {
     "name": "stdout",
     "output_type": "stream",
     "text": [
      "[[0. 0. 0. 0. 0. 0.]\n",
      " [0. 1. 1. 1. 1. 0.]\n",
      " [0. 1. 1. 1. 1. 0.]\n",
      " [0. 1. 1. 1. 1. 0.]\n",
      " [0. 1. 1. 1. 1. 0.]\n",
      " [0. 0. 0. 0. 0. 0.]]\n"
     ]
    }
   ],
   "source": [
    "arr = np.ones((4,4))\n",
    "arr = np.pad(arr, pad_width=1, constant_values=0)\n",
    "print(arr)"
   ]
  },
  {
   "cell_type": "markdown",
   "id": "ef909b72",
   "metadata": {},
   "source": [
    "#### 17. What is the result of the following expression? (★☆☆)\n",
    "```python\n",
    "0 * np.nan\n",
    "np.nan == np.nan\n",
    "np.inf > np.nan\n",
    "np.nan - np.nan\n",
    "np.nan in set([np.nan])\n",
    "0.3 == 3 * 0.1\n",
    "```"
   ]
  },
  {
   "cell_type": "code",
   "execution_count": 64,
   "id": "3b4985f2",
   "metadata": {},
   "outputs": [
    {
     "name": "stdout",
     "output_type": "stream",
     "text": [
      "nan\n",
      "False\n",
      "False\n",
      "nan\n",
      "True\n",
      "False\n"
     ]
    }
   ],
   "source": [
    "print(0 * np.nan)\n",
    "print(np.nan == np.nan)\n",
    "print(np.inf > np.nan)\n",
    "print(np.nan - np.nan)\n",
    "print(np.nan in set([np.nan]))\n",
    "print(0.3 == 3 * 0.1)"
   ]
  },
  {
   "cell_type": "markdown",
   "id": "502738ac",
   "metadata": {},
   "source": [
    "#### 18. Create a 5x5 matrix with values 1,2,3,4 just below the diagonal (★☆☆)"
   ]
  },
  {
   "cell_type": "code",
   "execution_count": 65,
   "id": "faed6e2b",
   "metadata": {},
   "outputs": [
    {
     "name": "stdout",
     "output_type": "stream",
     "text": [
      "[[0 0 0 0 0]\n",
      " [1 0 0 0 0]\n",
      " [0 2 0 0 0]\n",
      " [0 0 3 0 0]\n",
      " [0 0 0 4 0]]\n"
     ]
    }
   ],
   "source": [
    "arr = np.diag([1,2,3,4], k=-1)\n",
    "print(arr)"
   ]
  },
  {
   "cell_type": "markdown",
   "id": "a65da660",
   "metadata": {},
   "source": [
    "#### 19. Create a 8x8 matrix and fill it with a checkerboard pattern (★☆☆)"
   ]
  },
  {
   "cell_type": "code",
   "execution_count": 66,
   "id": "ed150400",
   "metadata": {},
   "outputs": [
    {
     "name": "stdout",
     "output_type": "stream",
     "text": [
      "[[0 1 0 1 0 1 0 1]\n",
      " [1 0 1 0 1 0 1 0]\n",
      " [0 1 0 1 0 1 0 1]\n",
      " [1 0 1 0 1 0 1 0]\n",
      " [0 1 0 1 0 1 0 1]\n",
      " [1 0 1 0 1 0 1 0]\n",
      " [0 1 0 1 0 1 0 1]\n",
      " [1 0 1 0 1 0 1 0]]\n"
     ]
    }
   ],
   "source": [
    "x = np.zeros((8, 8), dtype=int)\n",
    "x[1::2, ::2] = 1  \n",
    "x[::2, 1::2] = 1 \n",
    "print(x) "
   ]
  },
  {
   "cell_type": "markdown",
   "id": "9f7f9c49",
   "metadata": {},
   "source": [
    "#### 20. Consider a (6,7,8) shape array, what is the index (x,y,z) of the 100th element? (★☆☆)"
   ]
  },
  {
   "cell_type": "code",
   "execution_count": 67,
   "id": "3782b5a9",
   "metadata": {},
   "outputs": [
    {
     "name": "stdout",
     "output_type": "stream",
     "text": [
      "(1, 5, 3)\n"
     ]
    }
   ],
   "source": [
    "print(np.unravel_index(99,(6,7,8)))"
   ]
  },
  {
   "cell_type": "markdown",
   "id": "66bfda35",
   "metadata": {},
   "source": [
    "#### 21. Create a checkerboard 8x8 matrix using the tile function (★☆☆)"
   ]
  },
  {
   "cell_type": "code",
   "execution_count": 7,
   "id": "4c07477c",
   "metadata": {},
   "outputs": [
    {
     "name": "stdout",
     "output_type": "stream",
     "text": [
      "[[0 1 0 1 0 1 0 1]\n",
      " [1 0 1 0 1 0 1 0]\n",
      " [0 1 0 1 0 1 0 1]\n",
      " [1 0 1 0 1 0 1 0]\n",
      " [0 1 0 1 0 1 0 1]\n",
      " [1 0 1 0 1 0 1 0]\n",
      " [0 1 0 1 0 1 0 1]\n",
      " [1 0 1 0 1 0 1 0]]\n"
     ]
    }
   ],
   "source": [
    "arr = np.tile([[0,1],[1,0]],[4,4])\n",
    "print(arr)"
   ]
  },
  {
   "cell_type": "markdown",
   "id": "d5bcfc08",
   "metadata": {},
   "source": [
    "#### 22. Normalize a 5x5 random matrix (★☆☆)"
   ]
  },
  {
   "cell_type": "code",
   "execution_count": 12,
   "id": "cea6c993",
   "metadata": {},
   "outputs": [
    {
     "name": "stdout",
     "output_type": "stream",
     "text": [
      "[[15  3  2  8 14]\n",
      " [12 11 14 16  4]\n",
      " [ 1 17 14  9  8]\n",
      " [12 15  6  9  2]\n",
      " [19 16 16  1 18]]\n",
      "[[0.78947368 0.15789474 0.10526316 0.42105263 0.73684211]\n",
      " [0.63157895 0.57894737 0.73684211 0.84210526 0.21052632]\n",
      " [0.05263158 0.89473684 0.73684211 0.47368421 0.42105263]\n",
      " [0.63157895 0.78947368 0.31578947 0.47368421 0.10526316]\n",
      " [1.         0.84210526 0.84210526 0.05263158 0.94736842]]\n"
     ]
    }
   ],
   "source": [
    "from numpy import random \n",
    "arr = random.randint(20, size=(5,5))\n",
    "print(arr)\n",
    "arr = arr/np.max(arr)\n",
    "print(arr)"
   ]
  },
  {
   "cell_type": "markdown",
   "id": "f9a0911e",
   "metadata": {},
   "source": [
    "#### 23. Create a custom dtype that describes a color as four unsigned bytes (RGBA) (★☆☆)"
   ]
  },
  {
   "cell_type": "code",
   "execution_count": 64,
   "id": "d165044b",
   "metadata": {},
   "outputs": [
    {
     "name": "stdout",
     "output_type": "stream",
     "text": [
      "[(255,   0,   0, 255) (  0, 255,   0, 255) (  0,   0, 255, 255)\n",
      " (128, 128,   0, 255)]\n"
     ]
    }
   ],
   "source": [
    "color_dtype = np.dtype([('R', np.uint8), ('G', np.uint8), ('B', np.uint8), ('A', np.uint8)])\n",
    "\n",
    "colors = np.array([(255, 0, 0, 255), \n",
    "                   (0, 255, 0, 255), \n",
    "                   (0, 0, 255, 255), \n",
    "                   (128, 128, 0, 255)], \n",
    "                  dtype=color_dtype)\n",
    "print(colors)\n"
   ]
  },
  {
   "cell_type": "markdown",
   "id": "654805b1",
   "metadata": {},
   "source": [
    "#### 24. Multiply a 5x3 matrix by a 3x2 matrix (real matrix product) (★☆☆)"
   ]
  },
  {
   "cell_type": "code",
   "execution_count": 63,
   "id": "6a42619f",
   "metadata": {},
   "outputs": [
    {
     "name": "stdout",
     "output_type": "stream",
     "text": [
      "[[105 162]\n",
      " [283 362]\n",
      " [223 328]\n",
      " [181 249]\n",
      " [277 383]]\n"
     ]
    }
   ],
   "source": [
    "arr1 = random.randint(15, size=(5,3))\n",
    "arr2 = random.randint(15, size=(3,2))\n",
    "arr = np.dot(arr1,arr2)\n",
    "print(arr)"
   ]
  },
  {
   "cell_type": "markdown",
   "id": "994c25df",
   "metadata": {},
   "source": [
    "#### 25. Given a 1D array, negate all elements which are between 3 and 8, in place. (★☆☆)"
   ]
  },
  {
   "cell_type": "code",
   "execution_count": 61,
   "id": "e4b39c03",
   "metadata": {},
   "outputs": [
    {
     "name": "stdout",
     "output_type": "stream",
     "text": [
      "[ 1 -4 -6  9  2 -7 -5 12  8  3]\n"
     ]
    }
   ],
   "source": [
    "arr = np.array([1, 4, 6, 9, 2, 7, 5, 12, 8, 3])\n",
    "arr[(arr > 3) & (arr < 8)] *= -1\n",
    "print(arr)\n"
   ]
  },
  {
   "cell_type": "markdown",
   "id": "b7d15d1a",
   "metadata": {},
   "source": [
    "#### 26. What is the output of the following script? (★☆☆)\n",
    "```python\n",
    "# Author: Jake VanderPlas\n",
    "\n",
    "print(sum(range(5),-1))\n",
    "from numpy import *\n",
    "print(sum(range(5),-1))\n",
    "```"
   ]
  },
  {
   "cell_type": "code",
   "execution_count": 56,
   "id": "4c95bc3f",
   "metadata": {},
   "outputs": [
    {
     "name": "stdout",
     "output_type": "stream",
     "text": [
      "9\n",
      "10\n"
     ]
    }
   ],
   "source": [
    "print(sum(range(5), -1))\n",
    "from numpy import *\n",
    "print(sum(range(5), -1))"
   ]
  },
  {
   "cell_type": "markdown",
   "id": "a34f0d08",
   "metadata": {},
   "source": [
    "#### 27. Consider an integer vector Z, which of these expressions are legal? (★☆☆)\n",
    "```python\n",
    "Z**Z\n",
    "2 << Z >> 2\n",
    "Z <- Z\n",
    "1j*Z\n",
    "Z/1/1\n",
    "Z<Z>Z\n",
    "```"
   ]
  },
  {
   "cell_type": "code",
   "execution_count": 55,
   "id": "564658fc",
   "metadata": {},
   "outputs": [
    {
     "name": "stdout",
     "output_type": "stream",
     "text": [
      "Result 1: [  1   4  27 256]\n",
      "Result 2: [1 2 4 8]\n",
      "Result 3: [False False False False]\n",
      "Result 4: [0.+1.j 0.+2.j 0.+3.j 0.+4.j]\n",
      "Result 5: [1. 2. 3. 4.]\n",
      "Result 6: [False False False False]\n"
     ]
    }
   ],
   "source": [
    "Z = np.array([1, 2, 3, 4])\n",
    "res1 = Z**Z\n",
    "res2 = 2 << Z >> 2\n",
    "res3 = Z <- Z\n",
    "res4 = 1j*Z\n",
    "res5 = Z/1/1\n",
    "res6 = np.logical_and(Z < Z, Z > Z)\n",
    "\n",
    "print(\"Result 1:\", res1)\n",
    "print(\"Result 2:\", res2)\n",
    "print(\"Result 3:\", res3)\n",
    "print(\"Result 4:\", res4)\n",
    "print(\"Result 5:\", res5)\n",
    "print(\"Result 6:\", res6)"
   ]
  },
  {
   "cell_type": "markdown",
   "id": "c34e94bf",
   "metadata": {},
   "source": [
    "#### 28. What are the result of the following expressions? (★☆☆)\n",
    "```python\n",
    "np.array(0) / np.array(0)\n",
    "np.array(0) // np.array(0)\n",
    "np.array([np.nan]).astype(int).astype(float)\n",
    "```"
   ]
  },
  {
   "cell_type": "code",
   "execution_count": 15,
   "id": "56663562",
   "metadata": {},
   "outputs": [
    {
     "name": "stdout",
     "output_type": "stream",
     "text": [
      "Result 1: nan\n",
      "Result 2: 0\n",
      "Result 3: [-2.14748365e+09]\n"
     ]
    },
    {
     "name": "stderr",
     "output_type": "stream",
     "text": [
      "C:\\Users\\Zeshan\\AppData\\Local\\Temp\\ipykernel_2000\\1508490160.py:3: RuntimeWarning: invalid value encountered in divide\n",
      "  result1 = np.array(0) / np.array(0)\n",
      "C:\\Users\\Zeshan\\AppData\\Local\\Temp\\ipykernel_2000\\1508490160.py:4: RuntimeWarning: divide by zero encountered in floor_divide\n",
      "  result2 = np.array(0) // np.array(0)\n",
      "C:\\Users\\Zeshan\\AppData\\Local\\Temp\\ipykernel_2000\\1508490160.py:5: RuntimeWarning: invalid value encountered in cast\n",
      "  result3 = np.array([np.nan]).astype(int).astype(float)\n"
     ]
    }
   ],
   "source": [
    "import numpy as np\n",
    "\n",
    "result1 = np.array(0) / np.array(0)\n",
    "result2 = np.array(0) // np.array(0)\n",
    "result3 = np.array([np.nan]).astype(int).astype(float)\n",
    "\n",
    "print(\"Result 1:\", result1)\n",
    "print(\"Result 2:\", result2)\n",
    "print(\"Result 3:\", result3)\n"
   ]
  },
  {
   "cell_type": "markdown",
   "id": "546f5e7b",
   "metadata": {},
   "source": [
    "#### 29. How to round away from zero a float array ? (★☆☆)"
   ]
  },
  {
   "cell_type": "code",
   "execution_count": 49,
   "id": "f725a6d2",
   "metadata": {},
   "outputs": [
    {
     "name": "stdout",
     "output_type": "stream",
     "text": [
      "[[4. 9. 9. 5. 9.]\n",
      " [2. 4. 7. 1. 6.]\n",
      " [5. 5. 8. 3. 1.]\n",
      " [1. 2. 4. 7. 7.]\n",
      " [2. 3. 2. 4. 6.]]\n"
     ]
    }
   ],
   "source": [
    "from numpy import random \n",
    "arr = random.rand(5,5)*10\n",
    "arr = np.round(arr)\n",
    "\n",
    "print(arr)"
   ]
  },
  {
   "cell_type": "markdown",
   "id": "eadca856",
   "metadata": {},
   "source": [
    "#### 30. How to find common values between two arrays? (★☆☆)"
   ]
  },
  {
   "cell_type": "code",
   "execution_count": 35,
   "id": "e0270b5b",
   "metadata": {},
   "outputs": [
    {
     "name": "stdout",
     "output_type": "stream",
     "text": [
      "[2 4 6 8]\n"
     ]
    }
   ],
   "source": [
    "arr1 = [1,2,3,4,5,6,7,8]\n",
    "arr2 = [2,4,6,8]\n",
    "print(np.intersect1d(arr1,arr2))"
   ]
  },
  {
   "cell_type": "markdown",
   "id": "ca16ca22",
   "metadata": {},
   "source": [
    "#### 31. How to ignore all numpy warnings (not recommended)? (★☆☆)"
   ]
  },
  {
   "cell_type": "code",
   "execution_count": 36,
   "id": "7d7208ef",
   "metadata": {},
   "outputs": [
    {
     "name": "stdout",
     "output_type": "stream",
     "text": [
      "nan\n",
      "1j\n",
      "False\n"
     ]
    },
    {
     "name": "stderr",
     "output_type": "stream",
     "text": [
      "C:\\Users\\Zeshan\\AppData\\Local\\Temp\\ipykernel_10004\\821839409.py:4: RuntimeWarning: invalid value encountered in sqrt\n",
      "  left_side= np.sqrt(-1)\n"
     ]
    }
   ],
   "source": [
    "import warnings\n",
    "warnings.filterwarnings(\"ignore\", category=np.VisibleDeprecationWarning)\n",
    "# enter your code here\n",
    "warnings.resetwarnings()"
   ]
  },
  {
   "cell_type": "markdown",
   "id": "c7871d0d",
   "metadata": {},
   "source": [
    "#### 32. Is the following expressions true? (★☆☆)\n",
    "```python\n",
    "np.sqrt(-1) == np.emath.sqrt(-1)\n",
    "```"
   ]
  },
  {
   "cell_type": "code",
   "execution_count": 34,
   "id": "acc3701a",
   "metadata": {},
   "outputs": [
    {
     "name": "stdout",
     "output_type": "stream",
     "text": [
      "nan\n",
      "1j\n",
      "False\n"
     ]
    },
    {
     "name": "stderr",
     "output_type": "stream",
     "text": [
      "C:\\Users\\Zeshan\\AppData\\Local\\Temp\\ipykernel_10004\\3806215031.py:1: RuntimeWarning: invalid value encountered in sqrt\n",
      "  left_side= np.sqrt(-1)\n"
     ]
    }
   ],
   "source": [
    "left_side= np.sqrt(-1)\n",
    "right_side = np.emath.sqrt(-1)\n",
    "print(left_side)\n",
    "print(right_side)\n",
    "print(left_side== right_side)"
   ]
  },
  {
   "cell_type": "markdown",
   "id": "e0433e30",
   "metadata": {},
   "source": [
    "#### 33. How to get the dates of yesterday, today and tomorrow? (★☆☆)"
   ]
  },
  {
   "cell_type": "code",
   "execution_count": 27,
   "id": "9c4d2152",
   "metadata": {},
   "outputs": [
    {
     "name": "stdout",
     "output_type": "stream",
     "text": [
      "2023-12-20\n",
      "2023-12-19\n",
      "2023-12-21\n"
     ]
    }
   ],
   "source": [
    "today = np.datetime64('today', 'D')\n",
    "yesterday = np.datetime64('today', 'D') - np.timedelta64(1, 'D')\n",
    "tomorrow =np.datetime64('today', 'D') + np.timedelta64(1, 'D')\n",
    "print(today)\n",
    "print(yesterday)\n",
    "print(tomorrow)"
   ]
  },
  {
   "cell_type": "markdown",
   "id": "9f52a2ef",
   "metadata": {},
   "source": [
    "#### 34. How to get all the dates corresponding to the month of July 2016? (★★☆)"
   ]
  },
  {
   "cell_type": "code",
   "execution_count": 26,
   "id": "d6c34dec",
   "metadata": {},
   "outputs": [
    {
     "name": "stdout",
     "output_type": "stream",
     "text": [
      "['2016-07-01' '2016-07-02' '2016-07-03' '2016-07-04' '2016-07-05'\n",
      " '2016-07-06' '2016-07-07' '2016-07-08' '2016-07-09' '2016-07-10'\n",
      " '2016-07-11' '2016-07-12' '2016-07-13' '2016-07-14' '2016-07-15'\n",
      " '2016-07-16' '2016-07-17' '2016-07-18' '2016-07-19' '2016-07-20'\n",
      " '2016-07-21' '2016-07-22' '2016-07-23' '2016-07-24' '2016-07-25'\n",
      " '2016-07-26' '2016-07-27' '2016-07-28' '2016-07-29' '2016-07-30'\n",
      " '2016-07-31']\n"
     ]
    }
   ],
   "source": [
    "print(np.arange('2016-07', '2016-08', dtype=\"datetime64[D]\"))"
   ]
  },
  {
   "cell_type": "markdown",
   "id": "4a64e059",
   "metadata": {},
   "source": [
    "#### 35. How to compute ((A+B)*(-A/2)) in place (without copy)? (★★☆)"
   ]
  },
  {
   "cell_type": "code",
   "execution_count": 62,
   "id": "49267f60",
   "metadata": {},
   "outputs": [
    {
     "name": "stdout",
     "output_type": "stream",
     "text": [
      "[ -4 -24 -45]\n"
     ]
    }
   ],
   "source": [
    "A = np.array([2, 4, 6])\n",
    "B = np.array([2, 8, 9])\n",
    "B += A        \n",
    "B *= (-(A/2)).astype(A.dtype)    \n",
    "print(B)\n"
   ]
  },
  {
   "cell_type": "markdown",
   "id": "8a98c2a8",
   "metadata": {},
   "source": [
    "#### 36. Extract the integer part of a random array of positive numbers using 4 different methods (★★☆)"
   ]
  },
  {
   "cell_type": "code",
   "execution_count": 23,
   "id": "368130b3",
   "metadata": {},
   "outputs": [
    {
     "name": "stdout",
     "output_type": "stream",
     "text": [
      "Method 1: [3 1 3]\n",
      "Method 2: [3 1 3]\n",
      "Method 3: [3 1 3]\n",
      "Method 4: [3 1 3]\n"
     ]
    }
   ],
   "source": [
    "arr = np.random.rand(3) * 6 \n",
    "\n",
    "method1 = np.floor(arr).astype(int)\n",
    "print(\"Method 1:\", method1)\n",
    "\n",
    "method2 = np.trunc(arr).astype(int)\n",
    "print(\"Method 2:\", method2)\n",
    "\n",
    "method3 = arr.astype(int)\n",
    "print(\"Method 3:\", method3)\n",
    "\n",
    "method4 = np.int_(arr)\n",
    "print(\"Method 4:\", method4)\n"
   ]
  },
  {
   "cell_type": "markdown",
   "id": "5a2e3d85",
   "metadata": {},
   "source": [
    "#### 37. Create a 5x5 matrix with row values ranging from 0 to 4 (★★☆)"
   ]
  },
  {
   "cell_type": "code",
   "execution_count": 66,
   "id": "1d974e8f",
   "metadata": {},
   "outputs": [
    {
     "name": "stdout",
     "output_type": "stream",
     "text": [
      "[[0 1 2 3 4]\n",
      " [0 1 2 3 4]\n",
      " [0 1 2 3 4]\n",
      " [0 1 2 3 4]\n",
      " [0 1 2 3 4]]\n"
     ]
    }
   ],
   "source": [
    "matrix = np.tile(np.arange(5), (5, 1))\n",
    "print(matrix)\n"
   ]
  },
  {
   "cell_type": "markdown",
   "id": "9720e2d5",
   "metadata": {},
   "source": [
    "#### 38. Consider a generator function that generates 10 integers and use it to build an array (★☆☆)"
   ]
  },
  {
   "cell_type": "code",
   "execution_count": 67,
   "id": "e5dd8fc9",
   "metadata": {},
   "outputs": [
    {
     "name": "stdout",
     "output_type": "stream",
     "text": [
      "[0 1 2 3 4 5 6 7 8 9]\n"
     ]
    }
   ],
   "source": [
    "def generate_integers():\n",
    "    for i in range(10):\n",
    "        yield i\n",
    "\n",
    "arr = np.fromiter(generate_integers(), dtype=int)\n",
    "print(arr)"
   ]
  },
  {
   "cell_type": "markdown",
   "id": "c6f2c912",
   "metadata": {},
   "source": [
    "#### 39. Create a vector of size 10 with values ranging from 0 to 1, both excluded (★★☆)"
   ]
  },
  {
   "cell_type": "code",
   "execution_count": 68,
   "id": "6aaa27d3",
   "metadata": {},
   "outputs": [
    {
     "name": "stdout",
     "output_type": "stream",
     "text": [
      "[0.09090909 0.18181818 0.27272727 0.36363636 0.45454545 0.54545455\n",
      " 0.63636364 0.72727273 0.81818182 0.90909091]\n"
     ]
    }
   ],
   "source": [
    "vector = np.linspace(0, 1, 12)[1:-1]\n",
    "print(vector)"
   ]
  },
  {
   "cell_type": "markdown",
   "id": "a36d6ee4",
   "metadata": {},
   "source": [
    "#### 40. Create a random vector of size 10 and sort it (★★☆)"
   ]
  },
  {
   "cell_type": "code",
   "execution_count": 5,
   "id": "e589d216",
   "metadata": {},
   "outputs": [
    {
     "name": "stdout",
     "output_type": "stream",
     "text": [
      "[0 1 3 5 6 6 6 7 8 9]\n"
     ]
    }
   ],
   "source": [
    "arr = random.randint(10, size=10)\n",
    "arr=np.sort(arr)\n",
    "print(arr)"
   ]
  },
  {
   "cell_type": "markdown",
   "id": "0fb4ad68",
   "metadata": {},
   "source": [
    "#### 41. How to sum a small array faster than np.sum? (★★☆)"
   ]
  },
  {
   "cell_type": "code",
   "execution_count": 7,
   "id": "a1ba05a0",
   "metadata": {},
   "outputs": [
    {
     "name": "stdout",
     "output_type": "stream",
     "text": [
      "45\n"
     ]
    }
   ],
   "source": [
    "arr = np.arange(10)\n",
    "arr = np.add.reduce(arr)\n",
    "print(arr)\n"
   ]
  },
  {
   "cell_type": "markdown",
   "id": "024ac365",
   "metadata": {},
   "source": [
    "#### 42. Consider two random array A and B, check if they are equal (★★☆)"
   ]
  },
  {
   "cell_type": "code",
   "execution_count": 9,
   "id": "7db3846d",
   "metadata": {},
   "outputs": [
    {
     "name": "stdout",
     "output_type": "stream",
     "text": [
      "False\n",
      "False\n"
     ]
    }
   ],
   "source": [
    "A = np.random.randint(0,3,6)\n",
    "B = np.random.randint(0,3,6)\n",
    "\n",
    "equal = np.allclose(A,B)\n",
    "print(equal)\n",
    "\n",
    "equal = np.array_equal(A,B)\n",
    "print(equal)"
   ]
  },
  {
   "cell_type": "markdown",
   "id": "c68d2401",
   "metadata": {},
   "source": [
    "#### 43. Make an array immutable (read-only) (★★☆)"
   ]
  },
  {
   "cell_type": "code",
   "execution_count": 12,
   "id": "7828539d",
   "metadata": {},
   "outputs": [
    {
     "ename": "ValueError",
     "evalue": "assignment destination is read-only",
     "output_type": "error",
     "traceback": [
      "\u001b[1;31m---------------------------------------------------------------------------\u001b[0m",
      "\u001b[1;31mValueError\u001b[0m                                Traceback (most recent call last)",
      "Cell \u001b[1;32mIn[12], line 3\u001b[0m\n\u001b[0;32m      1\u001b[0m arr \u001b[38;5;241m=\u001b[39m np\u001b[38;5;241m.\u001b[39mzeros(\u001b[38;5;241m5\u001b[39m)\n\u001b[0;32m      2\u001b[0m arr\u001b[38;5;241m.\u001b[39mflags\u001b[38;5;241m.\u001b[39mwriteable \u001b[38;5;241m=\u001b[39m \u001b[38;5;28;01mFalse\u001b[39;00m\n\u001b[1;32m----> 3\u001b[0m \u001b[43marr\u001b[49m\u001b[43m[\u001b[49m\u001b[38;5;241;43m0\u001b[39;49m\u001b[43m]\u001b[49m \u001b[38;5;241m=\u001b[39m \u001b[38;5;241m1\u001b[39m\n\u001b[0;32m      4\u001b[0m \u001b[38;5;28mprint\u001b[39m(arr)\n",
      "\u001b[1;31mValueError\u001b[0m: assignment destination is read-only"
     ]
    }
   ],
   "source": [
    "arr = np.zeros(5)\n",
    "arr.flags.writeable = False\n",
    "arr[0] = 1\n",
    "print(arr)"
   ]
  },
  {
   "cell_type": "markdown",
   "id": "55df6280",
   "metadata": {},
   "source": [
    "#### 44. Consider a random 10x2 matrix representing cartesian coordinates, convert them to polar coordinates (★★☆)"
   ]
  },
  {
   "cell_type": "code",
   "execution_count": 13,
   "id": "f1c86ea0",
   "metadata": {},
   "outputs": [
    {
     "name": "stdout",
     "output_type": "stream",
     "text": [
      "[1.02653317 1.01071099 0.98285902 0.91710382 0.45036511 0.88590044\n",
      " 0.67788681 0.86897095 0.27727855 0.8544488 ]\n",
      "[0.70133597 1.09259664 1.52427459 0.41398365 0.17226238 1.39788626\n",
      " 1.0987015  0.25492142 0.71860732 0.20231959]\n"
     ]
    }
   ],
   "source": [
    "arr = np.random.random((10,2))\n",
    "x,y = arr[:,0], arr[:,1]\n",
    "R = np.sqrt(x**2+y**2)\n",
    "T = np.arctan2(y,x)\n",
    "print(R)\n",
    "print(T)"
   ]
  },
  {
   "cell_type": "markdown",
   "id": "2f60f1ec",
   "metadata": {},
   "source": [
    "#### 45. Create random vector of size 10 and replace the maximum value by 0 (★★☆)"
   ]
  },
  {
   "cell_type": "code",
   "execution_count": 21,
   "id": "d9f48f1c",
   "metadata": {},
   "outputs": [
    {
     "name": "stdout",
     "output_type": "stream",
     "text": [
      "[0.34125777 0.88105723 0.38886282 0.01591473 0.34862141 0.59420825\n",
      " 0.4512922  0.32956549 0.30042031 0.        ]\n"
     ]
    }
   ],
   "source": [
    "arr = np.random.random(10)\n",
    "arr[arr.argmax()] = 0\n",
    "print(arr)"
   ]
  },
  {
   "cell_type": "markdown",
   "id": "084e8ad4",
   "metadata": {},
   "source": [
    "#### 46. Create a structured array with `x` and `y` coordinates covering the [0,1]x[0,1] area (★★☆)"
   ]
  },
  {
   "cell_type": "code",
   "execution_count": 22,
   "id": "58b47c13",
   "metadata": {},
   "outputs": [
    {
     "name": "stdout",
     "output_type": "stream",
     "text": [
      "[[(0.  , 0.  ) (0.25, 0.  ) (0.5 , 0.  ) (0.75, 0.  ) (1.  , 0.  )]\n",
      " [(0.  , 0.25) (0.25, 0.25) (0.5 , 0.25) (0.75, 0.25) (1.  , 0.25)]\n",
      " [(0.  , 0.5 ) (0.25, 0.5 ) (0.5 , 0.5 ) (0.75, 0.5 ) (1.  , 0.5 )]\n",
      " [(0.  , 0.75) (0.25, 0.75) (0.5 , 0.75) (0.75, 0.75) (1.  , 0.75)]\n",
      " [(0.  , 1.  ) (0.25, 1.  ) (0.5 , 1.  ) (0.75, 1.  ) (1.  , 1.  )]]\n"
     ]
    }
   ],
   "source": [
    "arr = np.zeros((5,5), [('x',float),('y',float)])\n",
    "arr['x'], arr['y'] = np.meshgrid(np.linspace(0,1,5),\n",
    "                             np.linspace(0,1,5))\n",
    "print(arr)"
   ]
  },
  {
   "cell_type": "markdown",
   "id": "d7b9bc42",
   "metadata": {},
   "source": [
    "#### 47. Given two arrays, X and Y, construct the Cauchy matrix C (Cij =1/(xi - yj)) (★★☆)"
   ]
  },
  {
   "cell_type": "code",
   "execution_count": 23,
   "id": "a24824fb",
   "metadata": {},
   "outputs": [
    {
     "name": "stdout",
     "output_type": "stream",
     "text": [
      "33961.93294480236\n"
     ]
    }
   ],
   "source": [
    "X = np.arange(10)\n",
    "Y = X + 0.5\n",
    "C = 1.0 / np.subtract.outer(X, Y)\n",
    "print(np.linalg.det(C))"
   ]
  },
  {
   "cell_type": "markdown",
   "id": "65ebc11b",
   "metadata": {},
   "source": [
    "#### 48. Print the minimum and maximum representable value for each numpy scalar type (★★☆)"
   ]
  },
  {
   "cell_type": "code",
   "execution_count": 25,
   "id": "e45d38fb",
   "metadata": {},
   "outputs": [
    {
     "name": "stdout",
     "output_type": "stream",
     "text": [
      "-128\n",
      "127\n",
      "-2147483648\n",
      "2147483647\n",
      "-9223372036854775808\n",
      "9223372036854775807\n",
      "-3.4028235e+38\n",
      "3.4028235e+38\n",
      "-1.7976931348623157e+308\n",
      "1.7976931348623157e+308\n"
     ]
    }
   ],
   "source": [
    "for dtype in [np.int8, np.int32, np.int64]:\n",
    "   print(np.iinfo(dtype).min)\n",
    "   print(np.iinfo(dtype).max)\n",
    "for dtype in [np.float32, np.float64]:\n",
    "   print(np.finfo(dtype).min)\n",
    "   print(np.finfo(dtype).max)"
   ]
  },
  {
   "cell_type": "markdown",
   "id": "9b317a98",
   "metadata": {},
   "source": [
    "#### 49. How to print all the values of an array? (★★☆)"
   ]
  },
  {
   "cell_type": "code",
   "execution_count": 33,
   "id": "309cdeb9",
   "metadata": {},
   "outputs": [
    {
     "name": "stdout",
     "output_type": "stream",
     "text": [
      "[[0.93500254 0.32484754 0.40756274 0.66686679 0.4082712 ]\n",
      " [0.06182031 0.65977687 0.91622863 0.99679562 0.6931083 ]\n",
      " [0.91837767 0.66826536 0.18928825 0.57977952 0.18368045]\n",
      " [0.97452657 0.01227485 0.59851374 0.65434067 0.0528009 ]\n",
      " [0.42282904 0.9894613  0.86034169 0.82778567 0.20906178]]\n"
     ]
    }
   ],
   "source": [
    "arr = np.random.rand(5, 5)\n",
    "np.set_printoptions(threshold = np.inf)\n",
    "print(arr)"
   ]
  },
  {
   "cell_type": "markdown",
   "id": "b580f9d0",
   "metadata": {},
   "source": [
    "#### 50. How to find the closest value (to a given scalar) in a vector? (★★☆)"
   ]
  },
  {
   "cell_type": "code",
   "execution_count": 30,
   "id": "ebfb6714",
   "metadata": {},
   "outputs": [
    {
     "name": "stdout",
     "output_type": "stream",
     "text": [
      "15\n"
     ]
    }
   ],
   "source": [
    "arr1 = np.arange(20)\n",
    "arr2 = np.random.uniform(0,20)\n",
    "dex = (np.abs(arr1-arr2)).argmin()\n",
    "print(arr1[dex])"
   ]
  },
  {
   "cell_type": "markdown",
   "id": "602e6252",
   "metadata": {},
   "source": [
    "#### 51. Create a structured array representing a position (x,y) and a color (r,g,b) (★★☆)"
   ]
  },
  {
   "cell_type": "code",
   "execution_count": 36,
   "id": "cf002b3a",
   "metadata": {},
   "outputs": [
    {
     "name": "stdout",
     "output_type": "stream",
     "text": [
      "[((1, 1), (1, 1, 1)) ((1, 1), (1, 1, 1)) ((1, 1), (1, 1, 1))\n",
      " ((1, 1), (1, 1, 1)) ((1, 1), (1, 1, 1)) ((1, 1), (1, 1, 1))\n",
      " ((1, 1), (1, 1, 1)) ((1, 1), (1, 1, 1)) ((1, 1), (1, 1, 1))\n",
      " ((1, 1), (1, 1, 1))]\n"
     ]
    },
    {
     "name": "stderr",
     "output_type": "stream",
     "text": [
      "c:\\Users\\Zeshan\\AppData\\Local\\Programs\\Python\\Python311\\Lib\\site-packages\\numpy\\core\\numeric.py:191: FutureWarning: Passing (type, 1) or '1type' as a synonym of type is deprecated; in a future version of numpy, it will be understood as (type, (1,)) / '(1,)type'.\n",
      "  a = empty(shape, dtype, order)\n"
     ]
    }
   ],
   "source": [
    "arr = np.ones(10, [ ('position', [ ('x', int, 1),\n",
    "                                  ('y', int, 1)]),\n",
    "                   ('color',    [ ('r', int, 1),\n",
    "                                  ('g', int, 1),\n",
    "                                  ('b', int, 1)])])\n",
    "print(arr)"
   ]
  },
  {
   "cell_type": "markdown",
   "id": "78bcd92f",
   "metadata": {},
   "source": [
    "#### 52. Consider a random vector with shape (100,2) representing coordinates, find point by point distances (★★☆)"
   ]
  },
  {
   "cell_type": "code",
   "execution_count": 41,
   "id": "fea7f9a6",
   "metadata": {},
   "outputs": [
    {
     "name": "stdout",
     "output_type": "stream",
     "text": [
      "[[0.         0.38739485 0.49302365 0.8475097  0.83365589 0.42484656\n",
      "  0.42631537 0.88762617 0.84714541 0.89194887 0.9632097  0.71626987\n",
      "  0.72085107 0.24821339 0.41643997 0.37016547 0.37239661 0.79326917\n",
      "  0.82808966 0.81673879 0.81129959 0.47922308 0.34969793 0.43190198\n",
      "  0.67982101 0.15325405 0.22202544 0.75365936 0.75102874 0.28872387\n",
      "  0.8351663  0.34949356 0.93337063 0.64394043 0.52947371 0.97250302\n",
      "  0.4743283  0.39540746 0.5947336  0.68599525 0.95171135 0.41553549\n",
      "  0.8451701  0.69176392 0.98655551 0.49005384 0.18345489 0.40732007\n",
      "  0.56937097 0.65672199 0.30089912 0.44235373 0.58054214 0.72768181\n",
      "  0.22946258 0.32035998 0.75830511 0.66489907 0.18671688 0.74267615\n",
      "  0.43101019 0.9264362  0.54946343 0.56480309 0.74177721 0.75850211\n",
      "  0.5049713  0.81570708 0.41682676 0.17225448 0.17356087 0.07253409\n",
      "  0.1866031  0.64059215 0.49166256 0.40898242 0.86759671 0.59190804\n",
      "  0.90095713 0.67384296 0.3153353  0.46000985 0.72766495 0.6695962\n",
      "  0.24920369 0.79526656 0.38709878 0.29120968 0.41576542 0.19608668\n",
      "  0.08422671 0.45975953 0.07013045 0.26550058 0.70574743 0.62296796\n",
      "  0.26022728 0.94334676 0.68534125 0.49916619]\n",
      " [0.38739485 0.         0.73441243 0.90298027 0.77168292 0.55555813\n",
      "  0.03941941 0.6687032  0.55849082 0.62551852 1.03715129 0.38398402\n",
      "  0.83533173 0.37365926 0.69229774 0.23424093 0.17339445 0.80502448\n",
      "  0.67293861 0.59295632 0.66525882 0.61867337 0.34734749 0.73139978\n",
      "  0.45428736 0.35821625 0.5923821  0.94401223 0.8971196  0.09916872\n",
      "  0.91842675 0.5400961  0.7352586  0.51188886 0.15235159 0.70154351\n",
      "  0.77868764 0.60896878 0.79567374 0.62626564 0.74900225 0.15974073\n",
      "  0.73945381 0.38103049 1.01784283 0.61588363 0.20394144 0.50152646\n",
      "  0.70674287 0.72288423 0.56172223 0.30906982 0.85684605 0.64970582\n",
      "  0.6046665  0.07709702 0.48156779 0.73720417 0.30226142 0.93259529\n",
      "  0.2370453  0.83790643 0.48008883 0.2271004  0.62262224 0.69523954\n",
      "  0.38345416 0.64875849 0.60531957 0.46164937 0.27123776 0.36711851\n",
      "  0.22576268 0.53160167 0.72756971 0.71483078 0.96197546 0.74772449\n",
      "  0.78189308 0.87269145 0.60870181 0.12293473 0.47060455 0.59762519\n",
      "  0.50919863 0.84316917 0.56007823 0.1413111  0.09873782 0.55985551\n",
      "  0.41762152 0.74268786 0.39785508 0.57175216 0.82039091 0.86644963\n",
      "  0.58805478 0.89372019 0.59422635 0.8026546 ]\n",
      " [0.49302365 0.73441243 0.         0.46650355 0.59931603 0.21929731\n",
      "  0.76920501 0.83881826 0.90610769 0.90750958 0.54264594 0.87532438\n",
      "  0.30526948 0.36076463 0.09162426 0.83132313 0.59793388 0.47994838\n",
      "  0.71423105 0.79559918 0.69161773 0.18632533 0.41872596 0.1269018\n",
      "  0.71288482 0.39940281 0.35048637 0.26657898 0.29519778 0.65387746\n",
      "  0.42635113 0.1953968  0.84446487 0.58214544 0.81444382 0.97609183\n",
      "  0.14001409 0.12606863 0.11740196 0.51060208 0.86435326 0.64424945\n",
      "  0.66242166 0.82764487 0.60506615 0.20569526 0.58777658 0.27776378\n",
      "  0.19273004 0.32979231 0.19378036 0.53411867 0.13351584 0.55524715\n",
      "  0.3641832  0.70527383 0.82640609 0.32543003 0.44023265 0.25636483\n",
      "  0.88298408 0.69806419 0.47479793 0.78186409 0.61532135 0.55377882\n",
      "  0.52724317 0.72124138 0.14026931 0.32335091 0.47833375 0.56554721\n",
      "  0.52829594 0.55246802 0.01158118 0.1452707  0.44146888 0.17343526\n",
      "  0.71812296 0.18755425 0.18442723 0.84929192 0.78060408 0.51862987\n",
      "  0.24914751 0.43686491 0.18426612 0.71648687 0.69272557 0.34496148\n",
      "  0.40959452 0.0875205  0.42733738 0.23393271 0.29460426 0.13458892\n",
      "  0.25551476 0.66280314 0.55026174 0.14511056]\n",
      " [0.8475097  0.90298027 0.46650355 0.         0.26482052 0.42274789\n",
      "  0.92347587 0.60747377 0.75932744 0.71851326 0.13539893 0.83252526\n",
      "  0.16285144 0.61511272 0.55050049 1.08687534 0.72982636 0.122827\n",
      "  0.46251649 0.60707721 0.44397383 0.3726176  0.56945557 0.59337418\n",
      "  0.61376881 0.70312473 0.78537903 0.3173966  0.21207792 0.86469531\n",
      "  0.06384491 0.50489607 0.57132453 0.46334822 0.90461048 0.75779104\n",
      "  0.60109978 0.48258422 0.36108478 0.31950343 0.58701507 0.75410757\n",
      "  0.35750277 0.77898719 0.14243525 0.35902362 0.85201954 0.44625927\n",
      "  0.29416581 0.19257131 0.58363592 0.59923932 0.52850713 0.32958636\n",
      "  0.80272018 0.91420754 0.71414974 0.18290871 0.70430446 0.31542079\n",
      "  1.11922782 0.32699658 0.43395991 0.82322813 0.40219671 0.28832333\n",
      "  0.53518819 0.487287   0.44884218 0.68706441 0.74223264 0.9132118\n",
      "  0.78146648 0.42752413 0.45789005 0.61055027 0.10006871 0.29524703\n",
      "  0.3894895  0.33864091 0.61338621 1.02473175 0.67105124 0.35008254\n",
      "  0.61675208 0.05989666 0.46608597 0.95654485 0.81943987 0.76824501\n",
      "  0.76887166 0.55348655 0.7781425  0.65080568 0.17211535 0.44603331\n",
      "  0.68477903 0.24725861 0.37365545 0.59847188]\n",
      " [0.83365589 0.77168292 0.59931603 0.26482052 0.         0.45316193\n",
      "  0.78243795 0.34435979 0.50752424 0.45895718 0.37377387 0.61008433\n",
      "  0.36167437 0.58547057 0.6611355  0.98638802 0.60410033 0.1527753\n",
      "  0.20141535 0.35247473 0.18538554 0.43613528 0.49554404 0.7151657\n",
      "  0.39155863 0.68040499 0.84185575 0.54770302 0.44000675 0.76108775\n",
      "  0.32369928 0.54521392 0.30671895 0.26603132 0.7335229  0.49379545\n",
      "  0.73852793 0.55715217 0.52760066 0.15198538 0.32282363 0.61231794\n",
      "  0.09272879 0.55875209 0.29735664 0.41563297 0.78078929 0.44058323\n",
      "  0.40740303 0.27242647 0.64001815 0.46663772 0.70102253 0.12197715\n",
      "  0.86122104 0.80350454 0.47559835 0.28046389 0.6580737  0.54223381\n",
      "  1.00523107 0.10055739 0.30186251 0.63767273 0.16760991 0.07833685\n",
      "  0.38948754 0.22884879 0.51839212 0.70421609 0.68834538 0.88710823\n",
      "  0.714383   0.2408747  0.58821781 0.72485053 0.36473547 0.43741858\n",
      "  0.13060729 0.54032522 0.68829821 0.88516181 0.43738478 0.17646497\n",
      "  0.65161213 0.23065958 0.51147766 0.85876589 0.67662389 0.81587473\n",
      "  0.76908013 0.68304623 0.77135615 0.71019225 0.35994181 0.63222413\n",
      "  0.74831051 0.12203788 0.17763978 0.74426373]\n",
      " [0.42484656 0.55555813 0.21929731 0.42274789 0.45316193 0.\n",
      "  0.58623789 0.63668591 0.68959813 0.69575368 0.53990521 0.65685435\n",
      "  0.30298943 0.20429511 0.23687808 0.69621334 0.40056072 0.37837092\n",
      "  0.52437982 0.58697965 0.50255228 0.0639974  0.21462122 0.29427103\n",
      "  0.49561724 0.28381004 0.38960366 0.38845456 0.34960087 0.49016396\n",
      "  0.41189182 0.09235076 0.65217138 0.37291983 0.61374512 0.76730635\n",
      "  0.33146492 0.11753208 0.24431851 0.33056349 0.67222926 0.4427887\n",
      "  0.49496001 0.60866427 0.56256372 0.06746172 0.45090324 0.06038876\n",
      "  0.15682583 0.23332448 0.18690482 0.3187782  0.35255206 0.37731398\n",
      "  0.4087876  0.54260297 0.608369   0.2405137  0.2963091  0.37704038\n",
      "  0.73861367 0.55322347 0.26154442 0.57056162 0.42450518 0.39006548\n",
      "  0.30794586 0.52613694 0.08395718 0.26684323 0.33641036 0.49141202\n",
      "  0.38201348 0.34716763 0.20871639 0.29570859 0.44691294 0.19347802\n",
      "  0.55318589 0.31838744 0.23774011 0.6766069  0.56296299 0.32965287\n",
      "  0.20284411 0.37154878 0.05921902 0.56990078 0.49798858 0.36529882\n",
      "  0.34637638 0.27593818 0.3553956  0.25703293 0.2875324  0.33156222\n",
      "  0.2951569  0.5457301  0.35812615 0.34658355]\n",
      " [0.42631537 0.03941941 0.76920501 0.92347587 0.78243795 0.58623789\n",
      "  0.         0.66162278 0.54196177 0.61180388 1.05819131 0.36172403\n",
      "  0.86122529 0.40875293 0.72894431 0.24574115 0.19478916 0.82263346\n",
      "  0.67439256 0.58635482 0.66798154 0.64885724 0.37536378 0.76881616\n",
      "  0.45056419 0.39662049 0.63179921 0.97449284 0.92483762 0.1384964\n",
      "  0.94112861 0.57436987 0.7302019  0.51965519 0.12192159 0.6862183\n",
      "  0.81612884 0.64346483 0.8277854  0.63959357 0.74315518 0.17163547\n",
      "  0.74584812 0.36368438 1.0352599  0.64522269 0.24291441 0.53100024\n",
      "  0.73562376 0.74624921 0.598712   0.32565583 0.89275373 0.66063897\n",
      "  0.64408201 0.11136025 0.46850505 0.76087824 0.33986833 0.96311252\n",
      "  0.23814112 0.84499477 0.49606963 0.2087414  0.6293819  0.70697077\n",
      "  0.39723456 0.649096   0.63857239 0.50032617 0.3097228  0.4043485\n",
      "  0.26480749 0.5416231  0.76213035 0.75254803 0.98524467 0.77739791\n",
      "  0.78618337 0.90414883 0.64646915 0.10296175 0.46123437 0.61023889\n",
      "  0.54667129 0.86358621 0.59313641 0.17003627 0.10616516 0.59925418\n",
      "  0.45702617 0.77937916 0.43727279 0.61009905 0.84643679 0.90059394\n",
      "  0.62686522 0.90436699 0.60480739 0.83998445]\n",
      " [0.88762617 0.6687032  0.83881826 0.60747377 0.34435979 0.63668591\n",
      "  0.66162278 0.         0.19067328 0.12123529 0.71714258 0.35853219\n",
      "  0.67684465 0.66743787 0.87321731 0.90294015 0.5463153  0.48863118\n",
      "  0.14554966 0.07593774 0.16586289 0.65311124 0.54935139 0.93065595\n",
      "  0.21803452 0.74912064 0.97689822 0.86242908 0.76006295 0.70353793\n",
      "  0.66344231 0.71301383 0.07671128 0.26648102 0.56795137 0.15103625\n",
      "  0.9657509  0.75421539 0.80197287 0.33859768 0.08397362 0.52530244\n",
      "  0.25245653 0.32321863 0.63206264 0.6332598  0.76710606 0.59374965\n",
      "  0.66814425 0.55839852 0.80409991 0.44552162 0.96210949 0.3022153\n",
      "  0.99627686 0.72802561 0.20970881 0.5720103  0.70189247 0.85499353\n",
      "  0.8996193  0.3215718  0.37957301 0.46235448 0.22992297 0.32846741\n",
      "  0.3858915  0.12514996 0.71933439 0.81530188 0.7156389  0.9184069\n",
      "  0.7185334  0.28952167 0.82726093 0.93230636 0.70657101 0.71001464\n",
      "  0.23997946 0.83692426 0.86285218 0.75251919 0.20208628 0.32334399\n",
      "  0.79149794 0.56656197 0.6923569  0.79470733 0.57239909 0.94434342\n",
      "  0.84978871 0.90920957 0.84328841 0.86579994 0.67075519 0.90995857\n",
      "  0.90272379 0.41944591 0.29074024 0.97846252]\n",
      " [0.84714541 0.55849082 0.90610769 0.75932744 0.50752424 0.68959813\n",
      "  0.54196177 0.19067328 0.         0.08199194 0.87944138 0.19296893\n",
      "  0.80031    0.66214475 0.9224468  0.7876451  0.47819017 0.63675092\n",
      "  0.30901788 0.15526653 0.3224898  0.72185436 0.54580545 0.97876458\n",
      "  0.19432242 0.72778652 0.9761717  0.97853219 0.88382294 0.61581716\n",
      "  0.80933195 0.74949789 0.26517911 0.33238887 0.43139106 0.14518856\n",
      "  1.01920385 0.80308128 0.89242055 0.45499323 0.2668943  0.44272608\n",
      "  0.42164739 0.17830942 0.8037105  0.70438739 0.69829512 0.63630392\n",
      "  0.75914448 0.67246695 0.83075301 0.42137681 1.03685546 0.43243051\n",
      "  0.99454104 0.62808826 0.0895187  0.68780381 0.67150089 0.96975157\n",
      "  0.77320243 0.50371657 0.43189893 0.33322158 0.35781142 0.47106276\n",
      "  0.39084488 0.27954793 0.77325698 0.81168438 0.67455508 0.8635259\n",
      "  0.66416954 0.3676514  0.89494745 0.97558897 0.85488308 0.80474786\n",
      "  0.42219824 0.94038348 0.89123914 0.61985399 0.12885759 0.43015094\n",
      "  0.80573107 0.71114416 0.7379195  0.69599425 0.47210085 0.94172179\n",
      "  0.82672056 0.96475779 0.81583949 0.88331498 0.79151031 0.99768051\n",
      "  0.91720253 0.59863205 0.39933302 1.03561255]\n",
      " [0.89194887 0.62551852 0.90750958 0.71851326 0.45895718 0.69575368\n",
      "  0.61180388 0.12123529 0.08199194 0.         0.83272781 0.27247099\n",
      "  0.77475834 0.6920782  0.93182007 0.85733925 0.52989515 0.59745512\n",
      "  0.25754559 0.11650061 0.2747706  0.7213977  0.57362996 0.98889494\n",
      "  0.21585295 0.76457759 1.00641751 0.95739567 0.85848957 0.67588432\n",
      "  0.77203595 0.76316629 0.19031844 0.32548116 0.50542406 0.08056978\n",
      "  1.02720549 0.81189454 0.8832476  0.42952454 0.18934993 0.49917223\n",
      "  0.36886437 0.25113057 0.75074013 0.70272653 0.7524158  0.64632897\n",
      "  0.74893633 0.65074523 0.84911372 0.45510835 1.03550393 0.40002739\n",
      "  1.02526801 0.6922923  0.14402456 0.66536404 0.71129221 0.9492535\n",
      "  0.84600452 0.44244742 0.4342727  0.40400689 0.32467095 0.4332072\n",
      "  0.41193364 0.231295   0.7796798  0.84216741 0.71841339 0.91365219\n",
      "  0.71285224 0.35692864 0.89611434 0.98776846 0.8163817  0.79310352\n",
      "  0.36071108 0.92528572 0.90924807 0.69383154 0.16489082 0.40856773\n",
      "  0.82901934 0.67416143 0.74765081 0.7601963  0.53511954 0.97255258\n",
      "  0.86486047 0.97160758 0.8555814  0.90575446 0.76727106 0.99023673\n",
      "  0.94106463 0.53986264 0.37617397 1.04207238]\n",
      " [0.9632097  1.03715129 0.54264594 0.13539893 0.37377387 0.53990521\n",
      "  1.05819131 0.71714258 0.87944138 0.83272781 0.         0.96290205\n",
      "  0.24637781 0.73860784 0.6322817  1.21719862 0.86421216 0.25141542\n",
      "  0.57518915 0.72511176 0.55873959 0.48404489 0.70058459 0.66753548\n",
      "  0.74313872 0.82339162 0.88078192 0.33228173 0.25172712 0.9965039\n",
      "  0.12807947 0.6152527  0.67235147 0.59511415 1.03997477 0.86490315\n",
      "  0.66658743 0.58300813 0.42749506 0.4511222  0.6860628  0.88918969\n",
      "  0.46471831 0.90960789 0.11125107 0.47348904 0.97947526 0.57016822\n",
      "  0.39634643 0.31936012 0.68552331 0.7343919  0.57624961 0.45644387\n",
      "  0.89694232 1.04653717 0.8398594  0.30721098 0.82924649 0.33504987\n",
      "  1.25112753 0.41202824 0.5693394  0.9580136  0.52604898 0.41212939\n",
      "  0.67057974 0.60230785 0.55304507 0.79774358 0.86798909 1.0309848\n",
      "  0.90895907 0.55995374 0.53596153 0.68760066 0.10127474 0.38426527\n",
      "  0.48571679 0.38119925 0.70735952 1.1591699  0.79804007 0.48214427\n",
      "  0.72432921 0.19511664 0.57688154 1.08713792 0.95443573 0.86724419\n",
      "  0.88232636 0.62574034 0.89323212 0.74913433 0.26053968 0.4898516\n",
      "  0.78046237 0.31702477 0.50383513 0.65931142]\n",
      " [0.71626987 0.38398402 0.87532438 0.83252526 0.61008433 0.65685435\n",
      "  0.36172403 0.35853219 0.19296893 0.27247099 0.96290205 0.\n",
      "  0.83652643 0.57359821 0.87237511 0.60504371 0.34636337 0.71168929\n",
      "  0.43485541 0.29566981 0.44001318 0.70299973 0.47042062 0.92529264\n",
      "  0.2202796  0.61950643 0.87583451 0.99867721 0.91661989 0.45575091\n",
      "  0.87259926 0.69578822 0.43503232 0.36966785 0.24455536 0.33699484\n",
      "  0.9696722  0.75856611 0.88697379 0.51305948 0.44172338 0.30086009\n",
      "  0.53891319 0.0537488  0.90409409 0.68928831 0.54973915 0.59760039\n",
      "  0.76134052 0.70567269 0.7625277  0.34465919 1.00883925 0.50743407\n",
      "  0.89268625 0.45829045 0.15023337 0.72184061 0.55834919 0.98862605\n",
      "  0.58571127 0.63369682 0.43127035 0.15865603 0.44342336 0.55373083\n",
      "  0.35181511 0.4039798  0.73567998 0.71537314 0.55135115 0.72022061\n",
      "  0.5296743  0.40626987 0.86508496 0.91739533 0.91953788 0.80833383\n",
      "  0.5569443  0.9473633  0.82179802 0.4313374  0.17592077 0.48276373\n",
      "  0.72672909 0.77739207 0.69413919 0.52494674 0.31036265 0.8408411\n",
      "  0.71186283 0.91937703 0.69754178 0.80368148 0.82501376 0.98501302\n",
      "  0.83322681 0.71907093 0.45918122 0.98928917]\n",
      " [0.72085107 0.83533173 0.30526948 0.16285144 0.36167437 0.30298943\n",
      "  0.86122529 0.67684465 0.80031    0.77475834 0.24637781 0.83652643\n",
      "  0.         0.50657746 0.39162428 0.99556079 0.66710213 0.21291909\n",
      "  0.53341645 0.65855714 0.51179395 0.24289397 0.48879854 0.43211423\n",
      "  0.62914622 0.58593866 0.63519631 0.18715257 0.08374695 0.78203006\n",
      "  0.12245413 0.37151748 0.65698948 0.47493131 0.86351307 0.82697421\n",
      "  0.43843659 0.33665685 0.19825493 0.3460314  0.67504895 0.70011249\n",
      "  0.44656295 0.78312293 0.2997973  0.23552796 0.75220176 0.3426903\n",
      "  0.15154503 0.13093719 0.43918034 0.55087751 0.36748141 0.37563644\n",
      "  0.65166922 0.833746   0.73987309 0.11482506 0.59850776 0.18096924\n",
      "  1.03476639 0.44735974 0.40818676 0.79626531 0.45045242 0.34982086\n",
      "  0.5022038  0.55173177 0.30732522 0.55319994 0.63832127 0.7899436\n",
      "  0.68246328 0.43778675 0.29718545 0.45015879 0.14733663 0.13863253\n",
      "  0.49212549 0.1840746  0.46184385 0.95823862 0.69371795 0.37017789\n",
      "  0.47889629 0.14642239 0.3337603  0.86731105 0.76268859 0.62103351\n",
      "  0.63885797 0.39167111 0.65072482 0.5029102  0.01548136 0.28723944\n",
      "  0.53468714 0.38718579 0.40114395 0.43562046]\n",
      " [0.24821339 0.37365926 0.36076463 0.61511272 0.58547057 0.20429511\n",
      "  0.40875293 0.66743787 0.66214475 0.6920782  0.73860784 0.57359821\n",
      "  0.50657746 0.         0.32339382 0.49280058 0.2495395  0.5501679\n",
      "  0.59127321 0.60190214 0.57298333 0.26727014 0.11883246 0.36831775\n",
      "  0.47632684 0.09496863 0.31454209 0.58299201 0.55316466 0.29553997\n",
      "  0.61135303 0.16731319 0.70457035 0.40987471 0.46330091 0.77108835\n",
      "  0.41530067 0.23559335 0.42852657 0.43848611 0.72374309 0.2990261\n",
      "  0.59957477 0.53534789 0.75022243 0.27144965 0.2467648  0.16889161\n",
      "  0.36086332 0.42254156 0.19746316 0.24100499 0.48444447 0.48099636\n",
      "  0.33325807 0.34772257 0.57319463 0.43284581 0.09202191 0.57150976\n",
      "  0.53726826 0.67876804 0.30719983 0.44999119 0.500309   0.51058971\n",
      "  0.28275295 0.58221621 0.23539146 0.15010615 0.13213481 0.3049668\n",
      "  0.17866517 0.40118479 0.35403864 0.35548336 0.6485895  0.39478829\n",
      "  0.65617565 0.50771686 0.25301287 0.48930241 0.53469573 0.42333394\n",
      "  0.15424141 0.5597528  0.19179137 0.36828349 0.33837456 0.28049998\n",
      "  0.18829259 0.37375666 0.18735223 0.23027191 0.49109711 0.49326914\n",
      "  0.25986899 0.69551676 0.44102952 0.43799867]\n",
      " [0.41643997 0.69229774 0.09162426 0.55050049 0.6611355  0.23687808\n",
      "  0.72894431 0.87321731 0.9224468  0.93182007 0.6322817  0.87237511\n",
      "  0.39162428 0.32339382 0.         0.767728   0.57102182 0.55281049\n",
      "  0.75717828 0.8237789  0.73495156 0.22799978 0.40388768 0.05743872\n",
      "  0.72812665 0.34211488 0.25968744 0.3558043  0.38639915 0.60546378\n",
      "  0.51371144 0.17664859 0.88623641 0.60978267 0.78631916 1.00399982\n",
      "  0.09754162 0.1199259  0.20895733 0.55750528 0.90628135 0.61957731\n",
      "  0.71657446 0.82764115 0.69079769 0.24890628 0.52958274 0.28628273\n",
      "  0.26439885 0.39929156 0.13134747 0.5277249  0.16848722 0.60365685\n",
      "  0.27291208 0.65524453 0.83895275 0.39748787 0.39114242 0.34595914\n",
      "  0.82228282 0.76127627 0.49803994 0.76530446 0.65722869 0.60847118\n",
      "  0.5343046  0.76079932 0.15392681 0.25323133 0.4263252  0.48845799\n",
      "  0.47589772 0.58378892 0.09670867 0.06376082 0.53101009 0.2552543\n",
      "  0.77375834 0.27778989 0.10123745 0.80199684 0.79454874 0.56093688\n",
      "  0.18656317 0.51663026 0.18460665 0.65912712 0.6617137  0.25619165\n",
      "  0.3351398  0.05046615 0.35436256 0.15150677 0.37995225 0.20795805\n",
      "  0.16752141 0.73419119 0.59097196 0.11716663]\n",
      " [0.37016547 0.23424093 0.83132313 1.08687534 0.98638802 0.69621334\n",
      "  0.24574115 0.90294015 0.7876451  0.85733925 1.21719862 0.60504371\n",
      "  0.99556079 0.49280058 0.767728   0.         0.38367172 1.00069594\n",
      "  0.90282497 0.82717756 0.89383432 0.75973988 0.51749474 0.7925528\n",
      "  0.68805146 0.43250597 0.59094132 1.07314654 1.04572075 0.22605879\n",
      "  1.09279286 0.65244309 0.96916715 0.73474882 0.36081366 0.93195939\n",
      "  0.83731685 0.71494862 0.91584569 0.83662442 0.98308962 0.38613804\n",
      "  0.9626555  0.60934193 1.21182037 0.76258755 0.24685438 0.65290659\n",
      "  0.85303893 0.89789061 0.63977728 0.52001649 0.93593277 0.86519969\n",
      "  0.59636045 0.18359853 0.71378775 0.91049457 0.4016799  1.06170463\n",
      "  0.06390126 1.05940674 0.68659228 0.45443567 0.84602316 0.90848934\n",
      "  0.59772887 0.87974413 0.7233425  0.51475417 0.36137138 0.3115273\n",
      "  0.31426507 0.75035137 0.82726315 0.77120209 1.133108   0.88758055\n",
      "  1.00802624 0.99600233 0.67014423 0.18398755 0.70452065 0.81007774\n",
      "  0.58357787 1.02821946 0.68228484 0.1304632  0.33141516 0.56622229\n",
      "  0.43902829 0.81511547 0.41821259 0.62331605 0.98012358 0.96569149\n",
      "  0.62540246 1.10775984 0.81108941 0.86229083]\n",
      " [0.37239661 0.17339445 0.59793388 0.72982636 0.60410033 0.40056072\n",
      "  0.19478916 0.5463153  0.47819017 0.52989515 0.86421216 0.34636337\n",
      "  0.66710213 0.2495395  0.57102182 0.38367172 0.         0.63180314\n",
      "  0.52458834 0.47120078 0.51383971 0.46137995 0.18611692 0.61758012\n",
      "  0.32880069 0.2764668  0.53285336 0.78639958 0.73225133 0.16278994\n",
      "  0.74645247 0.40327604 0.60462208 0.35156817 0.21655378 0.61007011\n",
      "  0.66439462 0.47226638 0.64462594 0.45613358 0.62065428 0.05001593\n",
      "  0.5791924  0.31942854 0.84462    0.4558971  0.22283226 0.34279752\n",
      "  0.54506828 0.55146388 0.44698685 0.137782   0.72707666 0.48243947\n",
      "  0.54899959 0.20010392 0.39077234 0.56609099 0.21429426 0.7751291\n",
      "  0.40140813 0.67573546 0.30806606 0.20502209 0.46275391 0.52669065\n",
      "  0.21465311 0.50379013 0.46134476 0.3769612  0.20498782 0.38534142\n",
      "  0.18677523 0.3667238  0.58968076 0.60502253 0.79047797 0.588175\n",
      "  0.62557499 0.71869323 0.5020403  0.29495801 0.36529581 0.42843446\n",
      "  0.40207235 0.66998296 0.41573581 0.25983323 0.09758253 0.49796706\n",
      "  0.36583432 0.62103051 0.3512082  0.47523339 0.65241924 0.72490348\n",
      "  0.50041287 0.7258993  0.42784591 0.68674287]\n",
      " [0.79326917 0.80502448 0.47994838 0.122827   0.1527753  0.37837092\n",
      "  0.82263346 0.48863118 0.63675092 0.59745512 0.25141542 0.71168929\n",
      "  0.21291909 0.5501679  0.55281049 1.00069594 0.63180314 0.\n",
      "  0.34313057 0.48507108 0.32372256 0.34281457 0.48594113 0.60282378\n",
      "  0.49224328 0.64293084 0.76290691 0.39669485 0.28842472 0.77560089\n",
      "  0.17487921 0.46867952 0.4575407  0.34374559 0.79500713 0.63951089\n",
      "  0.61977326 0.46330724 0.39344437 0.19982532 0.47430817 0.65147611\n",
      "  0.24312157 0.6583197  0.21282006 0.32469049 0.77455142 0.3859875\n",
      "  0.28889135 0.15425137 0.55762977 0.49698518 0.56788896 0.20689923\n",
      "  0.78146962 0.82314609 0.59148313 0.15537289 0.63443496 0.39177444\n",
      "  1.028509   0.23444655 0.32714789 0.7095031  0.27940017 0.16569034\n",
      "  0.42788509 0.36666556 0.42572925 0.64424123 0.66996446 0.85450145\n",
      "  0.70467146 0.3088355  0.4696259  0.61602167 0.21894868 0.30889467\n",
      "  0.2828896  0.39551692 0.59753915 0.92502524 0.54862574 0.23096537\n",
      "  0.58086848 0.07848052 0.43104921 0.87036269 0.71718262 0.74119709\n",
      "  0.71972423 0.56676555 0.72604357 0.6277079  0.21335919 0.49343156\n",
      "  0.66436938 0.18298986 0.25251816 0.62209674]\n",
      " [0.82808966 0.67293861 0.71423105 0.46251649 0.20141535 0.52437982\n",
      "  0.67439256 0.14554966 0.30901788 0.25754559 0.57518915 0.43485541\n",
      "  0.53341645 0.59127321 0.75717828 0.90282497 0.52458834 0.34313057\n",
      "  0.         0.15402755 0.02272051 0.53149101 0.47901222 0.81429543\n",
      "  0.23296069 0.68059757 0.88813623 0.71980395 0.61623391 0.68732665\n",
      "  0.51797837 0.60789484 0.13032656 0.18436852 0.60103482 0.2965518\n",
      "  0.84618129 0.64078678 0.66776618 0.20443106 0.15014426 0.51668805\n",
      "  0.11269342 0.3879966  0.49519795 0.51092866 0.73302266 0.48945706\n",
      "  0.53550497 0.41856379 0.7023056  0.40059712 0.83270795 0.16285024\n",
      "  0.90778056 0.72074307 0.2896453  0.43143428 0.64186332 0.71270676\n",
      "  0.90978469 0.19972482 0.28551049 0.4971861  0.09998956 0.18384179\n",
      "  0.32728846 0.03103822 0.60397224 0.73237094 0.66278668 0.86859793\n",
      "  0.67547454 0.19040259 0.70265649 0.81847018 0.56132408 0.57521519\n",
      "  0.1222298  0.69783984 0.75864982 0.77317028 0.25907839 0.19639166\n",
      "  0.69771317 0.42101398 0.58250488 0.78369412 0.57420877 0.85746709\n",
      "  0.7790234  0.78935239 0.77578243 0.76804471 0.52796312 0.77578875\n",
      "  0.80600256 0.29081086 0.16636759 0.85691717]\n",
      " [0.81673879 0.59295632 0.79559918 0.60707721 0.35247473 0.58697965\n",
      "  0.58635482 0.07593774 0.15526653 0.11650061 0.72511176 0.29566981\n",
      "  0.65855714 0.60190214 0.8237789  0.82717756 0.47120078 0.48507108\n",
      "  0.15402755 0.         0.16726097 0.60927639 0.48319489 0.88109971\n",
      "  0.14249962 0.68088693 0.91387868 0.84091814 0.74230127 0.62780095\n",
      "  0.65897136 0.65859683 0.14548795 0.21419162 0.49478489 0.18059274\n",
      "  0.9181301  0.70401076 0.76796399 0.31307548 0.15701764 0.44948488\n",
      "  0.26650339 0.25553563 0.64844472 0.59018173 0.6925786  0.54022245\n",
      "  0.63360323 0.53424802 0.74735745 0.37441755 0.92227752 0.28457187\n",
      "  0.93308963 0.65208848 0.14554191 0.54888505 0.63185504 0.83275975\n",
      "  0.82444519 0.35113084 0.32597576 0.38895987 0.2091173  0.31976516\n",
      "  0.31917412 0.12429539 0.67061183 0.75097941 0.64404837 0.84564929\n",
      "  0.64527706 0.24329984 0.78413328 0.88118948 0.70389651 0.67741912\n",
      "  0.27044722 0.80901787 0.80690409 0.67815806 0.12940127 0.29214164\n",
      "  0.73132758 0.560848   0.64064565 0.71878811 0.49650493 0.88077713\n",
      "  0.78167521 0.86207985 0.77436598 0.80685983 0.65093214 0.87524062\n",
      "  0.84314947 0.44448339 0.25969988 0.93216871]\n",
      " [0.81129959 0.66525882 0.69161773 0.44397383 0.18538554 0.50255228\n",
      "  0.66798154 0.16586289 0.3224898  0.2747706  0.55873959 0.44001318\n",
      "  0.51179395 0.57298333 0.73495156 0.89383432 0.51383971 0.32372256\n",
      "  0.02272051 0.16726097 0.         0.50905375 0.46181938 0.79203145\n",
      "  0.23238696 0.66300411 0.86804719 0.69798533 0.59476404 0.67662379\n",
      "  0.49859337 0.58656383 0.15301824 0.16885099 0.59808092 0.31685023\n",
      "  0.82374377 0.61878207 0.64508893 0.18171605 0.17280664 0.50790944\n",
      "  0.1006893  0.39180304 0.48126678 0.48846596 0.71970114 0.4683677\n",
      "  0.51278973 0.39619919 0.68116849 0.38739855 0.80999035 0.14025245\n",
      "  0.88770163 0.71120419 0.2974118  0.40917037 0.62540692 0.69080905\n",
      "  0.90228253 0.19384217 0.26642324 0.49517437 0.07805329 0.16266309\n",
      "  0.31283866 0.04358363 0.58186097 0.71304886 0.64718522 0.85293919\n",
      "  0.66111655 0.17179888 0.68004447 0.7963545  0.54234329 0.55254673\n",
      "  0.12095563 0.67545702 0.73726414 0.76759876 0.26414749 0.17405013\n",
      "  0.67732284 0.40126731 0.56080967 0.77343098 0.56663171 0.83759167\n",
      "  0.76098566 0.76691385 0.75812883 0.74720869 0.50615494 0.75311819\n",
      "  0.78522871 0.28106335 0.14442842 0.83439172]\n",
      " [0.47922308 0.61867337 0.18632533 0.3726176  0.43613528 0.0639974\n",
      "  0.64885724 0.65311124 0.72185436 0.7213977  0.48404489 0.70299973\n",
      "  0.24289397 0.26727014 0.22799978 0.75973988 0.46137995 0.34281457\n",
      "  0.53149101 0.60927639 0.50905375 0.         0.27529527 0.2842375\n",
      "  0.52972382 0.34321559 0.42039591 0.32565933 0.28598281 0.55413144\n",
      "  0.35606047 0.13233498 0.66129371 0.39594896 0.67275273 0.78976709\n",
      "  0.31469131 0.12190643 0.18698349 0.33002183 0.6812801  0.50226201\n",
      "  0.48866755 0.65328444 0.51429049 0.0209071  0.51403382 0.11858339\n",
      "  0.0937196  0.19062051 0.21528821 0.37168116 0.31504915 0.375934\n",
      "  0.43881399 0.60656125 0.64396497 0.19452818 0.35914937 0.31429782\n",
      "  0.80250458 0.53665814 0.28996215 0.62505346 0.43187011 0.38076514\n",
      "  0.35136393 0.53693593 0.08346575 0.31487086 0.39937346 0.54755984\n",
      "  0.44548008 0.36615433 0.17485749 0.29103041 0.38872072 0.12955806\n",
      "  0.5460057  0.25764192 0.2555796  0.74002783 0.59770816 0.33514648\n",
      "  0.24425171 0.32525805 0.09354916 0.63373645 0.55895157 0.39984244\n",
      "  0.39839484 0.25786185 0.40920596 0.28503984 0.22756471 0.28206274\n",
      "  0.32155659 0.51821029 0.36610148 0.32587311]\n",
      " [0.34969793 0.34734749 0.41872596 0.56945557 0.49554404 0.21462122\n",
      "  0.37536378 0.54935139 0.54580545 0.57362996 0.70058459 0.47042062\n",
      "  0.48879854 0.11883246 0.40388768 0.51749474 0.18611692 0.48594113\n",
      "  0.47901222 0.48319489 0.46181938 0.27529527 0.         0.45551801\n",
      "  0.35806218 0.20199045 0.43278931 0.60056635 0.54981965 0.29608268\n",
      "  0.57774582 0.22866207 0.58856869 0.29550928 0.39952067 0.65244298\n",
      "  0.5005874  0.29528681 0.45888809 0.34421575 0.60749956 0.22843632\n",
      "  0.49777252 0.42822923 0.69533401 0.27031532 0.28946327 0.15673001\n",
      "  0.36031935 0.38190544 0.29254442 0.12776701 0.55054589 0.3827993\n",
      "  0.4516713  0.3467419  0.45741168 0.39522411 0.16534638 0.58926472\n",
      "  0.55064281 0.58330545 0.20083043 0.36360281 0.3922002  0.41803398\n",
      "  0.16402189 0.46795927 0.27952322 0.2686713  0.19296553 0.39531654\n",
      "  0.22063532 0.29089424 0.40971363 0.44703468 0.61965567 0.40264102\n",
      "  0.55259322 0.53258478 0.35234629 0.47002583 0.4176699  0.32434007\n",
      "  0.26107245 0.5107251  0.23455782 0.38711    0.28366901 0.39900022\n",
      "  0.3017005  0.45219275 0.2971684  0.3388618  0.47372139 0.54196543\n",
      "  0.37177221 0.6117577  0.33729856 0.52105415]\n",
      " [0.43190198 0.73139978 0.1269018  0.59337418 0.7151657  0.29427103\n",
      "  0.76881616 0.93065595 0.97876458 0.98889494 0.66753548 0.92529264\n",
      "  0.43211423 0.36831775 0.05743872 0.7925528  0.61758012 0.60282378\n",
      "  0.81429543 0.88109971 0.79203145 0.2842375  0.45551801 0.\n",
      "  0.7844739  0.375952   0.25020718 0.37334638 0.41775084 0.64163212\n",
      "  0.55288836 0.23083572 0.94346799 0.66714663 0.83144664 1.061269\n",
      "  0.04732722 0.17711367 0.24010113 0.61412709 0.96350869 0.66671057\n",
      "  0.77232332 0.8813005  0.73189576 0.3051164  0.56012857 0.34296511\n",
      "  0.31395538 0.45036515 0.17126815 0.58073518 0.15097629 0.66014928\n",
      "  0.25999383 0.69013245 0.89484142 0.44752926 0.42914515 0.36450818\n",
      "  0.8491108  0.81502299 0.55528973 0.8146714  0.71437203 0.66401667\n",
      "  0.58987128 0.81811027 0.21135411 0.27950281 0.46210843 0.50234687\n",
      "  0.5108299  0.6412257  0.13561447 0.02488433 0.56661453 0.2995026\n",
      "  0.82928359 0.29928773 0.12419943 0.83775819 0.85066893 0.61799082\n",
      "  0.22220225 0.56279881 0.2413546  0.68923895 0.70615539 0.25455155\n",
      "  0.35457623 0.0422686  0.37493642 0.16923679 0.42150593 0.21222746\n",
      "  0.17260995 0.78505289 0.64815506 0.07141948]\n",
      " [0.67982101 0.45428736 0.71288482 0.61376881 0.39155863 0.49561724\n",
      "  0.45056419 0.21803452 0.19432242 0.21585295 0.74313872 0.2202796\n",
      "  0.62914622 0.47632684 0.72812665 0.68805146 0.32880069 0.49224328\n",
      "  0.23296069 0.14249962 0.23238696 0.52972382 0.35806218 0.7844739\n",
      "  0.         0.54924595 0.79077331 0.80025038 0.71129327 0.48553679\n",
      "  0.65603871 0.55547192 0.28115077 0.1545846  0.36914456 0.29544447\n",
      "  0.82488998 0.60876961 0.70428326 0.29503929 0.29550705 0.30744917\n",
      "  0.3263221  0.16776083 0.68406055 0.51286314 0.5505928  0.44198912\n",
      "  0.57255816 0.49860958 0.6380116  0.23982734 0.84431624 0.28721383\n",
      "  0.80956807 0.51097124 0.11470564 0.51454665 0.49707579 0.79085944\n",
      "  0.68842856 0.42447847 0.24063731 0.26453161 0.22411737 0.33346116\n",
      "  0.19821102 0.20441372 0.57914814 0.62643154 0.50641054 0.70577613\n",
      "  0.50493889 0.19185734 0.70180999 0.78147482 0.70283209 0.61893383\n",
      "  0.35319383 0.75652925 0.69843239 0.54605065 0.06805467 0.26560621\n",
      "  0.61523339 0.55970214 0.54359776 0.57725419 0.3566749  0.75682504\n",
      "  0.64973824 0.77051058 0.64098796 0.69243423 0.61878632 0.80806608\n",
      "  0.72714683 0.50412066 0.24012976 0.8413758 ]\n",
      " [0.15325405 0.35821625 0.39940281 0.70312473 0.68040499 0.28381004\n",
      "  0.39662049 0.74912064 0.72778652 0.76457759 0.82339162 0.61950643\n",
      "  0.58593866 0.09496863 0.34211488 0.43250597 0.2764668  0.64293084\n",
      "  0.68059757 0.68088693 0.66300411 0.34321559 0.20199045 0.375952\n",
      "  0.54924595 0.         0.25661899 0.643117   0.6252786  0.26592562\n",
      "  0.69548959 0.22312379 0.79031045 0.4974524  0.47356377 0.84458918\n",
      "  0.4229412  0.28283653 0.48468546 0.53302243 0.80913333 0.32572772\n",
      "  0.69316143 0.58694545 0.84015799 0.3509658  0.18858866 0.25823414\n",
      "  0.43633088 0.5109289  0.21111945 0.30949003 0.5101822  0.5751015\n",
      "  0.2732063  0.31420012 0.63826965 0.52024768 0.06238642 0.63174942\n",
      "  0.48358986 0.77341088 0.39879151 0.48125338 0.59178521 0.6053564\n",
      "  0.36334555 0.66993539 0.29421101 0.10452374 0.08699968 0.21161083\n",
      "  0.13490361 0.49146595 0.39499643 0.35805077 0.73067828 0.46510576\n",
      "  0.74938235 0.56499305 0.25205458 0.46181852 0.6031017  0.51719683\n",
      "  0.15557227 0.64907866 0.25656282 0.31784878 0.34866632 0.22166642\n",
      "  0.10078969 0.39159495 0.09520714 0.21353809 0.57054833 0.53396587\n",
      "  0.23136155 0.79036467 0.53388629 0.4473659 ]\n",
      " [0.22202544 0.5923821  0.35048637 0.78537903 0.84185575 0.38960366\n",
      "  0.63179921 0.97689822 0.9761717  1.00641751 0.88078192 0.87583451\n",
      "  0.63519631 0.31454209 0.25968744 0.59094132 0.53285336 0.76290691\n",
      "  0.88813623 0.91387868 0.86804719 0.42039591 0.43278931 0.25020718\n",
      "  0.79077331 0.25661899 0.         0.6153608  0.641614   0.49371471\n",
      "  0.75721525 0.29725438 1.00828006 0.71360853 0.72232466 1.08515996\n",
      "  0.28293496 0.30313735 0.46665959 0.71069606 1.02792554 0.58179161\n",
      "  0.87673486 0.8421125  0.92777388 0.43821642 0.3931979  0.40493031\n",
      "  0.49122628 0.61090317 0.20527914 0.5547966  0.39955385 0.75683263\n",
      "  0.01966791 0.53271225 0.88698818 0.61391572 0.31856851 0.60560055\n",
      "  0.65250222 0.94136471 0.60369512 0.73725301 0.79158569 0.77562905\n",
      "  0.59566544 0.8831776  0.33870044 0.1645385  0.33321979 0.28128507\n",
      "  0.37008855 0.69885517 0.35389459 0.2253229  0.78001091 0.49667328\n",
      "  0.93500664 0.53746552 0.17342287 0.67708508 0.84909799 0.70350915\n",
      "  0.19192306 0.74291568 0.33307629 0.51111706 0.59986848 0.03499389\n",
      "  0.17497658 0.28807098 0.19452825 0.13543451 0.62183143 0.46101953\n",
      "  0.10067622 0.93482542 0.7273934  0.30594761]\n",
      " [0.75365936 0.94401223 0.26657898 0.3173966  0.54770302 0.38845456\n",
      "  0.97449284 0.86242908 0.97853219 0.95739567 0.33228173 0.99867721\n",
      "  0.18715257 0.58299201 0.3558043  1.07314654 0.78639958 0.39669485\n",
      "  0.71980395 0.84091814 0.69798533 0.32565933 0.60056635 0.37334638\n",
      "  0.80025038 0.643117   0.6153608  0.         0.10858601 0.87634065\n",
      "  0.25609812 0.42082397 0.84405208 0.64832577 0.9953761  1.01196535\n",
      "  0.35912965 0.36153424 0.15930818 0.52788883 0.86216593 0.82593789\n",
      "  0.63359839 0.94619939 0.42514938 0.33055804 0.82634835 0.44392623\n",
      "  0.24356515 0.30679022 0.45293237 0.68761798 0.25337144 0.56041128\n",
      "  0.627998   0.92882181 0.91333223 0.29203308 0.67218836 0.01148501\n",
      "  1.1198883  0.6298556  0.56757383 0.94029932 0.63443818 0.53655259\n",
      "  0.65219276 0.73728596 0.34981631 0.58166399 0.71230217 0.82601426\n",
      "  0.76082451 0.61189385 0.26529315 0.39694618 0.24377344 0.19857033\n",
      "  0.67830389 0.07990975 0.45088638 1.06489232 0.86663653 0.54967916\n",
      "  0.50500761 0.3234754  0.39145402 0.95100046 0.88396895 0.61134744\n",
      "  0.66948615 0.33172982 0.68574608 0.49999146 0.19184083 0.16838977\n",
      "  0.52199759 0.56133747 0.5816316  0.34625061]\n",
      " [0.75102874 0.8971196  0.29519778 0.21207792 0.44000675 0.34960087\n",
      "  0.92483762 0.76006295 0.88382294 0.85848957 0.25172712 0.91661989\n",
      "  0.08374695 0.55316466 0.38639915 1.04572075 0.73225133 0.28842472\n",
      "  0.61623391 0.74230127 0.59476404 0.28598281 0.54981965 0.41775084\n",
      "  0.71129327 0.6252786  0.641614   0.10858601 0.         0.83801455\n",
      "  0.15384427 0.40386104 0.73877217 0.55741194 0.93392975 0.91036308\n",
      "  0.41501047 0.35689755 0.17812628 0.42974772 0.7565959  0.76785078\n",
      "  0.52698881 0.86341106 0.33102821 0.28408581 0.79991204 0.39728054\n",
      "  0.19290561 0.21271453 0.45736251 0.62197199 0.32657381 0.45921438\n",
      "  0.65656266 0.89025423 0.82260466 0.19687417 0.64491458 0.10475035\n",
      "  1.08804016 0.52128633 0.48650788 0.8707206  0.53412319 0.43244559\n",
      "  0.57778315 0.63500514 0.33447723 0.57980742 0.68519069 0.82199548\n",
      "  0.73146276 0.52037118 0.2897362  0.43871649 0.15302486 0.1602317\n",
      "  0.5705991  0.13152056 0.46953809 1.01963486 0.77631233 0.45367248\n",
      "  0.50333025 0.21490507 0.36877838 0.91944186 0.82897251 0.6317805\n",
      "  0.6673837  0.37565559 0.6812531  0.51496692 0.09259017 0.24096502\n",
      "  0.54294423 0.45348402 0.48477355 0.40760003]\n",
      " [0.28872387 0.09916872 0.65387746 0.86469531 0.76108775 0.49016396\n",
      "  0.1384964  0.70353793 0.61581716 0.67588432 0.9965039  0.45575091\n",
      "  0.78203006 0.29553997 0.60546378 0.22605879 0.16278994 0.77560089\n",
      "  0.68732665 0.62780095 0.67662379 0.55413144 0.29608268 0.64163212\n",
      "  0.48553679 0.26592562 0.49371471 0.87634065 0.83801455 0.\n",
      "  0.87379893 0.462655   0.76454281 0.51356264 0.24341083 0.75460963\n",
      "  0.6887229  0.53016751 0.72361918 0.61085795 0.7799993  0.1785228\n",
      "  0.74054924 0.4434445  0.98730951 0.55406758 0.10544889 0.44093382\n",
      "  0.64544551 0.67798808 0.47416327 0.29571646 0.7721058  0.64029586\n",
      "  0.50575708 0.05248924 0.53283611 0.69125653 0.21464864 0.86486038\n",
      "  0.25462443 0.8361391  0.46067618 0.29738676 0.62451395 0.68303141\n",
      "  0.37366784 0.66624646 0.53080821 0.3674754  0.17955081 0.27287847\n",
      "  0.13117454 0.52692434 0.64785004 0.62397016 0.91545893 0.68363783\n",
      "  0.78782499 0.80231864 0.51792938 0.19653336 0.51412011 0.5846544\n",
      "  0.42001914 0.80557205 0.48666048 0.09789559 0.145745   0.46147139\n",
      "  0.31922762 0.6555315  0.29922504 0.47872191 0.7667481  0.78754514\n",
      "  0.49295317 0.88220816 0.58672464 0.71304863]\n",
      " [0.8351663  0.91842675 0.42635113 0.06384491 0.32369928 0.41189182\n",
      "  0.94112861 0.66344231 0.80933195 0.77203595 0.12807947 0.87259926\n",
      "  0.12245413 0.61135303 0.51371144 1.09279286 0.74645247 0.17487921\n",
      "  0.51797837 0.65897136 0.49859337 0.35606047 0.57774582 0.55288836\n",
      "  0.65603871 0.69548959 0.75721525 0.25609812 0.15384427 0.87379893\n",
      "  0.         0.48751077 0.63035043 0.50305821 0.93012331 0.81425222\n",
      "  0.55672367 0.45721043 0.31543607 0.36114355 0.64651685 0.77421044\n",
      "  0.41589934 0.81887189 0.18045746 0.34541147 0.85342643 0.44332046\n",
      "  0.26937774 0.19599753 0.55957477 0.62039532 0.47707841 0.37714065\n",
      "  0.77383045 0.92441726 0.75993932 0.18255226 0.70232094 0.25488532\n",
      "  1.12824829 0.39005313 0.46113749 0.85335083 0.45153119 0.33921127\n",
      "  0.561235   0.54147726 0.42624022 0.67011285 0.74131135 0.9029064\n",
      "  0.78300085 0.46633052 0.41866752 0.57154623 0.04696716 0.26098122\n",
      "  0.45054107 0.28387652 0.5839649  1.04101516 0.71576635 0.39048467\n",
      "  0.59714067 0.0982022  0.44904959 0.96307922 0.83881329 0.74244213\n",
      "  0.75441647 0.51191945 0.7652075  0.62435177 0.13539417 0.39278065\n",
      "  0.65662276 0.31107221 0.41674034 0.55216974]\n",
      " [0.34949356 0.5400961  0.1953968  0.50489607 0.54521392 0.09235076\n",
      "  0.57436987 0.71301383 0.74949789 0.76316629 0.6152527  0.69578822\n",
      "  0.37151748 0.16731319 0.17664859 0.65244309 0.40327604 0.46867952\n",
      "  0.60789484 0.65859683 0.58656383 0.13233498 0.22866207 0.23083572\n",
      "  0.55547192 0.22312379 0.29725438 0.42082397 0.40386104 0.462655\n",
      "  0.48751077 0.         0.73371244 0.44674956 0.61982115 0.83746923\n",
      "  0.27410826 0.06932822 0.26360601 0.4192135  0.75371954 0.45030304\n",
      "  0.58462296 0.65100732 0.64638473 0.14661076 0.4057765  0.11938052\n",
      "  0.21997644 0.32009812 0.09575992 0.35117502 0.32392886 0.46588774\n",
      "  0.31643894 0.51468704 0.66473977 0.32545618 0.25260404 0.40940382\n",
      "  0.70021306 0.64511135 0.33360938 0.59184284 0.50866756 0.48094396\n",
      "  0.35952208 0.60736147 0.07115145 0.18268769 0.29234013 0.41929092\n",
      "  0.34154138 0.42480997 0.18788406 0.22615151 0.51853417 0.24376054\n",
      "  0.64294819 0.34362163 0.15080392 0.65657475 0.62102161 0.41581053\n",
      "  0.11270195 0.45667962 0.03881062 0.53172143 0.49749927 0.27326532\n",
      "  0.26736863 0.22389047 0.27936874 0.1651733  0.35649659 0.32635354\n",
      "  0.20344895 0.63787722 0.44267959 0.29350708]\n",
      " [0.93337063 0.7352586  0.84446487 0.57132453 0.30671895 0.65217138\n",
      "  0.7302019  0.07671128 0.26517911 0.19031844 0.67235147 0.43503232\n",
      "  0.65698948 0.70457035 0.88623641 0.96916715 0.60462208 0.4575407\n",
      "  0.13032656 0.14548795 0.15301824 0.66129371 0.58856869 0.94346799\n",
      "  0.28115077 0.79031045 1.00828006 0.84405208 0.73877217 0.76454281\n",
      "  0.63035043 0.73371244 0.         0.29522453 0.640254   0.19628812\n",
      "  0.97592904 0.76910757 0.79736902 0.334712   0.02005889 0.58748909\n",
      "  0.21454925 0.39868149 0.58102674 0.64080808 0.82248009 0.61460477\n",
      "  0.66553159 0.5463354  0.82720667 0.49451766 0.96294961 0.29235119\n",
      "  1.02784594 0.7917616  0.28573138 0.55863835 0.74671868 0.83741268\n",
      "  0.96833604 0.26531744 0.40487549 0.53441305 0.22942559 0.30802723\n",
      "  0.42842512 0.12635103 0.73269431 0.84951587 0.7635805  0.96833435\n",
      "  0.77038208 0.3102649  0.83288803 0.94710813 0.6713394  0.70476517\n",
      "  0.18691566 0.82540849 0.88448489 0.82311759 0.27476511 0.32617788\n",
      "  0.8195386  0.53600661 0.70974381 0.85762917 0.63781994 0.97672513\n",
      "  0.89026875 0.91911049 0.88529216 0.89160495 0.65252805 0.90531339\n",
      "  0.9292434  0.36437529 0.29537557 0.98692743]\n",
      " [0.64394043 0.51188886 0.58214544 0.46334822 0.26603132 0.37291983\n",
      "  0.51965519 0.26648102 0.33238887 0.32548116 0.59511415 0.36966785\n",
      "  0.47493131 0.40987471 0.60978267 0.73474882 0.35156817 0.34374559\n",
      "  0.18436852 0.21419162 0.16885099 0.39594896 0.29550928 0.66714663\n",
      "  0.1545846  0.4974524  0.71360853 0.64832577 0.55741194 0.51356264\n",
      "  0.50305821 0.44674956 0.29522453 0.         0.4675776  0.39472734\n",
      "  0.70394809 0.49012825 0.56070166 0.14402288 0.31466659 0.35225297\n",
      "  0.22804406 0.31598921 0.54449138 0.37724768 0.55174157 0.32765554\n",
      "  0.42701447 0.34471177 0.53762896 0.22027079 0.71009734 0.14752813\n",
      "  0.73312903 0.5512083  0.26533476 0.36054572 0.45757215 0.63921311\n",
      "  0.74803474 0.32602345 0.11315153 0.37332704 0.11127783 0.19565288\n",
      "  0.14431356 0.17252672 0.45646149 0.55429655 0.47852121 0.68432082\n",
      "  0.49238855 0.03727274 0.57072723 0.66767688 0.5499708  0.47242337\n",
      "  0.27432468 0.60809761 0.59639122 0.62180728 0.2189136  0.11326839\n",
      "  0.52616909 0.40775494 0.4272144  0.61115942 0.41480544 0.68177841\n",
      "  0.59663582 0.64788895 0.59265242 0.59976168 0.46483626 0.66673991\n",
      "  0.63691639 0.38682333 0.09321138 0.71800446]\n",
      " [0.52947371 0.15235159 0.81444382 0.90461048 0.7335229  0.61374512\n",
      "  0.12192159 0.56795137 0.43139106 0.50542406 1.03997477 0.24455536\n",
      "  0.86351307 0.46330091 0.78631916 0.36081366 0.21655378 0.79500713\n",
      "  0.60103482 0.49478489 0.59808092 0.67275273 0.39952067 0.83144664\n",
      "  0.36914456 0.47356377 0.72232466 0.9953761  0.93392975 0.24341083\n",
      "  0.93012331 0.61982115 0.640254   0.4675776  0.         0.57655489\n",
      "  0.87852539 0.6888186  0.85803214 0.60124056 0.6513162  0.17109297\n",
      "  0.68477222 0.2543297  1.0046459  0.66544203 0.34798483 0.55464191\n",
      "  0.75219017 0.74035792 0.66026332 0.31263832 0.9435654  0.61437517\n",
      "  0.73633567 0.2294251  0.36519747 0.75591604 0.41228176 0.98427076\n",
      "  0.34197557 0.78458345 0.47066034 0.10587377 0.57142107 0.66225293\n",
      "  0.36952572 0.57326642 0.67737537 0.57782734 0.39016921 0.51611526\n",
      "  0.35276749 0.49561938 0.80612514 0.81778126 0.97592445 0.79682725\n",
      "  0.71876105 0.93035166 0.71329137 0.1885331  0.36592298 0.57033352\n",
      "  0.61264421 0.84515302 0.63184863 0.29148961 0.12578638 0.68842853\n",
      "  0.54808513 0.83652012 0.52985551 0.68258614 0.84952592 0.94076245\n",
      "  0.70422415 0.85361673 0.55874062 0.90129915]\n",
      " [0.97250302 0.70154351 0.97609183 0.75779104 0.49379545 0.76730635\n",
      "  0.6862183  0.15103625 0.14518856 0.08056978 0.86490315 0.33699484\n",
      "  0.82697421 0.77108835 1.00399982 0.93195939 0.61007011 0.63951089\n",
      "  0.2965518  0.18059274 0.31685023 0.78976709 0.65244298 1.061269\n",
      "  0.29544447 0.84458918 1.08515996 1.01196535 0.91036308 0.75460963\n",
      "  0.81425222 0.83746923 0.19628812 0.39472734 0.57655489 0.\n",
      "  1.09858712 0.88415583 0.94611259 0.48572694 0.18713644 0.57858184\n",
      "  0.40127917 0.32299526 0.77625373 0.7705841  0.83241802 0.71967298\n",
      "  0.81181828 0.7067672  0.92483647 0.53510113 1.10231036 0.45158498\n",
      "  1.10409775 0.76964002 0.22178728 0.72074275 0.79163155 1.00432557\n",
      "  0.91829474 0.46132585 0.50598179 0.4776083  0.37778703 0.47935349\n",
      "  0.48987288 0.27548477 0.85102451 0.92110298 0.79896183 0.99410541\n",
      "  0.79334824 0.4236536  0.96461472 1.06098107 0.8571275  0.8548736\n",
      "  0.38173204 0.984224   0.98474253 0.76503492 0.2453729  0.46785884\n",
      "  0.90626176 0.71752738 0.82049276 0.83758904 0.61276759 1.05144285\n",
      "  0.94497326 1.04259678 0.93585822 0.98263927 0.82054359 1.05374887\n",
      "  1.0183052  0.56035168 0.43510216 1.11273094]\n",
      " [0.4743283  0.77868764 0.14001409 0.60109978 0.73852793 0.33146492\n",
      "  0.81612884 0.9657509  1.01920385 1.02720549 0.66658743 0.9696722\n",
      "  0.43843659 0.41530067 0.09754162 0.83731685 0.66439462 0.61977326\n",
      "  0.84618129 0.9181301  0.82374377 0.31469131 0.5005874  0.04732722\n",
      "  0.82488998 0.4229412  0.28293496 0.35912965 0.41501047 0.6887229\n",
      "  0.55672367 0.27410826 0.97592904 0.70394809 0.87852539 1.09858712\n",
      "  0.         0.21612356 0.24128761 0.64420302 0.99592672 0.71341939\n",
      "  0.79946986 0.92511434 0.73692754 0.33529873 0.60644759 0.38290087\n",
      "  0.33266904 0.46976309 0.21848451 0.62501397 0.11827091 0.68968781\n",
      "  0.29041994 0.73706383 0.93608568 0.46542842 0.47642786 0.35127656\n",
      "  0.89438118 0.83761062 0.59300616 0.86079439 0.74652078 0.69085307\n",
      "  0.63165514 0.85126497 0.24759589 0.32555699 0.5092301  0.54392839\n",
      "  0.55784103 0.67683958 0.15072335 0.06614554 0.56661607 0.31202432\n",
      "  0.85575961 0.28997109 0.1709474  0.88475855 0.89151523 0.64982318\n",
      "  0.26949048 0.57470902 0.2813353  0.7353753  0.75329973 0.29137241\n",
      "  0.39863504 0.05683    0.41923741 0.21444177 0.42911605 0.19221661\n",
      "  0.21411592 0.80269159 0.6806285  0.0249747 ]\n",
      " [0.39540746 0.60896878 0.12606863 0.48258422 0.55715217 0.11753208\n",
      "  0.64346483 0.75421539 0.80308128 0.81189454 0.58300813 0.75856611\n",
      "  0.33665685 0.23559335 0.1199259  0.71494862 0.47226638 0.46330724\n",
      "  0.64078678 0.70401076 0.61878207 0.12190643 0.29528681 0.17711367\n",
      "  0.60876961 0.28283653 0.30313735 0.36153424 0.35689755 0.53016751\n",
      "  0.45721043 0.06932822 0.76910757 0.49012825 0.6888186  0.88415583\n",
      "  0.21612356 0.         0.20240937 0.44395687 0.78916605 0.51898398\n",
      "  0.60613036 0.71253111 0.62501913 0.14185284 0.4691438  0.16678219\n",
      "  0.18877668 0.30970662 0.10252556 0.4147631  0.25552075 0.49053986\n",
      "  0.32087994 0.58195824 0.72015143 0.31166587 0.318126   0.35027863\n",
      "  0.76437027 0.65770955 0.37817606 0.65888847 0.54081082 0.49924537\n",
      "  0.4162423  0.64324323 0.03876007 0.22340788 0.35720522 0.46713164\n",
      "  0.40689494 0.46469513 0.11866739 0.17822507 0.48356211 0.20061686\n",
      "  0.66397701 0.2826718  0.134232   0.72479891 0.67545365 0.44519392\n",
      "  0.1466065  0.43986174 0.06537756 0.59652416 0.56675073 0.28582442\n",
      "  0.31134534 0.1622664  0.32624783 0.16822547 0.32251158 0.25768022\n",
      "  0.20286874 0.63997517 0.47441994 0.23308493]\n",
      " [0.5947336  0.79567374 0.11740196 0.36108478 0.52760066 0.24431851\n",
      "  0.8277854  0.80197287 0.89242055 0.8832476  0.42749506 0.88697379\n",
      "  0.19825493 0.42852657 0.20895733 0.91584569 0.64462594 0.39344437\n",
      "  0.66776618 0.76796399 0.64508893 0.18698349 0.45888809 0.24010113\n",
      "  0.70428326 0.48468546 0.46665959 0.15930818 0.17812628 0.72361918\n",
      "  0.31543607 0.26360601 0.79736902 0.56070166 0.85803214 0.94611259\n",
      "  0.24128761 0.20240937 0.         0.46430939 0.816754   0.6871045\n",
      "  0.60085848 0.83635778 0.49568091 0.19828118 0.66932058 0.3035869\n",
      "  0.13436291 0.25609977 0.29438905 0.55864874 0.1745063  0.50505404\n",
      "  0.48086126 0.7759708  0.81898346 0.24714956 0.51606081 0.14815698\n",
      "  0.96379377 0.62239426 0.46404435 0.81203362 0.57275759 0.49417754\n",
      "  0.53527236 0.67940673 0.19334202 0.42260098 0.55591033 0.66700548\n",
      "  0.60495673 0.52701428 0.11284515 0.26067746 0.32672331 0.09261823\n",
      "  0.65332361 0.08031457 0.29708604 0.91497779 0.77222067 0.47881578\n",
      "  0.34583934 0.33943778 0.23695869 0.7952038  0.74190471 0.45925702\n",
      "  0.51052126 0.19824536 0.52658157 0.34483545 0.19018579 0.1080752\n",
      "  0.36979433 0.5752499  0.51154137 0.23744959]\n",
      " [0.68599525 0.62626564 0.51060208 0.31950343 0.15198538 0.33056349\n",
      "  0.63959357 0.33859768 0.45499323 0.42952454 0.4511222  0.51305948\n",
      "  0.3460314  0.43848611 0.55750528 0.83662442 0.45613358 0.19982532\n",
      "  0.20443106 0.31307548 0.18171605 0.33002183 0.34421575 0.61412709\n",
      "  0.29503929 0.53302243 0.71069606 0.52788883 0.42974772 0.61085795\n",
      "  0.36114355 0.4192135  0.334712   0.14402288 0.60124056 0.48572694\n",
      "  0.64420302 0.44395687 0.46430939 0.         0.35443944 0.46818664\n",
      "  0.16603981 0.45949399 0.40406177 0.3092163  0.62880418 0.30576813\n",
      "  0.33136262 0.22143619 0.51494958 0.31835551 0.62828022 0.04675205\n",
      "  0.73030524 0.65439905 0.39965152 0.23587731 0.50777125 0.51982004\n",
      "  0.8575064  0.24045696 0.15042579 0.51205064 0.10870908 0.07390145\n",
      "  0.24282963 0.21513242 0.40608497 0.56485091 0.53716839 0.73744606\n",
      "  0.56248597 0.10911604 0.49904478 0.61984684 0.4078684  0.37198392\n",
      "  0.22433329 0.49861383 0.56813223 0.74255527 0.35492209 0.03134223\n",
      "  0.51881127 0.26468409 0.38972773 0.7082922  0.53342873 0.68253379\n",
      "  0.62463785 0.58741516 0.62553951 0.58349757 0.33800746 0.57238439\n",
      "  0.62184849 0.27159037 0.05609562 0.65406741]\n",
      " [0.95171135 0.74900225 0.86435326 0.58701507 0.32282363 0.67222926\n",
      "  0.74315518 0.08397362 0.2668943  0.18934993 0.6860628  0.44172338\n",
      "  0.67504895 0.72374309 0.90628135 0.98308962 0.62065428 0.47430817\n",
      "  0.15014426 0.15701764 0.17280664 0.6812801  0.60749956 0.96350869\n",
      "  0.29550705 0.80913333 1.02792554 0.86216593 0.7565959  0.7799993\n",
      "  0.64651685 0.75371954 0.02005889 0.31466659 0.6513162  0.18713644\n",
      "  0.99592672 0.78916605 0.816754   0.35443944 0.         0.60253912\n",
      "  0.23118698 0.40715676 0.5932255  0.66078338 0.83924129 0.63459374\n",
      "  0.68508827 0.56528574 0.84716881 0.51218318 0.98261566 0.31182303\n",
      "  1.04748335 0.80645877 0.29350549 0.57746128 0.76511493 0.85562079\n",
      "  0.98128337 0.27698278 0.42463882 0.54559205 0.24941033 0.32657817\n",
      "  0.44686867 0.14636285 0.75274747 0.86895529 0.78157128 0.98609573\n",
      "  0.78776972 0.3301284  0.85277745 0.96716418 0.68707542 0.72414118\n",
      "  0.20035697 0.84423884 0.90448614 0.83516192 0.28540818 0.3461496\n",
      "  0.83932477 0.55272197 0.72979359 0.87258891 0.65191807 0.9963075\n",
      "  0.9091919  0.93910638 0.90405752 0.91149102 0.67077834 0.92466409\n",
      "  0.94910758 0.37590023 0.31540053 1.00688457]\n",
      " [0.41553549 0.15974073 0.64424945 0.75410757 0.61231794 0.4427887\n",
      "  0.17163547 0.52530244 0.44272608 0.49917223 0.88918969 0.30086009\n",
      "  0.70011249 0.2990261  0.61957731 0.38613804 0.05001593 0.65147611\n",
      "  0.51668805 0.44948488 0.50790944 0.50226201 0.22843632 0.66671057\n",
      "  0.30744917 0.32572772 0.58179161 0.82593789 0.76785078 0.1785228\n",
      "  0.77421044 0.45030304 0.58748909 0.35225297 0.17109297 0.57858184\n",
      "  0.71341939 0.51898398 0.6871045  0.46818664 0.60253912 0.\n",
      "  0.58001076 0.27763318 0.86395371 0.49553921 0.25573393 0.3839253\n",
      "  0.58333498 0.58084604 0.49637674 0.15495049 0.77423145 0.49036225\n",
      "  0.59771974 0.204905   0.35732576 0.59592467 0.26341614 0.81476003\n",
      "  0.39591111 0.67827343 0.3246026  0.15552751 0.46314492 0.53623777\n",
      "  0.22562943 0.49376466 0.50658039 0.42675678 0.25184628 0.42323984\n",
      "  0.22894381 0.37196781 0.63574757 0.65444265 0.81903883 0.62738973\n",
      "  0.62329356 0.75990306 0.5517607  0.2745314  0.33623147 0.43905804\n",
      "  0.45191921 0.69422209 0.46113175 0.2701504  0.06571431 0.54696336\n",
      "  0.41338736 0.6694417  0.39811262 0.52523315 0.68572382 0.76982107\n",
      "  0.55040462 0.73434783 0.43474977 0.735601  ]\n",
      " [0.8451701  0.73945381 0.66242166 0.35750277 0.09272879 0.49496001\n",
      "  0.74584812 0.25245653 0.42164739 0.36886437 0.46471831 0.53891319\n",
      "  0.44656295 0.59957477 0.71657446 0.9626555  0.5791924  0.24312157\n",
      "  0.11269342 0.26650339 0.1006893  0.48866755 0.49777252 0.77232332\n",
      "  0.3263221  0.69316143 0.87673486 0.63359839 0.52698881 0.74054924\n",
      "  0.41589934 0.58462296 0.21454925 0.22804406 0.68477222 0.40127917\n",
      "  0.79946986 0.60613036 0.60085848 0.16603981 0.23118698 0.58001076\n",
      "  0.         0.48965785 0.38258658 0.46776819 0.77251319 0.47180789\n",
      "  0.47424709 0.34511488 0.68038205 0.4454015  0.77180604 0.12015571\n",
      "  0.89634484 0.77907431 0.39786989 0.35554173 0.66307559 0.62752516\n",
      "  0.97590498 0.09983386 0.29701254 0.58430386 0.11687218 0.10865622\n",
      "  0.36765595 0.14231173 0.56775422 0.72990213 0.68940908 0.89308856\n",
      "  0.70958265 0.21451941 0.65102911 0.77969725 0.45735384 0.50887682\n",
      "  0.058343   0.62069933 0.73269519 0.84728268 0.36343435 0.17639889\n",
      "  0.68484455 0.32154651 0.55417588 0.83833806 0.64184262 0.84849777\n",
      "  0.78712415 0.74307081 0.78691833 0.74923537 0.44334564 0.70750236\n",
      "  0.78759101 0.18062174 0.16053513 0.80735168]\n",
      " [0.69176392 0.38103049 0.82764487 0.77898719 0.55875209 0.60866427\n",
      "  0.36368438 0.32321863 0.17830942 0.25113057 0.90960789 0.0537488\n",
      "  0.78312293 0.53534789 0.82764115 0.60934193 0.31942854 0.6583197\n",
      "  0.3879966  0.25553563 0.39180304 0.65328444 0.42822923 0.8813005\n",
      "  0.16776083 0.58694545 0.8421125  0.94619939 0.86341106 0.4434445\n",
      "  0.81887189 0.65100732 0.39868149 0.31598921 0.2543297  0.32299526\n",
      "  0.92511434 0.71253111 0.83635778 0.45949399 0.40715676 0.27763318\n",
      "  0.48965785 0.         0.85181961 0.63911194 0.53192268 0.54992917\n",
      "  0.70975797 0.65223596 0.72077183 0.3010066  0.96109718 0.45454258\n",
      "  0.85943588 0.45209219 0.11409143 0.66839619 0.5268922  0.93621662\n",
      "  0.59550014 0.5856403  0.37863682 0.15494897 0.39162304 0.50109745\n",
      "  0.30194216 0.3574042  0.68850376 0.67994333 0.52320598 0.70072344\n",
      "  0.50562417 0.35254725 0.81725207 0.8742334  0.86581338 0.75674495\n",
      "  0.51022198 0.89575292 0.78052041 0.44281117 0.1296344  0.42913125\n",
      "  0.68711691 0.72373565 0.64771958 0.51979295 0.29807343 0.80715333\n",
      "  0.68181049 0.8739997  0.66853833 0.76453555 0.77169342 0.93534091\n",
      "  0.79519363 0.66925393 0.40580248 0.94424226]\n",
      " [0.98655551 1.01784283 0.60506615 0.14243525 0.29735664 0.56256372\n",
      "  1.0352599  0.63206264 0.8037105  0.75074013 0.11125107 0.90409409\n",
      "  0.2997973  0.75022243 0.69079769 1.21182037 0.84462    0.21282006\n",
      "  0.49519795 0.64844472 0.48126678 0.51429049 0.69533401 0.73189576\n",
      "  0.68406055 0.84015799 0.92777388 0.42514938 0.33102821 0.98730951\n",
      "  0.18045746 0.64638473 0.58102674 0.54449138 1.0046459  0.77625373\n",
      "  0.73692754 0.62501913 0.49568091 0.40406177 0.5932255  0.86395371\n",
      "  0.38258658 0.85181961 0.         0.50007019 0.98210309 0.58210789\n",
      "  0.43654772 0.3298351  0.72601913 0.70965845 0.65676053 0.39863886\n",
      "  0.94507003 1.03531798 0.77263999 0.32205901 0.83773402 0.42603263\n",
      "  1.24073124 0.31631603 0.53939535 0.91601647 0.46095729 0.35117569\n",
      "  0.63963623 0.5241921  0.59119732 0.828103   0.87469203 1.05113853\n",
      "  0.91177647 0.51213103 0.59693736 0.74989755 0.18140454 0.43589598\n",
      "  0.39452897 0.4624155  0.75562765 1.13773655 0.73350556 0.43528954\n",
      "  0.75853897 0.19129639 0.60758576 1.081379   0.92966802 0.91066948\n",
      "  0.90893816 0.69130983 0.91758049 0.79323971 0.3108947  0.57177293\n",
      "  0.82715678 0.21788814 0.45128979 0.7326082 ]\n",
      " [0.49005384 0.61588363 0.20569526 0.35902362 0.41563297 0.06746172\n",
      "  0.64522269 0.6332598  0.70438739 0.70272653 0.47348904 0.68928831\n",
      "  0.23552796 0.27144965 0.24890628 0.76258755 0.4558971  0.32469049\n",
      "  0.51092866 0.59018173 0.48846596 0.0209071  0.27031532 0.3051164\n",
      "  0.51286314 0.3509658  0.43821642 0.33055804 0.28408581 0.55406758\n",
      "  0.34541147 0.14661076 0.64080808 0.37724768 0.66544203 0.7705841\n",
      "  0.33529873 0.14185284 0.19828118 0.3092163  0.66078338 0.49553921\n",
      "  0.46776819 0.63911194 0.50007019 0.         0.5177982  0.11435756\n",
      "  0.09138972 0.17382803 0.23294002 0.36136781 0.3330223  0.35508173\n",
      "  0.45679884 0.60637326 0.62730122 0.17884652 0.36346702 0.31932483\n",
      "  0.80407482 0.51617503 0.27257674 0.61497508 0.41138416 0.35989304\n",
      "  0.33747321 0.51662878 0.10318405 0.32808747 0.40347608 0.55749606\n",
      "  0.44859005 0.34693118 0.19416991 0.31192907 0.37972656 0.13232899\n",
      "  0.52512313 0.26554465 0.2749691  0.73778454 0.58089966 0.31463391\n",
      "  0.25922998 0.31008096 0.10796739 0.63562978 0.55344916 0.41689116\n",
      "  0.41022903 0.27847036 0.4202504  0.30306221 0.22007069 0.29668988\n",
      "  0.3399458  0.498876   0.34572404 0.34619405]\n",
      " [0.18345489 0.20394144 0.58777658 0.85201954 0.78078929 0.45090324\n",
      "  0.24291441 0.76710606 0.69829512 0.7524158  0.97947526 0.54973915\n",
      "  0.75220176 0.2467648  0.52958274 0.24685438 0.22283226 0.77455142\n",
      "  0.73302266 0.6925786  0.71970114 0.51403382 0.28946327 0.56012857\n",
      "  0.5505928  0.18858866 0.3931979  0.82634835 0.79991204 0.10544889\n",
      "  0.85342643 0.4057765  0.82248009 0.55174157 0.34798483 0.83241802\n",
      "  0.60644759 0.4691438  0.66932058 0.62880418 0.83924129 0.25573393\n",
      "  0.77251319 0.53192268 0.98210309 0.5177982  0.         0.41062729\n",
      "  0.60759923 0.66060353 0.39920958 0.33243262 0.69797758 0.66374114\n",
      "  0.40416583 0.13952538 0.61211504 0.67229259 0.15508925 0.81490115\n",
      "  0.29537303 0.86371571 0.47976057 0.3934019  0.65967004 0.70258077\n",
      "  0.40749371 0.71519336 0.47657919 0.28098594 0.11476546 0.17103464\n",
      "  0.07056206 0.55845808 0.58312526 0.54062578 0.89227378 0.64121913\n",
      "  0.82376589 0.74939595 0.43600737 0.28505816 0.58801311 0.60590482\n",
      "  0.34322992 0.79457965 0.43543847 0.12954449 0.24103996 0.36213252\n",
      "  0.22096701 0.57849509 0.20014911 0.3927579  0.7367262  0.72236459\n",
      "  0.40222058 0.89909    0.61354161 0.63121849]\n",
      " [0.40732007 0.50152646 0.27776378 0.44625927 0.44058323 0.06038876\n",
      "  0.53100024 0.59374965 0.63630392 0.64632897 0.57016822 0.59760039\n",
      "  0.3426903  0.16889161 0.28628273 0.65290659 0.34279752 0.3859875\n",
      "  0.48945706 0.54022245 0.4683677  0.11858339 0.15673001 0.34296511\n",
      "  0.44198912 0.25823414 0.40493031 0.44392623 0.39728054 0.44093382\n",
      "  0.44332046 0.11938052 0.61460477 0.32765554 0.55464191 0.71967298\n",
      "  0.38290087 0.16678219 0.3035869  0.30576813 0.63459374 0.3839253\n",
      "  0.47180789 0.54992917 0.58210789 0.11435756 0.41062729 0.\n",
      "  0.20542206 0.25369371 0.2128555  0.2584445  0.41126488 0.35197094\n",
      "  0.42453731 0.49307839 0.55352225 0.26397272 0.25907977 0.43260511\n",
      "  0.69244526 0.53874795 0.21460298 0.51020923 0.39070242 0.37156641\n",
      "  0.25057894 0.48826356 0.13891782 0.26409256 0.29799521 0.46966943\n",
      "  0.34045644 0.30543751 0.26748465 0.3414581  0.48166045 0.24639787\n",
      "  0.53008989 0.37608118 0.26994764 0.62345759 0.50870476 0.29955998\n",
      "  0.21307523 0.39125489 0.1016761  0.52467627 0.44037121 0.37706342\n",
      "  0.33454981 0.3287393  0.34016437 0.27926565 0.32726984 0.39194879\n",
      "  0.31747841 0.54210468 0.32514053 0.39961846]\n",
      " [0.56937097 0.70674287 0.19273004 0.29416581 0.40740303 0.15682583\n",
      "  0.73562376 0.66814425 0.75914448 0.74893633 0.39634643 0.76134052\n",
      "  0.15154503 0.36086332 0.26439885 0.85303893 0.54506828 0.28889135\n",
      "  0.53550497 0.63360323 0.51278973 0.0937196  0.36031935 0.31395538\n",
      "  0.57255816 0.43633088 0.49122628 0.24356515 0.19290561 0.64544551\n",
      "  0.26937774 0.21997644 0.66553159 0.42701447 0.75219017 0.81181828\n",
      "  0.33266904 0.18877668 0.13436291 0.33136262 0.68508827 0.58333498\n",
      "  0.47424709 0.70975797 0.43654772 0.09138972 0.60759923 0.20542206\n",
      "  0.         0.13710357 0.29066284 0.44411402 0.29821937 0.37331909\n",
      "  0.50855853 0.69775919 0.6871335  0.13357455 0.45279757 0.23263533\n",
      "  0.89513477 0.50562233 0.33353872 0.6970667  0.4394163  0.36614439\n",
      "  0.41149555 0.54616207 0.15686279 0.40179495 0.49299226 0.63868487\n",
      "  0.53883324 0.39295629 0.18194974 0.32730746 0.29868639 0.04699354\n",
      "  0.52868951 0.18602287 0.31939095 0.82883101 0.6402891  0.34483106\n",
      "  0.32798365 0.25426566 0.18234935 0.72654864 0.64246125 0.47459945\n",
      "  0.4873135  0.2785195  0.499241   0.35686213 0.13657759 0.24197211\n",
      "  0.39061436 0.47116331 0.37751161 0.33715521]\n",
      " [0.65672199 0.72288423 0.32979231 0.19257131 0.27242647 0.23332448\n",
      "  0.74624921 0.55839852 0.67246695 0.65074523 0.31936012 0.70567269\n",
      "  0.13093719 0.42254156 0.39929156 0.89789061 0.55146388 0.15425137\n",
      "  0.41856379 0.53424802 0.39619919 0.19062051 0.38190544 0.45036515\n",
      "  0.49860958 0.5109289  0.61090317 0.30679022 0.21271453 0.67798808\n",
      "  0.19599753 0.32009812 0.5463354  0.34471177 0.74035792 0.7067672\n",
      "  0.46976309 0.30970662 0.25609977 0.22143619 0.56528574 0.58084604\n",
      "  0.34511488 0.65223596 0.3298351  0.17382803 0.66060353 0.25369371\n",
      "  0.13710357 0.         0.40589927 0.42845802 0.42874029 0.25648006\n",
      "  0.6292139  0.72848547 0.60995928 0.01619025 0.51189952 0.2985191\n",
      "  0.93252339 0.36939076 0.27860303 0.66913206 0.32900328 0.2396809\n",
      "  0.37485122 0.43363043 0.27260026 0.49990187 0.55004586 0.72151818\n",
      "  0.59004793 0.30770769 0.31904977 0.46273906 0.23909914 0.16505748\n",
      "  0.39722397 0.27927952 0.44387781 0.84560678 0.56362177 0.24293446\n",
      "  0.43280004 0.13854533 0.28165922 0.7679126  0.64487237 0.59041401\n",
      "  0.57945861 0.41553943 0.58781011 0.47548839 0.12017678 0.36239005\n",
      "  0.51165262 0.33491567 0.27484197 0.47388681]\n",
      " [0.30089912 0.56172223 0.19378036 0.58363592 0.64001815 0.18690482\n",
      "  0.598712   0.80409991 0.83075301 0.84911372 0.68552331 0.7625277\n",
      "  0.43918034 0.19746316 0.13134747 0.63977728 0.44698685 0.55762977\n",
      "  0.7023056  0.74735745 0.68116849 0.21528821 0.29254442 0.17126815\n",
      "  0.6380116  0.21111945 0.20527914 0.45293237 0.45736251 0.47416327\n",
      "  0.55957477 0.09575992 0.82720667 0.53762896 0.66026332 0.92483647\n",
      "  0.21848451 0.10252556 0.29438905 0.51494958 0.84716881 0.49637674\n",
      "  0.68038205 0.72077183 0.72601913 0.23294002 0.39920958 0.2128555\n",
      "  0.29066284 0.40589927 0.         0.42001291 0.29907236 0.56160991\n",
      "  0.22393346 0.52389768 0.74418986 0.40935253 0.26002274 0.44201545\n",
      "  0.69307632 0.74012469 0.42465187 0.64600284 0.60341521 0.57653111\n",
      "  0.44002853 0.70090481 0.13486141 0.12975461 0.29497773 0.37336759\n",
      "  0.3445693  0.51743713 0.1914553  0.15806895 0.58606963 0.30283338\n",
      "  0.73870617 0.37306145 0.06049518 0.67069156 0.70189799 0.51118629\n",
      "  0.05621756 0.53918534 0.12877198 0.52870013 0.53490784 0.18494981\n",
      "  0.21688149 0.18137867 0.23397358 0.07049414 0.4250101  0.32686173\n",
      "  0.10832965 0.73019884 0.53763445 0.24177337]\n",
      " [0.44235373 0.30906982 0.53411867 0.59923932 0.46663772 0.3187782\n",
      "  0.32565583 0.44552162 0.42137681 0.45510835 0.7343919  0.34465919\n",
      "  0.55087751 0.24100499 0.5277249  0.52001649 0.137782   0.49698518\n",
      "  0.40059712 0.37441755 0.38739855 0.37168116 0.12776701 0.58073518\n",
      "  0.23982734 0.30949003 0.5547966  0.68761798 0.62197199 0.29571646\n",
      "  0.62039532 0.35117502 0.49451766 0.22027079 0.31263832 0.53510113\n",
      "  0.62501397 0.4147631  0.55864874 0.31835551 0.51218318 0.15495049\n",
      "  0.4454015  0.3010066  0.70965845 0.36136781 0.33243262 0.2584445\n",
      "  0.44411402 0.42845802 0.42001291 0.         0.66739408 0.34521524\n",
      "  0.57319574 0.33688918 0.33226491 0.4438482  0.25776331 0.67673631\n",
      "  0.5391829  0.54045282 0.17102301 0.25361052 0.33011658 0.38904717\n",
      "  0.0779567  0.38325514 0.39387178 0.39031022 0.27013612 0.4739291\n",
      "  0.2763104  0.23130249 0.52430657 0.57329133 0.66560077 0.48993269\n",
      "  0.49414361 0.62657376 0.47997912 0.42808289 0.29468274 0.29072575\n",
      "  0.38851628 0.53936523 0.35103125 0.39361195 0.22050424 0.52037293\n",
      "  0.40991637 0.57490606 0.40127637 0.46627744 0.53691808 0.65027112\n",
      "  0.49857382 0.58831573 0.2911473  0.64468101]\n",
      " [0.58054214 0.85684605 0.13351584 0.52850713 0.70102253 0.35255206\n",
      "  0.89275373 0.96210949 1.03685546 1.03550393 0.57624961 1.00883925\n",
      "  0.36748141 0.48444447 0.16848722 0.93593277 0.72707666 0.56788896\n",
      "  0.83270795 0.92227752 0.80999035 0.31504915 0.55054589 0.15097629\n",
      "  0.84431624 0.5101822  0.39955385 0.25337144 0.32657381 0.7721058\n",
      "  0.47707841 0.32392886 0.96294961 0.71009734 0.9435654  1.10231036\n",
      "  0.11827091 0.25552075 0.1745063  0.62828022 0.98261566 0.77423145\n",
      "  0.77180604 0.96109718 0.65676053 0.3330223  0.69797758 0.41126488\n",
      "  0.29821937 0.42874029 0.29907236 0.66739408 0.         0.67113043\n",
      "  0.40791753 0.82240064 0.95823815 0.42070945 0.55746669 0.24717667\n",
      "  0.990736   0.79656595 0.60499277 0.91408068 0.7353616  0.66408103\n",
      "  0.66042362 0.84200745 0.27355265 0.42120394 0.59357009 0.65169822\n",
      "  0.64334589 0.67903251 0.14385207 0.17549902 0.47944501 0.26368756\n",
      "  0.82537586 0.19530644 0.26658942 0.96854653 0.91220013 0.63944114\n",
      "  0.35479307 0.51191081 0.31680694 0.82751887 0.82055297 0.4054167\n",
      "  0.50111563 0.12116072 0.52088184 0.31539996 0.36138845 0.08653347\n",
      "  0.32296965 0.74937318 0.67173943 0.09892725]\n",
      " [0.72768181 0.64970582 0.55524715 0.32958636 0.12197715 0.37731398\n",
      "  0.66063897 0.3022153  0.43243051 0.40002739 0.45644387 0.50743407\n",
      "  0.37563644 0.48099636 0.60365685 0.86519969 0.48243947 0.20689923\n",
      "  0.16285024 0.28457187 0.14025245 0.375934   0.3827993  0.66014928\n",
      "  0.28721383 0.5751015  0.75683263 0.56041128 0.45921438 0.64029586\n",
      "  0.37714065 0.46588774 0.29235119 0.14752813 0.61437517 0.45158498\n",
      "  0.68968781 0.49053986 0.50505404 0.04675205 0.31182303 0.49036225\n",
      "  0.12015571 0.45454258 0.39863886 0.35508173 0.66374114 0.35197094\n",
      "  0.37331909 0.25648006 0.56160991 0.34521524 0.67113043 0.\n",
      "  0.77645616 0.68208811 0.38458655 0.26986253 0.5474922  0.55286213\n",
      "  0.88339575 0.20064156 0.18408621 0.52085508 0.07545458 0.04813198\n",
      "  0.26778646 0.1772261  0.45258878 0.60982235 0.57554678 0.77752623\n",
      "  0.59869763 0.11947082 0.54371337 0.6661472  0.42303385 0.41246798\n",
      "  0.17825516 0.53556023 0.6148811  0.7634231  0.34186825 0.05845927\n",
      "  0.56491543 0.27905602 0.43647973 0.73809958 0.55475307 0.72843472\n",
      "  0.66800112 0.63294475 0.6683061  0.6300526  0.3689722  0.61303836\n",
      "  0.66839845 0.24401448 0.05598424 0.69915466]\n",
      " [0.22946258 0.6046665  0.3641832  0.80272018 0.86122104 0.4087876\n",
      "  0.64408201 0.99627686 0.99454104 1.02526801 0.89694232 0.89268625\n",
      "  0.65166922 0.33325807 0.27291208 0.59636045 0.54899959 0.78146962\n",
      "  0.90778056 0.93308963 0.88770163 0.43881399 0.4516713  0.25999383\n",
      "  0.80956807 0.2732063  0.01966791 0.627998   0.65656266 0.50575708\n",
      "  0.77383045 0.31643894 1.02784594 0.73312903 0.73633567 1.10409775\n",
      "  0.29041994 0.32087994 0.48086126 0.73030524 1.04748335 0.59771974\n",
      "  0.89634484 0.85943588 0.94507003 0.45679884 0.40416583 0.42453731\n",
      "  0.50855853 0.6292139  0.22393346 0.57319574 0.40791753 0.77645616\n",
      "  0.         0.5436553  0.90530159 0.63203647 0.33484317 0.61838793\n",
      "  0.65841062 0.96078217 0.62329708 0.7530779  0.81125031 0.79514515\n",
      "  0.61473256 0.90277749 0.35681061 0.18316079 0.34813914 0.28545398\n",
      "  0.38370837 0.71846828 0.36801734 0.23517473 0.79604428 0.51306663\n",
      "  0.95462119 0.55058388 0.1898709  0.68708501 0.86762903 0.7231652\n",
      "  0.21155746 0.76074069 0.35203657 0.51999491 0.61448722 0.05282388\n",
      "  0.18829683 0.29893555 0.2071529  0.15377723 0.63843681 0.47174672\n",
      "  0.11803498 0.95381145 0.74706116 0.31279252]\n",
      " [0.32035998 0.07709702 0.70527383 0.91420754 0.80350454 0.54260297\n",
      "  0.11136025 0.72802561 0.62808826 0.6922923  1.04653717 0.45829045\n",
      "  0.833746   0.34772257 0.65524453 0.18359853 0.20010392 0.82314609\n",
      "  0.72074307 0.65208848 0.71120419 0.60656125 0.3467419  0.69013245\n",
      "  0.51097124 0.31420012 0.53271225 0.92882181 0.89025423 0.05248924\n",
      "  0.92441726 0.51468704 0.7917616  0.5512083  0.2294251  0.76964002\n",
      "  0.73706383 0.58195824 0.7759708  0.65439905 0.80645877 0.204905\n",
      "  0.77907431 0.45209219 1.03531798 0.60637326 0.13952538 0.49307839\n",
      "  0.69775919 0.72848547 0.52389768 0.33688918 0.82240064 0.68208811\n",
      "  0.5436553  0.         0.54835221 0.74193436 0.26534972 0.9173412\n",
      "  0.20541891 0.87582423 0.50486867 0.3001589  0.66247464 0.72578874\n",
      "  0.41441782 0.69835212 0.58306769 0.41385318 0.22892311 0.29380268\n",
      "  0.17946637 0.56682178 0.69939743 0.67192638 0.9663866  0.73608022\n",
      "  0.82470375 0.85473613 0.56612371 0.14795196 0.53370689 0.62739559\n",
      "  0.46922763 0.8548993  0.53901625 0.06795107 0.15729256 0.50149235\n",
      "  0.35988257 0.70513203 0.3392633  0.52560531 0.81849252 0.83914365\n",
      "  0.5380504  0.92508832 0.62775873 0.76153828]\n",
      " [0.75830511 0.48156779 0.82640609 0.71414974 0.47559835 0.608369\n",
      "  0.46850505 0.20970881 0.0895187  0.14402456 0.8398594  0.15023337\n",
      "  0.73987309 0.57319463 0.83895275 0.71378775 0.39077234 0.59148313\n",
      "  0.2896453  0.14554191 0.2974118  0.64396497 0.45741168 0.89484142\n",
      "  0.11470564 0.63826965 0.88698818 0.91333223 0.82260466 0.53283611\n",
      "  0.75993932 0.66473977 0.28573138 0.26533476 0.36519747 0.22178728\n",
      "  0.93608568 0.72015143 0.81898346 0.39965152 0.29350549 0.35732576\n",
      "  0.39786989 0.11409143 0.77263999 0.62730122 0.61211504 0.55352225\n",
      "  0.6871335  0.60995928 0.74418986 0.33226491 0.95823815 0.38458655\n",
      "  0.90530159 0.54835221 0.         0.62573455 0.58203677 0.90408966\n",
      "  0.70387027 0.48936862 0.35529204 0.26179949 0.3138958  0.42774063\n",
      "  0.30525212 0.25860879 0.69152571 0.72254712 0.58547529 0.77597877\n",
      "  0.57606    0.30225198 0.81540567 0.8908737  0.80635588 0.73343519\n",
      "  0.4107348  0.87079421 0.80468159 0.55284644 0.04686788 0.37196685\n",
      "  0.7178743  0.66243445 0.65481438 0.61627422 0.39125705 0.8524893\n",
      "  0.73721968 0.88225772 0.72640534 0.79556307 0.73001507 0.92272808\n",
      "  0.82909201 0.57843955 0.34363241 0.95313475]\n",
      " [0.66489907 0.73720417 0.32543003 0.18290871 0.28046389 0.2405137\n",
      "  0.76087824 0.5720103  0.68780381 0.66536404 0.30721098 0.72184061\n",
      "  0.11482506 0.43284581 0.39748787 0.91049457 0.56609099 0.15537289\n",
      "  0.43143428 0.54888505 0.40917037 0.19452818 0.39522411 0.44752926\n",
      "  0.51454665 0.52024768 0.61391572 0.29203308 0.19687417 0.69125653\n",
      "  0.18255226 0.32545618 0.55863835 0.36054572 0.75591604 0.72074275\n",
      "  0.46542842 0.31166587 0.24714956 0.23587731 0.57746128 0.59592467\n",
      "  0.35554173 0.66839619 0.32205901 0.17884652 0.67229259 0.26397272\n",
      "  0.13357455 0.01619025 0.40935253 0.4438482  0.42070945 0.26986253\n",
      "  0.63203647 0.74193436 0.62573455 0.         0.5227462  0.28394937\n",
      "  0.94569604 0.37613569 0.29474137 0.68508897 0.34296178 0.2512569\n",
      "  0.39079022 0.44708802 0.27523064 0.50634349 0.56117348 0.73033104\n",
      "  0.60176506 0.32349705 0.31490981 0.46065425 0.2248726  0.15750016\n",
      "  0.40672891 0.26677824 0.44553654 0.85998975 0.57943984 0.25799962\n",
      "  0.43806137 0.13132609 0.28679553 0.78066128 0.6598027  0.59417928\n",
      "  0.5868897  0.41184584 0.59571208 0.47849156 0.10429097 0.35247956\n",
      "  0.51422501 0.33763655 0.28972646 0.46873777]\n",
      " [0.18671688 0.30226142 0.44023265 0.70430446 0.6580737  0.2963091\n",
      "  0.33986833 0.70189247 0.67150089 0.71129221 0.82924649 0.55834919\n",
      "  0.59850776 0.09202191 0.39114242 0.4016799  0.21429426 0.63443496\n",
      "  0.64186332 0.63185504 0.62540692 0.35914937 0.16534638 0.42914515\n",
      "  0.49707579 0.06238642 0.31856851 0.67218836 0.64491458 0.21464864\n",
      "  0.70232094 0.25260404 0.74671868 0.45757215 0.41228176 0.79163155\n",
      "  0.47642786 0.318126   0.51606081 0.50777125 0.76511493 0.26341614\n",
      "  0.66307559 0.5268922  0.83773402 0.36346702 0.15508925 0.25907977\n",
      "  0.45279757 0.51189952 0.26002274 0.25776331 0.55746669 0.5474922\n",
      "  0.33484317 0.26534972 0.58203677 0.5227462  0.         0.6607229\n",
      "  0.44780937 0.74769361 0.36617521 0.41894266 0.55710536 0.58128005\n",
      "  0.31829594 0.62909331 0.32282398 0.16565547 0.04032982 0.23008582\n",
      "  0.08894043 0.45544548 0.43463205 0.41267985 0.74006025 0.48612988\n",
      "  0.71793096 0.59585766 0.30660928 0.41108979 0.5484015  0.48906426\n",
      "  0.20694313 0.64810713 0.28084719 0.27914466 0.28701114 0.2836735\n",
      "  0.1555536  0.44135517 0.14447574 0.27162322 0.58302651 0.57440533\n",
      "  0.29195346 0.77198159 0.50263144 0.50042501]\n",
      " [0.74267615 0.93259529 0.25636483 0.31542079 0.54223381 0.37704038\n",
      "  0.96311252 0.85499353 0.96975157 0.9492535  0.33504987 0.98862605\n",
      "  0.18096924 0.57150976 0.34595914 1.06170463 0.7751291  0.39177444\n",
      "  0.71270676 0.83275975 0.69080905 0.31429782 0.58926472 0.36450818\n",
      "  0.79085944 0.63174942 0.60560055 0.01148501 0.10475035 0.86486038\n",
      "  0.25488532 0.40940382 0.83741268 0.63921311 0.98427076 1.00432557\n",
      "  0.35127656 0.35027863 0.14815698 0.51982004 0.85562079 0.81476003\n",
      "  0.62752516 0.93621662 0.42603263 0.31932483 0.81490115 0.43260511\n",
      "  0.23263533 0.2985191  0.44201545 0.67673631 0.24717667 0.55286213\n",
      "  0.61838793 0.9173412  0.90408966 0.28394937 0.6607229  0.\n",
      "  1.1084158  0.6254002  0.55762562 0.92951843 0.62667028 0.52969267\n",
      "  0.64175482 0.72987249 0.3383827  0.57063571 0.70084097 0.8150088\n",
      "  0.74935269 0.60287225 0.25485743 0.38795355 0.24465671 0.18744373\n",
      "  0.67279508 0.06918904 0.44055151 1.05345016 0.85736451 0.54127078\n",
      "  0.49394066 0.31942615 0.37997961 0.93952514 0.87270242 0.60125755\n",
      "  0.65848967 0.32274644 0.67468449 0.48953771 0.1849049  0.16152848\n",
      "  0.51185816 0.55820144 0.57332172 0.33893015]\n",
      " [0.43101019 0.2370453  0.88298408 1.11922782 1.00523107 0.73861367\n",
      "  0.23814112 0.8996193  0.77320243 0.84600452 1.25112753 0.58571127\n",
      "  1.03476639 0.53726826 0.82228282 0.06390126 0.40140813 1.028509\n",
      "  0.90978469 0.82444519 0.90228253 0.80250458 0.55064281 0.8491108\n",
      "  0.68842856 0.48358986 0.65250222 1.1198883  1.08804016 0.25462443\n",
      "  1.12824829 0.70021306 0.96833604 0.74803474 0.34197557 0.91829474\n",
      "  0.89438118 0.76437027 0.96379377 0.8575064  0.98128337 0.39591111\n",
      "  0.97590498 0.59550014 1.24073124 0.80407482 0.29537303 0.69244526\n",
      "  0.89513477 0.93252339 0.69307632 0.5391829  0.990736   0.88339575\n",
      "  0.65841062 0.20541891 0.70387027 0.94569604 0.44780937 1.1084158\n",
      "  0.         1.07398346 0.70878431 0.44215348 0.85903411 0.92801783\n",
      "  0.61577905 0.88528748 0.77062467 0.57018601 0.40788345 0.3742606\n",
      "  0.35906531 0.76638904 0.87844679 0.8282362  1.16964437 0.93131933\n",
      "  1.0188634  1.04365707 0.72595598 0.15459431 0.69876798 0.82981931\n",
      "  0.6368839  1.0600253  0.72843936 0.16898765 0.33566006 0.62704664\n",
      "  0.49718981 0.87032657 0.47617048 0.68000825 1.019407   1.01755447\n",
      "  0.68372483 1.12713585 0.82838684 0.9193355 ]\n",
      " [0.9264362  0.83790643 0.69806419 0.32699658 0.10055739 0.55322347\n",
      "  0.84499477 0.3215718  0.50371657 0.44244742 0.41202824 0.63369682\n",
      "  0.44735974 0.67876804 0.76127627 1.05940674 0.67573546 0.23444655\n",
      "  0.19972482 0.35113084 0.19384217 0.53665814 0.58330545 0.81502299\n",
      "  0.42447847 0.77341088 0.94136471 0.6298556  0.52128633 0.8361391\n",
      "  0.39005313 0.64511135 0.26531744 0.32602345 0.78458345 0.46132585\n",
      "  0.83761062 0.65770955 0.62239426 0.24045696 0.27698278 0.67827343\n",
      "  0.09983386 0.5856403  0.31631603 0.51617503 0.86371571 0.53874795\n",
      "  0.50562233 0.36939076 0.74012469 0.54045282 0.79656595 0.20064156\n",
      "  0.96078217 0.87582423 0.48936862 0.37613569 0.74769361 0.6254002\n",
      "  1.07398346 0.         0.38452954 0.68389417 0.21561321 0.16849101\n",
      "  0.4624971  0.23076004 0.61894949 0.80157806 0.77613875 0.9775929\n",
      "  0.79915385 0.30923455 0.68706732 0.82501597 0.42546878 0.5336317\n",
      "  0.08180961 0.62960364 0.78875886 0.9466452  0.45777856 0.25905191\n",
      "  0.75064768 0.30667581 0.61170681 0.93402717 0.74062944 0.91496563\n",
      "  0.86419927 0.78240651 0.86559877 0.8101991  0.4475887  0.72528656\n",
      "  0.84837022 0.09905797 0.25048903 0.84276935]\n",
      " [0.54946343 0.48008883 0.47479793 0.43395991 0.30186251 0.26154442\n",
      "  0.49606963 0.37957301 0.43189893 0.4342727  0.5693394  0.43127035\n",
      "  0.40818676 0.30719983 0.49803994 0.68659228 0.30806606 0.32714789\n",
      "  0.28551049 0.32597576 0.26642324 0.28996215 0.20083043 0.55528973\n",
      "  0.24063731 0.39879151 0.60369512 0.56757383 0.48650788 0.46067618\n",
      "  0.46113749 0.33360938 0.40487549 0.11315153 0.47066034 0.50598179\n",
      "  0.59300616 0.37817606 0.46404435 0.15042579 0.42463882 0.3246026\n",
      "  0.29701254 0.37863682 0.53939535 0.27257674 0.47976057 0.21460298\n",
      "  0.33353872 0.27860303 0.42465187 0.17102301 0.60499277 0.18408621\n",
      "  0.62329708 0.50486867 0.35529204 0.29474137 0.36617521 0.55762562\n",
      "  0.70878431 0.38452954 0.         0.3924404  0.19314287 0.22352648\n",
      "  0.10129668 0.27948322 0.34543378 0.44686778 0.39255648 0.59611303\n",
      "  0.41463975 0.09528547 0.4635411  0.55521593 0.50750247 0.38030498\n",
      "  0.35181169 0.51887443 0.48327977 0.59875132 0.30868619 0.12615074\n",
      "  0.41469534 0.37450041 0.31467181 0.55798358 0.39031232 0.57253555\n",
      "  0.49546902 0.53733675 0.49352441 0.48742207 0.3958787  0.56743652\n",
      "  0.52481029 0.4220161  0.13649121 0.60781065]\n",
      " [0.56480309 0.2271004  0.78186409 0.82322813 0.63767273 0.57056162\n",
      "  0.2087414  0.46235448 0.33322158 0.40400689 0.9580136  0.15865603\n",
      "  0.79626531 0.44999119 0.76530446 0.45443567 0.20502209 0.7095031\n",
      "  0.4971861  0.38895987 0.49517437 0.62505346 0.36360281 0.8146714\n",
      "  0.26453161 0.48125338 0.73725301 0.94029932 0.8707206  0.29738676\n",
      "  0.85335083 0.59184284 0.53441305 0.37332704 0.10587377 0.4776083\n",
      "  0.86079439 0.65888847 0.81203362 0.51205064 0.54559205 0.15552751\n",
      "  0.58430386 0.15494897 0.91601647 0.61497508 0.3934019  0.51020923\n",
      "  0.6970667  0.66913206 0.64600284 0.25361052 0.91408068 0.52085508\n",
      "  0.7530779  0.3001589  0.26179949 0.68508897 0.41894266 0.92951843\n",
      "  0.44215348 0.68389417 0.3924404  0.         0.47297435 0.56897911\n",
      "  0.29430903 0.46893325 0.64199652 0.58193909 0.40622485 0.5643677\n",
      "  0.37913481 0.40405039 0.77259304 0.80377968 0.899838   0.74315802\n",
      "  0.61609115 0.88014222 0.70288554 0.29131825 0.26027148 0.48076767\n",
      "  0.60401987 0.76456228 0.59760514 0.36726576 0.15264288 0.7024474\n",
      "  0.56796443 0.81441633 0.55210023 0.67859202 0.78300923 0.90193831\n",
      "  0.70480456 0.75629374 0.46605072 0.88219692]\n",
      " [0.74177721 0.62262224 0.61532135 0.40219671 0.16760991 0.42450518\n",
      "  0.6293819  0.22992297 0.35781142 0.32467095 0.52604898 0.44342336\n",
      "  0.45045242 0.500309   0.65722869 0.84602316 0.46275391 0.27940017\n",
      "  0.09998956 0.2091173  0.07805329 0.43187011 0.3922002  0.71437203\n",
      "  0.22411737 0.59178521 0.79158569 0.63443818 0.53412319 0.62451395\n",
      "  0.45153119 0.50866756 0.22942559 0.11127783 0.57142107 0.37778703\n",
      "  0.74652078 0.54081082 0.57275759 0.10870908 0.24941033 0.46314492\n",
      "  0.11687218 0.39162304 0.46095729 0.41138416 0.65967004 0.39070242\n",
      "  0.4394163  0.32900328 0.60341521 0.33011658 0.7353616  0.07545458\n",
      "  0.81125031 0.66247464 0.3138958  0.34296178 0.55710536 0.62667028\n",
      "  0.85903411 0.21561321 0.19314287 0.47297435 0.         0.11416714\n",
      "  0.25285595 0.10675665 0.50398381 0.63800804 0.58107211 0.78620057\n",
      "  0.59836628 0.10202223 0.60374094 0.71848154 0.49709133 0.48054527\n",
      "  0.16419334 0.60707797 0.65932246 0.73107131 0.27303756 0.09676812\n",
      "  0.60046839 0.35333727 0.48275961 0.72220089 0.52512011 0.76148605\n",
      "  0.68859358 0.68969883 0.68661857 0.66975204 0.44341151 0.68082002\n",
      "  0.70783748 0.28346812 0.06639778 0.75752372]\n",
      " [0.75850211 0.69523954 0.55377882 0.28832333 0.07833685 0.39006548\n",
      "  0.70697077 0.32846741 0.47106276 0.4332072  0.41212939 0.55373083\n",
      "  0.34982086 0.51058971 0.60847118 0.90848934 0.52669065 0.16569034\n",
      "  0.18384179 0.31976516 0.16266309 0.38076514 0.41803398 0.66401667\n",
      "  0.33346116 0.6053564  0.77562905 0.53655259 0.43244559 0.68303141\n",
      "  0.33921127 0.48094396 0.30802723 0.19565288 0.66225293 0.47935349\n",
      "  0.69085307 0.49924537 0.49417754 0.07390145 0.32657817 0.53623777\n",
      "  0.10865622 0.50109745 0.35117569 0.35989304 0.70258077 0.37156641\n",
      "  0.36614439 0.2396809  0.57653111 0.38904717 0.66408103 0.04813198\n",
      "  0.79514515 0.72578874 0.42774063 0.2512569  0.58128005 0.52969267\n",
      "  0.92801783 0.16849101 0.22352648 0.56897911 0.11416714 0.\n",
      "  0.31228364 0.20412189 0.46069849 0.63352697 0.61096247 0.81075556\n",
      "  0.63637311 0.16688257 0.54238104 0.67173617 0.38420703 0.40183887\n",
      "  0.1652887  0.51791136 0.62741909 0.80984523 0.38609364 0.09841245\n",
      "  0.58423759 0.24112395 0.4491383  0.78065305 0.60094583 0.74847659\n",
      "  0.69571901 0.6344886  0.69723305 0.64605421 0.34479594 0.60139592\n",
      "  0.6843684  0.19930038 0.10352753 0.6986967 ]\n",
      " [0.5049713  0.38345416 0.52724317 0.53518819 0.38948754 0.30794586\n",
      "  0.39723456 0.3858915  0.39084488 0.41193364 0.67057974 0.35181511\n",
      "  0.5022038  0.28275295 0.5343046  0.59772887 0.21465311 0.42788509\n",
      "  0.32728846 0.31917412 0.31283866 0.35136393 0.16402189 0.58987128\n",
      "  0.19821102 0.36334555 0.59566544 0.65219276 0.57778315 0.37366784\n",
      "  0.561235   0.35952208 0.42842512 0.14431356 0.36952572 0.48987288\n",
      "  0.63165514 0.4162423  0.53527236 0.24282963 0.44686867 0.22562943\n",
      "  0.36765595 0.30194216 0.63963623 0.33747321 0.40749371 0.25057894\n",
      "  0.41149555 0.37485122 0.44002853 0.0779567  0.66042362 0.26778646\n",
      "  0.61473256 0.41441782 0.30525212 0.39079022 0.31829594 0.64175482\n",
      "  0.61577905 0.4624971  0.10129668 0.29430903 0.25285595 0.31228364\n",
      "  0.         0.31213043 0.38946244 0.43213864 0.33640696 0.54206092\n",
      "  0.34830324 0.15338267 0.51663199 0.58563423 0.60734805 0.45838658\n",
      "  0.41703113 0.59722641 0.50049305 0.50015688 0.26204204 0.21428738\n",
      "  0.41728301 0.4756596  0.35087828 0.4715627  0.29112516 0.56222769\n",
      "  0.46393922 0.57850815 0.4578264  0.49432895 0.48912975 0.63342666\n",
      "  0.52928434 0.511358   0.21336152 0.64930228]\n",
      " [0.81570708 0.64875849 0.72124138 0.487287   0.22884879 0.52613694\n",
      "  0.649096   0.12514996 0.27954793 0.231295   0.60230785 0.4039798\n",
      "  0.55173177 0.58221621 0.76079932 0.87974413 0.50379013 0.36666556\n",
      "  0.03103822 0.12429539 0.04358363 0.53693593 0.46795927 0.81811027\n",
      "  0.20441372 0.66993539 0.8831776  0.73728596 0.63500514 0.66624646\n",
      "  0.54147726 0.60736147 0.12635103 0.17252672 0.57326642 0.27548477\n",
      "  0.85126497 0.64324323 0.67940673 0.21513242 0.14636285 0.49376466\n",
      "  0.14231173 0.3574042  0.5241921  0.51662878 0.71519336 0.48826356\n",
      "  0.54616207 0.43363043 0.70090481 0.38325514 0.84200745 0.1772261\n",
      "  0.90277749 0.69835212 0.25860879 0.44708802 0.62909331 0.72987249\n",
      "  0.88528748 0.23076004 0.27948322 0.46893325 0.10675665 0.20412189\n",
      "  0.31213043 0.         0.60707495 0.72551437 0.64850529 0.85419124\n",
      "  0.65920835 0.18444063 0.70966064 0.82135689 0.58544794 0.58711518\n",
      "  0.15297843 0.71249208 0.75813449 0.74712933 0.2282931  0.20277247\n",
      "  0.69383745 0.4439336  0.58353618 0.76203109 0.55003892 0.85193498\n",
      "  0.76915947 0.79448884 0.76512572 0.76551066 0.54560529 0.78747808\n",
      "  0.80322221 0.32141224 0.17098855 0.86280025]\n",
      " [0.41682676 0.60531957 0.14026931 0.44884218 0.51839212 0.08395718\n",
      "  0.63857239 0.71933439 0.77325698 0.7796798  0.55304507 0.73567998\n",
      "  0.30732522 0.23539146 0.15392681 0.7233425  0.46134476 0.42572925\n",
      "  0.60397224 0.67061183 0.58186097 0.08346575 0.27952322 0.21135411\n",
      "  0.57914814 0.29421101 0.33870044 0.34981631 0.33447723 0.53080821\n",
      "  0.42624022 0.07115145 0.73269431 0.45646149 0.67737537 0.85102451\n",
      "  0.24759589 0.03876007 0.19334202 0.40608497 0.75274747 0.50658039\n",
      "  0.56775422 0.68850376 0.59119732 0.10318405 0.47657919 0.13891782\n",
      "  0.15686279 0.27260026 0.13486141 0.39387178 0.27355265 0.45258878\n",
      "  0.35681061 0.58306769 0.69152571 0.27523064 0.32282398 0.3383827\n",
      "  0.77062467 0.61894949 0.34543378 0.64199652 0.50398381 0.46069849\n",
      "  0.38946244 0.60707495 0.         0.24669108 0.36277861 0.48755319\n",
      "  0.41167768 0.4299689  0.13066586 0.21449806 0.45465347 0.17509258\n",
      "  0.62553462 0.2730339  0.17213889 0.72335411 0.64632635 0.40803118\n",
      "  0.17161132 0.40449639 0.04567394 0.60193896 0.55735743 0.31974281\n",
      "  0.33356004 0.19198101 0.34691216 0.20329968 0.29272361 0.26359012\n",
      "  0.23908155 0.60167536 0.43763742 0.26264648]\n",
      " [0.17225448 0.46164937 0.32335091 0.68706441 0.70421609 0.26684323\n",
      "  0.50032617 0.81530188 0.81168438 0.84216741 0.79774358 0.71537314\n",
      "  0.55319994 0.15010615 0.25323133 0.51475417 0.3769612  0.64424123\n",
      "  0.73237094 0.75097941 0.71304886 0.31487086 0.2686713  0.27950281\n",
      "  0.62643154 0.10452374 0.1645385  0.58166399 0.57980742 0.3674754\n",
      "  0.67011285 0.18268769 0.84951587 0.55429655 0.57782734 0.92110298\n",
      "  0.32555699 0.22340788 0.42260098 0.56485091 0.86895529 0.42675678\n",
      "  0.72990213 0.67994333 0.828103   0.32808747 0.28098594 0.26409256\n",
      "  0.40179495 0.49990187 0.12975461 0.39031022 0.42120394 0.60982235\n",
      "  0.18316079 0.41385318 0.72254712 0.50634349 0.16565547 0.57063571\n",
      "  0.57018601 0.80157806 0.44686778 0.58193909 0.63800804 0.63352697\n",
      "  0.43213864 0.72551437 0.24669108 0.         0.19072477 0.24441018\n",
      "  0.23650612 0.5420883  0.32120611 0.25965704 0.70046256 0.42152931\n",
      "  0.78768667 0.50192076 0.15580796 0.56180315 0.68455955 0.55419332\n",
      "  0.07696024 0.63765592 0.22136007 0.40982004 0.45266131 0.13039388\n",
      "  0.08804531 0.30037128 0.10427627 0.11192624 0.53834568 0.45559065\n",
      "  0.12686547 0.80583288 0.5756103  0.35038119]\n",
      " [0.17356087 0.27123776 0.47833375 0.74223264 0.68834538 0.33641036\n",
      "  0.3097228  0.7156389  0.67455508 0.71841339 0.86798909 0.55135115\n",
      "  0.63832127 0.13213481 0.4263252  0.36137138 0.20498782 0.66996446\n",
      "  0.66278668 0.64404837 0.64718522 0.39937346 0.19296553 0.46210843\n",
      "  0.50641054 0.08699968 0.33321979 0.71230217 0.68519069 0.17955081\n",
      "  0.74131135 0.29234013 0.7635805  0.47852121 0.39016921 0.79896183\n",
      "  0.5092301  0.35720522 0.55591033 0.53716839 0.78157128 0.25184628\n",
      "  0.68940908 0.52320598 0.87469203 0.40347608 0.11476546 0.29799521\n",
      "  0.49299226 0.55004586 0.29497773 0.27013612 0.59357009 0.57554678\n",
      "  0.34813914 0.22892311 0.58547529 0.56117348 0.04032982 0.70084097\n",
      "  0.40788345 0.77613875 0.39255648 0.40622485 0.58107211 0.61096247\n",
      "  0.33640696 0.64850529 0.36277861 0.19072477 0.         0.20581155\n",
      "  0.04998456 0.47907266 0.47301964 0.44464645 0.77940914 0.5264556\n",
      "  0.74333685 0.63579658 0.33853736 0.37592176 0.55422738 0.51710141\n",
      "  0.24051051 0.68562157 0.32104975 0.23945172 0.26673331 0.29890198\n",
      "  0.16174085 0.47625148 0.14631075 0.30053214 0.62284025 0.61272683\n",
      "  0.31748622 0.80373174 0.5289003  0.53352062]\n",
      " [0.07253409 0.36711851 0.56554721 0.9132118  0.88710823 0.49141202\n",
      "  0.4043485  0.9184069  0.8635259  0.91365219 1.0309848  0.72022061\n",
      "  0.7899436  0.3049668  0.48845799 0.3115273  0.38534142 0.85450145\n",
      "  0.86859793 0.84564929 0.85293919 0.54755984 0.39531654 0.50234687\n",
      "  0.70577613 0.21161083 0.28128507 0.82601426 0.82199548 0.27287847\n",
      "  0.9029064  0.41929092 0.96833435 0.68432082 0.51611526 0.99410541\n",
      "  0.54392839 0.46713164 0.66700548 0.73744606 0.98609573 0.42323984\n",
      "  0.89308856 0.70072344 1.05113853 0.55749606 0.17103464 0.46966943\n",
      "  0.63868487 0.72151818 0.37336759 0.4739291  0.65169822 0.77752623\n",
      "  0.28545398 0.29380268 0.77597877 0.73033104 0.23008582 0.8150088\n",
      "  0.3742606  0.9775929  0.59611303 0.5643677  0.78620057 0.81075556\n",
      "  0.54206092 0.85419124 0.48755319 0.24441018 0.20581155 0.\n",
      "  0.20099496 0.68429169 0.56419582 0.47906123 0.93627052 0.66248964\n",
      "  0.94772367 0.74622485 0.38726178 0.42265533 0.74876143 0.71911362\n",
      "  0.32127726 0.85991235 0.45635228 0.25173354 0.41207383 0.25949295\n",
      "  0.15653691 0.5311828  0.14091205 0.3372248  0.77474553 0.6952863\n",
      "  0.32998725 0.9994321  0.73259987 0.56864325]\n",
      " [0.1866031  0.22576268 0.52829594 0.78146648 0.714383   0.38201348\n",
      "  0.26480749 0.7185334  0.66416954 0.71285224 0.90895907 0.5296743\n",
      "  0.68246328 0.17866517 0.47589772 0.31426507 0.18677523 0.70467146\n",
      "  0.67547454 0.64527706 0.66111655 0.44548008 0.22063532 0.5108299\n",
      "  0.50493889 0.13490361 0.37008855 0.76082451 0.73146276 0.13117454\n",
      "  0.78300085 0.34154138 0.77038208 0.49238855 0.35276749 0.79334824\n",
      "  0.55784103 0.40689494 0.60495673 0.56248597 0.78776972 0.22894381\n",
      "  0.70958265 0.50562417 0.91177647 0.44859005 0.07056206 0.34045644\n",
      "  0.53883324 0.59004793 0.3445693  0.2763104  0.64334589 0.59869763\n",
      "  0.38370837 0.17946637 0.57606    0.60176506 0.08894043 0.74935269\n",
      "  0.35906531 0.79915385 0.41463975 0.37913481 0.59836628 0.63637311\n",
      "  0.34830324 0.65920835 0.41167768 0.23650612 0.04998456 0.20099496\n",
      "  0.         0.49656801 0.52294054 0.49292531 0.82202062 0.57342449\n",
      "  0.76198902 0.68469875 0.38695693 0.32692829 0.5479763  0.54053757\n",
      "  0.28976546 0.72406756 0.36938156 0.19026283 0.23293544 0.33662297\n",
      "  0.19541158 0.52571331 0.17710935 0.3475691  0.66699596 0.66266492\n",
      "  0.36248289 0.83179643 0.54973186 0.58224756]\n",
      " [0.64059215 0.53160167 0.55246802 0.42752413 0.2408747  0.34716763\n",
      "  0.5416231  0.28952167 0.3676514  0.35692864 0.55995374 0.40626987\n",
      "  0.43778675 0.40118479 0.58378892 0.75035137 0.3667238  0.3088355\n",
      "  0.19040259 0.24329984 0.17179888 0.36615433 0.29089424 0.6412257\n",
      "  0.19185734 0.49146595 0.69885517 0.61189385 0.52037118 0.52692434\n",
      "  0.46633052 0.42480997 0.3102649  0.03727274 0.49561938 0.4236536\n",
      "  0.67683958 0.46469513 0.52701428 0.10911604 0.3301284  0.37196781\n",
      "  0.21451941 0.35254725 0.51213103 0.34693118 0.55845808 0.30543751\n",
      "  0.39295629 0.30770769 0.51743713 0.23130249 0.67903251 0.11947082\n",
      "  0.71846828 0.56682178 0.30225198 0.32349705 0.45544548 0.60287225\n",
      "  0.76638904 0.30923455 0.09528547 0.40405039 0.10202223 0.16688257\n",
      "  0.15338267 0.18444063 0.4299689  0.5420883  0.47907266 0.68429169\n",
      "  0.49656801 0.         0.54098139 0.64279175 0.51326801 0.43792894\n",
      "  0.26546505 0.57279577 0.57530541 0.64430413 0.25595411 0.07787371\n",
      "  0.50940536 0.37144386 0.40301438 0.624806   0.43592199 0.66778872\n",
      "  0.58920905 0.62046353 0.58652437 0.58137039 0.42778502 0.63359129\n",
      "  0.61898086 0.36274693 0.06349025 0.69014144]\n",
      " [0.49166256 0.72756971 0.01158118 0.45789005 0.58821781 0.20871639\n",
      "  0.76213035 0.82726093 0.89494745 0.89611434 0.53596153 0.86508496\n",
      "  0.29718545 0.35403864 0.09670867 0.82726315 0.58968076 0.4696259\n",
      "  0.70265649 0.78413328 0.68004447 0.17485749 0.40971363 0.13561447\n",
      "  0.70180999 0.39499643 0.35389459 0.26529315 0.2897362  0.64785004\n",
      "  0.41866752 0.18788406 0.83288803 0.57072723 0.80612514 0.96461472\n",
      "  0.15072335 0.11866739 0.11284515 0.49904478 0.85277745 0.63574757\n",
      "  0.65102911 0.81725207 0.59693736 0.19416991 0.58312526 0.26748465\n",
      "  0.18194974 0.31904977 0.1914553  0.52430657 0.14385207 0.54371337\n",
      "  0.36801734 0.69939743 0.81540567 0.31490981 0.43463205 0.25485743\n",
      "  0.87844679 0.68706732 0.4635411  0.77259304 0.60374094 0.54238104\n",
      "  0.51663199 0.70966064 0.13066586 0.32120611 0.47301964 0.56419582\n",
      "  0.52294054 0.54098139 0.         0.15297366 0.43471722 0.16399246\n",
      "  0.70678658 0.18576247 0.18578046 0.84297098 0.76955984 0.50704881\n",
      "  0.24624559 0.42741333 0.17515652 0.71157895 0.68476412 0.34726192\n",
      "  0.40796477 0.0972813  0.42538227 0.23469841 0.28621543 0.13977737\n",
      "  0.25774128 0.65240765 0.53868133 0.15639859]\n",
      " [0.40898242 0.71483078 0.1452707  0.61055027 0.72485053 0.29570859\n",
      "  0.75254803 0.93230636 0.97558897 0.98776846 0.68760066 0.91739533\n",
      "  0.45015879 0.35548336 0.06376082 0.77120209 0.60502253 0.61602167\n",
      "  0.81847018 0.88118948 0.7963545  0.29103041 0.44703468 0.02488433\n",
      "  0.78147482 0.35805077 0.2253229  0.39694618 0.43871649 0.62397016\n",
      "  0.57154623 0.22615151 0.94710813 0.66767688 0.81778126 1.06098107\n",
      "  0.06614554 0.17822507 0.26067746 0.61984684 0.96716418 0.65444265\n",
      "  0.77969725 0.8742334  0.74989755 0.31192907 0.54062578 0.3414581\n",
      "  0.32730746 0.46273906 0.15806895 0.57329133 0.17549902 0.6661472\n",
      "  0.23517473 0.67192638 0.8908737  0.46065425 0.41267985 0.38795355\n",
      "  0.8282362  0.82501597 0.55521593 0.80377968 0.71848154 0.67173617\n",
      "  0.58563423 0.82135689 0.21449806 0.25965704 0.44464645 0.47906123\n",
      "  0.49292531 0.64279175 0.15297366 0.         0.5865074  0.31572873\n",
      "  0.83700507 0.32214139 0.10614969 0.81973706 0.84716147 0.62248328\n",
      "  0.20616418 0.57834396 0.24054414 0.66943147 0.69223252 0.22992072\n",
      "  0.33262963 0.06521663 0.35317891 0.14832869 0.43910956 0.23683065\n",
      "  0.1490869  0.79765453 0.65213128 0.09110783]\n",
      " [0.86759671 0.96197546 0.44146888 0.10006871 0.36473547 0.44691294\n",
      "  0.98524467 0.70657101 0.85488308 0.8163817  0.10127474 0.91953788\n",
      "  0.14733663 0.6485895  0.53101009 1.133108   0.79047797 0.21894868\n",
      "  0.56132408 0.70389651 0.54234329 0.38872072 0.61965567 0.56661453\n",
      "  0.70283209 0.73067828 0.78001091 0.24377344 0.15302486 0.91545893\n",
      "  0.04696716 0.51853417 0.6713394  0.5499708  0.97592445 0.8571275\n",
      "  0.56661607 0.48356211 0.32672331 0.4078684  0.68707542 0.81903883\n",
      "  0.45735384 0.86581338 0.18140454 0.37972656 0.89227378 0.48166045\n",
      "  0.29868639 0.23909914 0.58606963 0.66560077 0.47944501 0.42303385\n",
      "  0.79604428 0.9663866  0.80635588 0.2248726  0.74006025 0.24465671\n",
      "  1.16964437 0.42546878 0.50750247 0.899838   0.49709133 0.38420703\n",
      "  0.60734805 0.58544794 0.45465347 0.70046256 0.77940914 0.93627052\n",
      "  0.82202062 0.51326801 0.43471722 0.5865074  0.         0.28390243\n",
      "  0.48943237 0.2841755  0.60661074 1.08470592 0.76232235 0.43732214\n",
      "  0.62623231 0.14402042 0.48055076 1.00374564 0.88342335 0.76694835\n",
      "  0.78590197 0.52492008 0.7974942  0.6488935  0.16211715 0.39352867\n",
      "  0.67981724 0.34133247 0.46336605 0.56005298]\n",
      " [0.59190804 0.74772449 0.17343526 0.29524703 0.43741858 0.19347802\n",
      "  0.77739791 0.71001464 0.80474786 0.79310352 0.38426527 0.80833383\n",
      "  0.13863253 0.39478829 0.2552543  0.88758055 0.588175   0.30889467\n",
      "  0.57521519 0.67741912 0.55254673 0.12955806 0.40264102 0.2995026\n",
      "  0.61893383 0.46510576 0.49667328 0.19857033 0.1602317  0.68363783\n",
      "  0.26098122 0.24376054 0.70476517 0.47242337 0.79682725 0.8548736\n",
      "  0.31202432 0.20061686 0.09261823 0.37198392 0.72414118 0.62738973\n",
      "  0.50887682 0.75674495 0.43589598 0.13232899 0.64121913 0.24639787\n",
      "  0.04699354 0.16505748 0.30283338 0.48993269 0.26368756 0.41246798\n",
      "  0.51306663 0.73608022 0.73343519 0.15750016 0.48612988 0.18744373\n",
      "  0.93131933 0.5336317  0.38030498 0.74315802 0.48054527 0.40183887\n",
      "  0.45838658 0.58711518 0.17509258 0.42152931 0.5264556  0.66248964\n",
      "  0.57342449 0.43792894 0.16399246 0.31572873 0.28390243 0.\n",
      "  0.56189427 0.13902948 0.32327838 0.86932903 0.68657657 0.38716679\n",
      "  0.34569416 0.26344577 0.20856566 0.76242007 0.68570733 0.48306163\n",
      "  0.50862856 0.260955   0.52195914 0.36499284 0.12576694 0.20057469\n",
      "  0.3962448  0.49183539 0.41992487 0.31333754]\n",
      " [0.90095713 0.78189308 0.71812296 0.3894895  0.13060729 0.55318589\n",
      "  0.78618337 0.23997946 0.42219824 0.36071108 0.48571679 0.5569443\n",
      "  0.49212549 0.65617565 0.77375834 1.00802624 0.62557499 0.2828896\n",
      "  0.1222298  0.27044722 0.12095563 0.5460057  0.55259322 0.82928359\n",
      "  0.35319383 0.74938235 0.93500664 0.67830389 0.5705991  0.78782499\n",
      "  0.45054107 0.64294819 0.18691566 0.27432468 0.71876105 0.38173204\n",
      "  0.85575961 0.66397701 0.65332361 0.22433329 0.20035697 0.62329356\n",
      "  0.058343   0.51022198 0.39452897 0.52512313 0.82376589 0.53008989\n",
      "  0.52868951 0.39722397 0.73870617 0.49414361 0.82537586 0.17825516\n",
      "  0.95462119 0.82470375 0.4107348  0.40672891 0.71793096 0.67279508\n",
      "  1.0188634  0.08180961 0.35181169 0.61609115 0.16419334 0.1652887\n",
      "  0.41703113 0.15297843 0.62553462 0.78768667 0.74333685 0.94772367\n",
      "  0.76198902 0.26546505 0.70678658 0.83700507 0.48943237 0.56189427\n",
      "  0.         0.66963046 0.79090757 0.88655416 0.38126252 0.23367359\n",
      "  0.74310444 0.36006571 0.61239627 0.88533227 0.68359378 0.9066873\n",
      "  0.84400822 0.79950251 0.84344567 0.8075776  0.49007299 0.75920765\n",
      "  0.84593325 0.17958004 0.21561594 0.86317951]\n",
      " [0.67384296 0.87269145 0.18755425 0.33864091 0.54032522 0.31838744\n",
      "  0.90414883 0.83692426 0.94038348 0.92528572 0.38119925 0.9473633\n",
      "  0.1840746  0.50771686 0.27778989 0.99600233 0.71869323 0.39551692\n",
      "  0.69783984 0.80901787 0.67545702 0.25764192 0.53258478 0.29928773\n",
      "  0.75652925 0.56499305 0.53746552 0.07990975 0.13152056 0.80231864\n",
      "  0.28387652 0.34362163 0.82540849 0.60809761 0.93035166 0.984224\n",
      "  0.28997109 0.2826718  0.08031457 0.49861383 0.84423884 0.75990306\n",
      "  0.62069933 0.89575292 0.4624155  0.26554465 0.74939595 0.37608118\n",
      "  0.18602287 0.27927952 0.37306145 0.62657376 0.19530644 0.53556023\n",
      "  0.55058388 0.85473613 0.87079421 0.26677824 0.59585766 0.06918904\n",
      "  1.04365707 0.62960364 0.51887443 0.88014222 0.60707797 0.51791136\n",
      "  0.59722641 0.71249208 0.2730339  0.50192076 0.63579658 0.74622485\n",
      "  0.68469875 0.57279577 0.18576247 0.32214139 0.2841755  0.13902948\n",
      "  0.66963046 0.         0.37151724 0.99267781 0.82392778 0.51702272\n",
      "  0.42534771 0.33033207 0.31593345 0.87496157 0.81621025 0.53251539\n",
      "  0.58968949 0.25716063 0.60605809 0.42040163 0.18217107 0.10944577\n",
      "  0.4430574  0.57123096 0.5496542  0.28006518]\n",
      " [0.3153353  0.60870181 0.18442723 0.61338621 0.68829821 0.23774011\n",
      "  0.64646915 0.86285218 0.89123914 0.90924807 0.70735952 0.82179802\n",
      "  0.46184385 0.25301287 0.10123745 0.67014423 0.5020403  0.59753915\n",
      "  0.75864982 0.80690409 0.73726414 0.2555796  0.35234629 0.12419943\n",
      "  0.69843239 0.25205458 0.17342287 0.45088638 0.46953809 0.51792938\n",
      "  0.5839649  0.15080392 0.88448489 0.59639122 0.71329137 0.98474253\n",
      "  0.1709474  0.134232   0.29708604 0.56813223 0.90448614 0.5517607\n",
      "  0.73269519 0.78052041 0.75562765 0.2749691  0.43600737 0.26994764\n",
      "  0.31939095 0.44387781 0.06049518 0.47997912 0.26658942 0.6148811\n",
      "  0.1898709  0.56612371 0.80468159 0.44553654 0.30660928 0.44055151\n",
      "  0.72595598 0.78875886 0.48327977 0.70288554 0.65932246 0.62741909\n",
      "  0.50049305 0.75813449 0.17213889 0.15580796 0.33853736 0.38726178\n",
      "  0.38695693 0.57530541 0.18578046 0.10614969 0.60661074 0.32327838\n",
      "  0.79090757 0.37151724 0.         0.71384894 0.76238526 0.56594707\n",
      "  0.10069222 0.57269908 0.17852147 0.56521667 0.58758353 0.16240768\n",
      "  0.23467715 0.14543114 0.25430966 0.0503609  0.44857074 0.30886141\n",
      "  0.07345713 0.77376861 0.59323748 0.19550551]\n",
      " [0.46000985 0.12293473 0.84929192 1.02473175 0.88516181 0.6766069\n",
      "  0.10296175 0.75251919 0.61985399 0.69383154 1.1591699  0.4313374\n",
      "  0.95823862 0.48930241 0.80199684 0.18398755 0.29495801 0.92502524\n",
      "  0.77317028 0.67815806 0.76759876 0.74002783 0.47002583 0.83775819\n",
      "  0.54605065 0.46181852 0.67708508 1.06489232 1.01963486 0.19653336\n",
      "  1.04101516 0.65657475 0.82311759 0.62180728 0.1885331  0.76503492\n",
      "  0.88475855 0.72479891 0.91497779 0.74255527 0.83516192 0.2745314\n",
      "  0.84728268 0.44281117 1.13773655 0.73778454 0.28505816 0.62345759\n",
      "  0.82883101 0.84560678 0.67069156 0.42808289 0.96854653 0.7634231\n",
      "  0.68708501 0.14795196 0.55284644 0.85998975 0.41108979 1.05345016\n",
      "  0.15459431 0.9466452  0.59875132 0.29131825 0.73107131 0.80984523\n",
      "  0.50015688 0.74712933 0.72335411 0.56180315 0.37592176 0.42265533\n",
      "  0.32692829 0.64430413 0.84297098 0.81973706 1.08470592 0.86932903\n",
      "  0.88655416 0.99267781 0.71384894 0.         0.5506498  0.71318864\n",
      "  0.61643194 0.96487178 0.67850616 0.17095398 0.20912662 0.64672559\n",
      "  0.50601251 0.85205392 0.48514059 0.67355415 0.94328465 0.98245753\n",
      "  0.68578727 1.0070444  0.70755552 0.90917576]\n",
      " [0.72766495 0.47060455 0.78060408 0.67105124 0.43738478 0.56296299\n",
      "  0.46123437 0.20208628 0.12885759 0.16489082 0.79804007 0.17592077\n",
      "  0.69371795 0.53469573 0.79454874 0.70452065 0.36529581 0.54862574\n",
      "  0.25907839 0.12940127 0.26414749 0.59770816 0.4176699  0.85066893\n",
      "  0.06805467 0.6031017  0.84909799 0.86663653 0.77631233 0.51412011\n",
      "  0.71576635 0.62102161 0.27476511 0.2189136  0.36592298 0.2453729\n",
      "  0.89151523 0.67545365 0.77222067 0.35492209 0.28540818 0.33623147\n",
      "  0.36343435 0.1296344  0.73350556 0.58089966 0.58801311 0.50870476\n",
      "  0.6402891  0.56362177 0.70189799 0.29468274 0.91220013 0.34186825\n",
      "  0.86762903 0.53370689 0.04686788 0.57943984 0.5484015  0.85736451\n",
      "  0.69876798 0.45777856 0.30868619 0.26027148 0.27303756 0.38609364\n",
      "  0.26204204 0.2282931  0.64632635 0.68455955 0.55422738 0.74876143\n",
      "  0.5479763  0.25595411 0.76955984 0.84716147 0.76232235 0.68657657\n",
      "  0.38126252 0.82392778 0.76238526 0.5506498  0.         0.32672374\n",
      "  0.67711163 0.61856147 0.61018073 0.6012712  0.3765927  0.81480864\n",
      "  0.70284339 0.83740514 0.6928648  0.75463873 0.68373037 0.87610624\n",
      "  0.78870161 0.54387576 0.29907029 0.90828423]\n",
      " [0.6695962  0.59762519 0.51862987 0.35008254 0.17646497 0.32965287\n",
      "  0.61023889 0.32334399 0.43015094 0.40856773 0.48214427 0.48276373\n",
      "  0.37017789 0.42333394 0.56093688 0.81007774 0.42843446 0.23096537\n",
      "  0.19639166 0.29214164 0.17405013 0.33514648 0.32434007 0.61799082\n",
      "  0.26560621 0.51719683 0.70350915 0.54967916 0.45367248 0.5846544\n",
      "  0.39048467 0.41581053 0.32617788 0.11326839 0.57033352 0.46785884\n",
      "  0.64982318 0.44519392 0.47881578 0.03134223 0.3461496  0.43905804\n",
      "  0.17639889 0.42913125 0.43528954 0.31463391 0.60590482 0.29955998\n",
      "  0.34483106 0.24293446 0.51118629 0.29072575 0.63944114 0.05845927\n",
      "  0.7231652  0.62739559 0.37196685 0.25799962 0.48906426 0.54127078\n",
      "  0.82981931 0.25905191 0.12615074 0.48076767 0.09676812 0.09841245\n",
      "  0.21428738 0.20277247 0.40803118 0.55419332 0.51710141 0.71911362\n",
      "  0.54053757 0.07787371 0.50704881 0.62248328 0.43732214 0.38716679\n",
      "  0.23367359 0.51702272 0.56594707 0.71318864 0.32672374 0.\n",
      "  0.51167587 0.29464728 0.38836879 0.68230898 0.50409896 0.67446258\n",
      "  0.61073962 0.59299686 0.61068524 0.57868848 0.36140315 0.58672645\n",
      "  0.61695721 0.29770522 0.03276327 0.66075747]\n",
      " [0.24920369 0.50919863 0.24914751 0.61675208 0.65161213 0.20284411\n",
      "  0.54667129 0.79149794 0.80573107 0.82901934 0.72432921 0.72672909\n",
      "  0.47889629 0.15424141 0.18656317 0.58357787 0.40207235 0.58086848\n",
      "  0.69771317 0.73132758 0.67732284 0.24425171 0.26107245 0.22220225\n",
      "  0.61523339 0.15557227 0.19192306 0.50500761 0.50333025 0.42001914\n",
      "  0.59714067 0.11270195 0.8195386  0.52616909 0.61264421 0.90626176\n",
      "  0.26949048 0.1466065  0.34583934 0.51881127 0.83932477 0.45191921\n",
      "  0.68484455 0.68711691 0.75853897 0.25922998 0.34322992 0.21307523\n",
      "  0.32798365 0.43280004 0.05621756 0.38851628 0.35479307 0.56491543\n",
      "  0.21155746 0.46922763 0.7178743  0.43806137 0.20694313 0.49394066\n",
      "  0.6368839  0.75064768 0.41469534 0.60401987 0.60046839 0.58423759\n",
      "  0.41728301 0.69383745 0.17161132 0.07696024 0.24051051 0.32127726\n",
      "  0.28976546 0.50940536 0.24624559 0.20616418 0.62623231 0.34569416\n",
      "  0.74310444 0.42534771 0.10069222 0.61643194 0.67711163 0.51167587\n",
      "  0.         0.56921039 0.15126645 0.47275698 0.48691775 0.1643193\n",
      "  0.16500471 0.23605217 0.18074463 0.07778938 0.46422929 0.38274627\n",
      "  0.11205306 0.74796774 0.5359001  0.29349482]\n",
      " [0.79526656 0.84316917 0.43686491 0.05989666 0.23065958 0.37154878\n",
      "  0.86358621 0.56656197 0.71114416 0.67416143 0.19511664 0.77739207\n",
      "  0.14642239 0.5597528  0.51663026 1.02821946 0.66998296 0.07848052\n",
      "  0.42101398 0.560848   0.40126731 0.32525805 0.5107251  0.56279881\n",
      "  0.55970214 0.64907866 0.74291568 0.3234754  0.21490507 0.80557205\n",
      "  0.0982022  0.45667962 0.53600661 0.40775494 0.84515302 0.71752738\n",
      "  0.57470902 0.43986174 0.33943778 0.26468409 0.55272197 0.69422209\n",
      "  0.32154651 0.72373565 0.19129639 0.31008096 0.79457965 0.39125489\n",
      "  0.25426566 0.13854533 0.53918534 0.53936523 0.51191081 0.27905602\n",
      "  0.76074069 0.8548993  0.66243445 0.13132609 0.64810713 0.31942615\n",
      "  1.0600253  0.30667581 0.37450041 0.76456228 0.35333727 0.24112395\n",
      "  0.4756596  0.4439336  0.40449639 0.63765592 0.68562157 0.85991235\n",
      "  0.72406756 0.37144386 0.42741333 0.57834396 0.14402042 0.26344577\n",
      "  0.36006571 0.33033207 0.57269908 0.96487178 0.61856147 0.29464728\n",
      "  0.56921039 0.         0.41797013 0.89782733 0.75954615 0.7241349\n",
      "  0.71786012 0.52438432 0.72633864 0.60766682 0.15068879 0.43321977\n",
      "  0.64272798 0.24096981 0.31982781 0.57438797]\n",
      " [0.38709878 0.56007823 0.18426612 0.46608597 0.51147766 0.05921902\n",
      "  0.59313641 0.6923569  0.7379195  0.74765081 0.57688154 0.69413919\n",
      "  0.3337603  0.19179137 0.18460665 0.68228484 0.41573581 0.43104921\n",
      "  0.58250488 0.64064565 0.56080967 0.09354916 0.23455782 0.2413546\n",
      "  0.54359776 0.25656282 0.33307629 0.39145402 0.36877838 0.48666048\n",
      "  0.44904959 0.03881062 0.70974381 0.4272144  0.63184863 0.82049276\n",
      "  0.2813353  0.06537756 0.23695869 0.38972773 0.72979359 0.46113175\n",
      "  0.55417588 0.64771958 0.60758576 0.10796739 0.43543847 0.1016761\n",
      "  0.18234935 0.28165922 0.12877198 0.35103125 0.31680694 0.43647973\n",
      "  0.35203657 0.53901625 0.65481438 0.28679553 0.28084719 0.37997961\n",
      "  0.72843936 0.61170681 0.31467181 0.59760514 0.48275961 0.4491383\n",
      "  0.35087828 0.58353618 0.04567394 0.22136007 0.32104975 0.45635228\n",
      "  0.36938156 0.40301438 0.17515652 0.24054414 0.48055076 0.20856566\n",
      "  0.61239627 0.31593345 0.17852147 0.67850616 0.61018073 0.38836879\n",
      "  0.15126645 0.41797013 0.         0.55954721 0.51169007 0.31023684\n",
      "  0.3054888  0.22763828 0.31697767 0.19921617 0.31864872 0.309245\n",
      "  0.23708291 0.60177489 0.41644096 0.29846248]\n",
      " [0.29120968 0.1413111  0.71648687 0.95654485 0.85876589 0.56990078\n",
      "  0.17003627 0.79470733 0.69599425 0.7601963  1.08713792 0.52494674\n",
      "  0.86731105 0.36828349 0.65912712 0.1304632  0.25983323 0.87036269\n",
      "  0.78369412 0.71878811 0.77343098 0.63373645 0.38711    0.68923895\n",
      "  0.57725419 0.31784878 0.51111706 0.95100046 0.91944186 0.09789559\n",
      "  0.96307922 0.53172143 0.85762917 0.61115942 0.29148961 0.83758904\n",
      "  0.7353753  0.59652416 0.7952038  0.7082922  0.87258891 0.2701504\n",
      "  0.83833806 0.51979295 1.081379   0.63562978 0.12954449 0.52467627\n",
      "  0.72654864 0.7679126  0.52870013 0.39361195 0.82751887 0.73809958\n",
      "  0.51999491 0.06795107 0.61627422 0.78066128 0.27914466 0.93952514\n",
      "  0.16898765 0.93402717 0.55798358 0.36726576 0.72220089 0.78065305\n",
      "  0.4715627  0.76203109 0.60193896 0.40982004 0.23945172 0.25173354\n",
      "  0.19026283 0.624806   0.71157895 0.66943147 1.00374564 0.76242007\n",
      "  0.88533227 0.87496157 0.56521667 0.17095398 0.6012712  0.68230898\n",
      "  0.47275698 0.89782733 0.55954721 0.         0.2251161  0.48217061\n",
      "  0.34445446 0.70800919 0.32326014 0.52128897 0.85190955 0.85105635\n",
      "  0.52899919 0.97975455 0.68460346 0.76019991]\n",
      " [0.41576542 0.09873782 0.69272557 0.81943987 0.67662389 0.49798858\n",
      "  0.10616516 0.57239909 0.47210085 0.53511954 0.95443573 0.31036265\n",
      "  0.76268859 0.33837456 0.6617137  0.33141516 0.09758253 0.71718262\n",
      "  0.57420877 0.49650493 0.56663171 0.55895157 0.28366901 0.70615539\n",
      "  0.3566749  0.34866632 0.59986848 0.88396895 0.82897251 0.145745\n",
      "  0.83881329 0.49749927 0.63781994 0.41480544 0.12578638 0.61276759\n",
      "  0.75329973 0.56675073 0.74190471 0.53342873 0.65191807 0.06571431\n",
      "  0.64184262 0.29807343 0.92966802 0.55344916 0.24103996 0.44037121\n",
      "  0.64246125 0.64487237 0.53490784 0.22050424 0.82055297 0.55475307\n",
      "  0.61448722 0.15729256 0.39125705 0.6598027  0.28701114 0.87270242\n",
      "  0.33566006 0.74062944 0.39031232 0.15264288 0.52512011 0.60094583\n",
      "  0.29112516 0.55003892 0.55735743 0.45266131 0.26673331 0.41207383\n",
      "  0.23293544 0.43592199 0.68476412 0.69223252 0.88342335 0.68570733\n",
      "  0.68359378 0.81621025 0.58758353 0.20912662 0.3765927  0.50409896\n",
      "  0.48691775 0.75954615 0.51169007 0.2251161  0.         0.56562496\n",
      "  0.42677322 0.71202245 0.40938561 0.55684849 0.74814527 0.82092734\n",
      "  0.57882153 0.79860356 0.49898512 0.77622776]\n",
      " [0.19608668 0.55985551 0.34496148 0.76824501 0.81587473 0.36529882\n",
      "  0.59925418 0.94434342 0.94172179 0.97255258 0.86724419 0.8408411\n",
      "  0.62103351 0.28049998 0.25619165 0.56622229 0.49796706 0.74119709\n",
      "  0.85746709 0.88077713 0.83759167 0.39984244 0.39900022 0.25455155\n",
      "  0.75682504 0.22166642 0.03499389 0.61134744 0.6317805  0.46147139\n",
      "  0.74244213 0.27326532 0.97672513 0.68177841 0.68842853 1.05144285\n",
      "  0.29137241 0.28582442 0.45925702 0.68253379 0.9963075  0.54696336\n",
      "  0.84849777 0.80715333 0.91066948 0.41689116 0.36213252 0.37706342\n",
      "  0.47459945 0.59041401 0.18494981 0.52037293 0.4054167  0.72843472\n",
      "  0.05282388 0.50149235 0.8524893  0.59417928 0.2836735  0.60125755\n",
      "  0.62704664 0.91496563 0.57253555 0.7024474  0.76148605 0.74847659\n",
      "  0.56222769 0.85193498 0.31974281 0.13039388 0.29890198 0.25949295\n",
      "  0.33662297 0.66778872 0.34726192 0.22992072 0.76694835 0.48306163\n",
      "  0.9066873  0.53251539 0.16240768 0.64672559 0.81480864 0.67446258\n",
      "  0.1643193  0.7241349  0.31023684 0.48217061 0.56562496 0.\n",
      "  0.14225404 0.2896786  0.16239056 0.11812354 0.60728501 0.46176151\n",
      "  0.08952094 0.91102892 0.69772844 0.31533508]\n",
      " [0.08422671 0.41762152 0.40959452 0.76887166 0.76908013 0.34637638\n",
      "  0.45702617 0.84978871 0.82672056 0.86486047 0.88232636 0.71186283\n",
      "  0.63885797 0.18829259 0.3351398  0.43902829 0.36583432 0.71972423\n",
      "  0.7790234  0.78167521 0.76098566 0.39839484 0.3017005  0.35457623\n",
      "  0.64973824 0.10078969 0.17497658 0.66948615 0.6673837  0.31922762\n",
      "  0.75441647 0.26736863 0.89026875 0.59663582 0.54808513 0.94497326\n",
      "  0.39863504 0.31134534 0.51052126 0.62463785 0.9091919  0.41338736\n",
      "  0.78712415 0.68181049 0.90893816 0.41022903 0.22096701 0.33454981\n",
      "  0.4873135  0.57945861 0.21688149 0.40991637 0.50111563 0.66800112\n",
      "  0.18829683 0.35988257 0.73721968 0.5868897  0.1555536  0.65848967\n",
      "  0.49718981 0.86419927 0.49546902 0.56796443 0.68859358 0.69571901\n",
      "  0.46393922 0.76915947 0.33356004 0.08804531 0.16174085 0.15653691\n",
      "  0.19541158 0.58920905 0.40796477 0.33262963 0.78590197 0.50862856\n",
      "  0.84400822 0.58968949 0.23467715 0.50601251 0.70284339 0.61073962\n",
      "  0.16500471 0.71786012 0.3054888  0.34445446 0.42677322 0.14225404\n",
      "  0.         0.37998177 0.0212144  0.18588141 0.6238594  0.54046762\n",
      "  0.186538   0.87531527 0.62913774 0.42360382]\n",
      " [0.45975953 0.74268786 0.0875205  0.55348655 0.68304623 0.27593818\n",
      "  0.77937916 0.90920957 0.96475779 0.97160758 0.62574034 0.91937703\n",
      "  0.39167111 0.37375666 0.05046615 0.81511547 0.62103051 0.56676555\n",
      "  0.78935239 0.86207985 0.76691385 0.25786185 0.45219275 0.0422686\n",
      "  0.77051058 0.39159495 0.28807098 0.33172982 0.37565559 0.6555315\n",
      "  0.51191945 0.22389047 0.91911049 0.64788895 0.83652012 1.04259678\n",
      "  0.05683    0.1622664  0.19824536 0.58741516 0.93910638 0.6694417\n",
      "  0.74307081 0.8739997  0.69130983 0.27847036 0.57849509 0.3287393\n",
      "  0.2785195  0.41553943 0.18137867 0.57490606 0.12116072 0.63294475\n",
      "  0.29893555 0.70513203 0.88225772 0.41184584 0.44135517 0.32274644\n",
      "  0.87032657 0.78240651 0.53733675 0.81441633 0.68969883 0.6344886\n",
      "  0.57850815 0.79448884 0.19198101 0.30037128 0.47625148 0.5311828\n",
      "  0.52571331 0.62046353 0.0972813  0.06521663 0.52492008 0.260955\n",
      "  0.79950251 0.25716063 0.14543114 0.85205392 0.83740514 0.59299686\n",
      "  0.23605217 0.52438432 0.22763828 0.70800919 0.71202245 0.2896786\n",
      "  0.37998177 0.         0.39972195 0.19438179 0.38142499 0.17295018\n",
      "  0.20414868 0.74945056 0.62382222 0.07088024]\n",
      " [0.07013045 0.39785508 0.42733738 0.7781425  0.77135615 0.3553956\n",
      "  0.43727279 0.84328841 0.81583949 0.8555814  0.89323212 0.69754178\n",
      "  0.65072482 0.18735223 0.35436256 0.41821259 0.3512082  0.72604357\n",
      "  0.77578243 0.77436598 0.75812883 0.40920596 0.2971684  0.37493642\n",
      "  0.64098796 0.09520714 0.19452825 0.68574608 0.6812531  0.29922504\n",
      "  0.7652075  0.27936874 0.88529216 0.59265242 0.52985551 0.93585822\n",
      "  0.41923741 0.32624783 0.52658157 0.62553951 0.90405752 0.39811262\n",
      "  0.78691833 0.66853833 0.91758049 0.4202504  0.20014911 0.34016437\n",
      "  0.499241   0.58781011 0.23397358 0.40127637 0.52088184 0.6683061\n",
      "  0.2071529  0.3392633  0.72640534 0.59571208 0.14447574 0.67468449\n",
      "  0.47617048 0.86559877 0.49352441 0.55210023 0.68661857 0.69723305\n",
      "  0.4578264  0.76512572 0.34691216 0.10427627 0.14631075 0.14091205\n",
      "  0.17710935 0.58652437 0.42538227 0.35317891 0.7974942  0.52195914\n",
      "  0.84344567 0.60605809 0.25430966 0.48514059 0.6928648  0.61068524\n",
      "  0.18074463 0.72633864 0.31697767 0.32326014 0.40938561 0.16239056\n",
      "  0.0212144  0.39972195 0.         0.20596591 0.63562593 0.55890065\n",
      "  0.20756747 0.87909077 0.62814482 0.44421092]\n",
      " [0.26550058 0.57175216 0.23393271 0.65080568 0.71019225 0.25703293\n",
      "  0.61009905 0.86579994 0.88331498 0.90575446 0.74913433 0.80368148\n",
      "  0.5029102  0.23027191 0.15150677 0.62331605 0.47523339 0.6277079\n",
      "  0.76804471 0.80685983 0.74720869 0.28503984 0.3388618  0.16923679\n",
      "  0.69243423 0.21353809 0.13543451 0.49999146 0.51496692 0.47872191\n",
      "  0.62435177 0.1651733  0.89160495 0.59976168 0.68258614 0.98263927\n",
      "  0.21444177 0.16822547 0.34483545 0.58349757 0.91149102 0.52523315\n",
      "  0.74923537 0.76453555 0.79323971 0.30306221 0.3927579  0.27926565\n",
      "  0.35686213 0.47548839 0.07049414 0.46627744 0.31539996 0.6300526\n",
      "  0.15377723 0.52560531 0.79556307 0.47849156 0.27162322 0.48953771\n",
      "  0.68000825 0.8101991  0.48742207 0.67859202 0.66975204 0.64605421\n",
      "  0.49432895 0.76551066 0.20329968 0.11192624 0.30053214 0.3372248\n",
      "  0.3475691  0.58137039 0.23469841 0.14832869 0.6488935  0.36499284\n",
      "  0.8075776  0.42040163 0.0503609  0.67355415 0.75463873 0.57868848\n",
      "  0.07778938 0.60766682 0.19921617 0.52128897 0.55684849 0.11812354\n",
      "  0.18588141 0.19438179 0.20596591 0.         0.48916852 0.3592212\n",
      "  0.03835566 0.80068023 0.60436969 0.23937201]\n",
      " [0.70574743 0.82039091 0.29460426 0.17211535 0.35994181 0.2875324\n",
      "  0.84643679 0.67075519 0.79151031 0.76727106 0.26053968 0.82501376\n",
      "  0.01548136 0.49109711 0.37995225 0.98012358 0.65241924 0.21335919\n",
      "  0.52796312 0.65093214 0.50615494 0.22756471 0.47372139 0.42150593\n",
      "  0.61878632 0.57054833 0.62183143 0.19184083 0.09259017 0.7667481\n",
      "  0.13539417 0.35649659 0.65252805 0.46483626 0.84952592 0.82054359\n",
      "  0.42911605 0.32251158 0.19018579 0.33800746 0.67077834 0.68572382\n",
      "  0.44334564 0.77169342 0.3108947  0.22007069 0.7367262  0.32726984\n",
      "  0.13657759 0.12017678 0.4250101  0.53691808 0.36138845 0.3689722\n",
      "  0.63843681 0.81849252 0.73001507 0.10429097 0.58302651 0.1849049\n",
      "  1.019407   0.4475887  0.3958787  0.78300923 0.44341151 0.34479594\n",
      "  0.48912975 0.54560529 0.29272361 0.53834568 0.62284025 0.77474553\n",
      "  0.66699596 0.42778502 0.28621543 0.43910956 0.16211715 0.12576694\n",
      "  0.49007299 0.18217107 0.44857074 0.94328465 0.68373037 0.36140315\n",
      "  0.46422929 0.15068879 0.31864872 0.85190955 0.74814527 0.60728501\n",
      "  0.6238594  0.38142499 0.63562593 0.48916852 0.         0.28268882\n",
      "  0.52125332 0.39035801 0.392713   0.42702531]\n",
      " [0.62296796 0.86644963 0.13458892 0.44603331 0.63222413 0.33156222\n",
      "  0.90059394 0.90995857 0.99768051 0.99023673 0.4898516  0.98501302\n",
      "  0.28723944 0.49326914 0.20795805 0.96569149 0.72490348 0.49343156\n",
      "  0.77578875 0.87524062 0.75311819 0.28206274 0.54196543 0.21222746\n",
      "  0.80806608 0.53396587 0.46101953 0.16838977 0.24096502 0.78754514\n",
      "  0.39278065 0.32635354 0.90531339 0.66673991 0.94076245 1.05374887\n",
      "  0.19221661 0.25768022 0.1080752  0.57238439 0.92466409 0.76982107\n",
      "  0.70750236 0.93534091 0.57177293 0.29668988 0.72236459 0.39194879\n",
      "  0.24197211 0.36239005 0.32686173 0.65027112 0.08653347 0.61303836\n",
      "  0.47174672 0.83914365 0.92272808 0.35247956 0.57440533 0.16152848\n",
      "  1.01755447 0.72528656 0.56743652 0.90193831 0.68082002 0.60139592\n",
      "  0.63342666 0.78747808 0.26359012 0.45559065 0.61272683 0.6952863\n",
      "  0.66266492 0.63359129 0.13977737 0.23683065 0.39352867 0.20057469\n",
      "  0.75920765 0.10944577 0.30886141 0.98245753 0.87610624 0.58672645\n",
      "  0.38274627 0.43321977 0.309245   0.85105635 0.82092734 0.46176151\n",
      "  0.54046762 0.17295018 0.55890065 0.3592212  0.28268882 0.\n",
      "  0.37450935 0.67286989 0.61943233 0.17807373]\n",
      " [0.26022728 0.58805478 0.25551476 0.68477903 0.74831051 0.2951569\n",
      "  0.62686522 0.90272379 0.91720253 0.94106463 0.78046237 0.83322681\n",
      "  0.53468714 0.25986899 0.16752141 0.62540246 0.50041287 0.66436938\n",
      "  0.80600256 0.84314947 0.78522871 0.32155659 0.37177221 0.17260995\n",
      "  0.72714683 0.23136155 0.10067622 0.52199759 0.54294423 0.49295317\n",
      "  0.65662276 0.20344895 0.9292434  0.63691639 0.70422415 1.0183052\n",
      "  0.21411592 0.20286874 0.36979433 0.62184849 0.94910758 0.55040462\n",
      "  0.78759101 0.79519363 0.82715678 0.3399458  0.40222058 0.31747841\n",
      "  0.39061436 0.51165262 0.10832965 0.49857382 0.32296965 0.66839845\n",
      "  0.11803498 0.5380504  0.82909201 0.51422501 0.29195346 0.51185816\n",
      "  0.68372483 0.84837022 0.52481029 0.70480456 0.70783748 0.6843684\n",
      "  0.52928434 0.80322221 0.23908155 0.12686547 0.31748622 0.32998725\n",
      "  0.36248289 0.61898086 0.25774128 0.1490869  0.67981724 0.3962448\n",
      "  0.84593325 0.4430574  0.07345713 0.68578727 0.78870161 0.61695721\n",
      "  0.11205306 0.64272798 0.23708291 0.52899919 0.57882153 0.08952094\n",
      "  0.186538   0.20414868 0.20756747 0.03835566 0.52125332 0.37450935\n",
      "  0.         0.83812969 0.64253069 0.23893981]\n",
      " [0.94334676 0.89372019 0.66280314 0.24725861 0.12203788 0.5457301\n",
      "  0.90436699 0.41944591 0.59863205 0.53986264 0.31702477 0.71907093\n",
      "  0.38718579 0.69551676 0.73419119 1.10775984 0.7258993  0.18298986\n",
      "  0.29081086 0.44448339 0.28106335 0.51821029 0.6117577  0.78505289\n",
      "  0.50412066 0.79036467 0.93482542 0.56133747 0.45348402 0.88220816\n",
      "  0.31107221 0.63787722 0.36437529 0.38682333 0.85361673 0.56035168\n",
      "  0.80269159 0.63997517 0.5752499  0.27159037 0.37590023 0.73434783\n",
      "  0.18062174 0.66925393 0.21788814 0.498876   0.89909    0.54210468\n",
      "  0.47116331 0.33491567 0.73019884 0.58831573 0.74937318 0.24401448\n",
      "  0.95381145 0.92508832 0.57843955 0.33763655 0.77198159 0.55820144\n",
      "  1.12713585 0.09905797 0.4220161  0.75629374 0.28346812 0.19930038\n",
      "  0.511358   0.32141224 0.60167536 0.80583288 0.80373174 0.9994321\n",
      "  0.83179643 0.36274693 0.65240765 0.79765453 0.34133247 0.49183539\n",
      "  0.17958004 0.57123096 0.77376861 1.0070444  0.54387576 0.29770522\n",
      "  0.74796774 0.24096981 0.60177489 0.97975455 0.79860356 0.91102892\n",
      "  0.87531527 0.74945056 0.87909077 0.80068023 0.39035801 0.67286989\n",
      "  0.83812969 0.         0.29962959 0.80508182]\n",
      " [0.68534125 0.59422635 0.55026174 0.37365545 0.17763978 0.35812615\n",
      "  0.60480739 0.29074024 0.39933302 0.37617397 0.50383513 0.45918122\n",
      "  0.40114395 0.44102952 0.59097196 0.81108941 0.42784591 0.25251816\n",
      "  0.16636759 0.25969988 0.14442842 0.36610148 0.33729856 0.64815506\n",
      "  0.24012976 0.53388629 0.7273934  0.5816316  0.48477355 0.58672464\n",
      "  0.41674034 0.44267959 0.29537557 0.09321138 0.55874062 0.43510216\n",
      "  0.6806285  0.47441994 0.51154137 0.05609562 0.31540053 0.43474977\n",
      "  0.16053513 0.40580248 0.45128979 0.34572404 0.61354161 0.32514053\n",
      "  0.37751161 0.27484197 0.53763445 0.2911473  0.67173943 0.05598424\n",
      "  0.74706116 0.62775873 0.34363241 0.28972646 0.50263144 0.57332172\n",
      "  0.82838684 0.25048903 0.13649121 0.46605072 0.06639778 0.10352753\n",
      "  0.21336152 0.17098855 0.43763742 0.5756103  0.5289003  0.73259987\n",
      "  0.54973186 0.06349025 0.53868133 0.65213128 0.46336605 0.41992487\n",
      "  0.21561594 0.5496542  0.59323748 0.70755552 0.29907029 0.03276327\n",
      "  0.5359001  0.31982781 0.41644096 0.68460346 0.49898512 0.69772844\n",
      "  0.62913774 0.62382222 0.62814482 0.60436969 0.392713   0.61943233\n",
      "  0.64253069 0.29962959 0.         0.69191772]\n",
      " [0.49916619 0.8026546  0.14511056 0.59847188 0.74426373 0.34658355\n",
      "  0.83998445 0.97846252 1.03561255 1.04207238 0.65931142 0.98928917\n",
      "  0.43562046 0.43799867 0.11716663 0.86229083 0.68674287 0.62209674\n",
      "  0.85691717 0.93216871 0.83439172 0.32587311 0.52105415 0.07141948\n",
      "  0.8413758  0.4473659  0.30594761 0.34625061 0.40760003 0.71304863\n",
      "  0.55216974 0.29350708 0.98692743 0.71800446 0.90129915 1.11273094\n",
      "  0.0249747  0.23308493 0.23744959 0.65406741 1.00688457 0.735601\n",
      "  0.80735168 0.94424226 0.7326082  0.34619405 0.63121849 0.39961846\n",
      "  0.33715521 0.47388681 0.24177337 0.64468101 0.09892725 0.69915466\n",
      "  0.31279252 0.76153828 0.95313475 0.46873777 0.50042501 0.33893015\n",
      "  0.9193355  0.84276935 0.60781065 0.88219692 0.75752372 0.6986967\n",
      "  0.64930228 0.86280025 0.26264648 0.35038119 0.53352062 0.56864325\n",
      "  0.58224756 0.69014144 0.15639859 0.09110783 0.56005298 0.31333754\n",
      "  0.86317951 0.28006518 0.19550551 0.90917576 0.90828423 0.66075747\n",
      "  0.29349482 0.57438797 0.29846248 0.76019991 0.77622776 0.31533508\n",
      "  0.42360382 0.07088024 0.44421092 0.23937201 0.42702531 0.17807373\n",
      "  0.23893981 0.80508182 0.69191772 0.        ]]\n"
     ]
    }
   ],
   "source": [
    "arr = np.random.random((100,2))\n",
    "x,y = np.atleast_2d(arr[:,0], arr[:,1])\n",
    "dis = np.sqrt( (x-x.T)**2 + (y-y.T)**2)\n",
    "print(dis)"
   ]
  },
  {
   "cell_type": "markdown",
   "id": "343c5a85",
   "metadata": {},
   "source": [
    "#### 53. How to convert a float (32 bits) array into an integer (32 bits) in place?"
   ]
  },
  {
   "cell_type": "code",
   "execution_count": 47,
   "id": "fc1b687b",
   "metadata": {},
   "outputs": [
    {
     "name": "stdout",
     "output_type": "stream",
     "text": [
      "[0 1 2 3 4 5]\n"
     ]
    }
   ],
   "source": [
    "arr = np.arange(6, dtype=np.float32)\n",
    "arr = arr.astype(np.int32, copy=False)\n",
    "print(arr)"
   ]
  },
  {
   "cell_type": "markdown",
   "id": "a69e1ace",
   "metadata": {},
   "source": [
    "#### 54. How to read the following file? (★★☆)\n",
    "```\n",
    "1, 2, 3, 4, 5\n",
    "6,  ,  , 7, 8\n",
    " ,  , 9,10,11\n",
    "```"
   ]
  },
  {
   "cell_type": "code",
   "execution_count": null,
   "id": "1c7957d4",
   "metadata": {},
   "outputs": [],
   "source": []
  },
  {
   "cell_type": "markdown",
   "id": "c23bd80d",
   "metadata": {},
   "source": [
    "#### 55. What is the equivalent of enumerate for numpy arrays? (★★☆)"
   ]
  },
  {
   "cell_type": "code",
   "execution_count": 53,
   "id": "d95d9578",
   "metadata": {},
   "outputs": [
    {
     "name": "stdout",
     "output_type": "stream",
     "text": [
      "(0, 0) 0\n",
      "(0, 1) 1\n",
      "(1, 0) 2\n",
      "(1, 1) 3\n",
      "(0, 0) 0\n",
      "(0, 1) 1\n",
      "(1, 0) 2\n",
      "(1, 1) 3\n"
     ]
    }
   ],
   "source": [
    "arr = np.arange(4).reshape(2,2)\n",
    "for i, val in np.ndenumerate(arr):\n",
    "    print(i, val)\n",
    "for j in np.ndindex(arr.shape):\n",
    "    print(j, arr[j])"
   ]
  },
  {
   "cell_type": "markdown",
   "id": "2153a5ec",
   "metadata": {},
   "source": [
    "#### 56. Generate a generic 2D Gaussian-like array (★★☆)"
   ]
  },
  {
   "cell_type": "code",
   "execution_count": null,
   "id": "61122d1e",
   "metadata": {},
   "outputs": [],
   "source": []
  },
  {
   "cell_type": "markdown",
   "id": "2e76d589",
   "metadata": {},
   "source": [
    "#### 57. How to randomly place p elements in a 2D array? (★★☆)"
   ]
  },
  {
   "cell_type": "code",
   "execution_count": null,
   "id": "0c2e4fcc",
   "metadata": {},
   "outputs": [],
   "source": []
  },
  {
   "cell_type": "markdown",
   "id": "8b3933eb",
   "metadata": {},
   "source": [
    "#### 58. Subtract the mean of each row of a matrix (★★☆)"
   ]
  },
  {
   "cell_type": "code",
   "execution_count": null,
   "id": "a306c9ef",
   "metadata": {},
   "outputs": [],
   "source": []
  },
  {
   "cell_type": "markdown",
   "id": "ea8807c0",
   "metadata": {},
   "source": [
    "#### 59. How to sort an array by the nth column? (★★☆)"
   ]
  },
  {
   "cell_type": "code",
   "execution_count": null,
   "id": "cc89a699",
   "metadata": {},
   "outputs": [],
   "source": []
  },
  {
   "cell_type": "markdown",
   "id": "00fa00a1",
   "metadata": {},
   "source": [
    "#### 60. How to tell if a given 2D array has null columns? (★★☆)"
   ]
  },
  {
   "cell_type": "code",
   "execution_count": null,
   "id": "3436e165",
   "metadata": {},
   "outputs": [],
   "source": []
  },
  {
   "cell_type": "markdown",
   "id": "5a65c7a2",
   "metadata": {},
   "source": [
    "#### 61. Find the nearest value from a given value in an array (★★☆)"
   ]
  },
  {
   "cell_type": "code",
   "execution_count": null,
   "id": "73f149d6",
   "metadata": {},
   "outputs": [],
   "source": []
  },
  {
   "cell_type": "markdown",
   "id": "dd83e8af",
   "metadata": {},
   "source": [
    "#### 62. Considering two arrays with shape (1,3) and (3,1), how to compute their sum using an iterator? (★★☆)"
   ]
  },
  {
   "cell_type": "code",
   "execution_count": null,
   "id": "29a709a1",
   "metadata": {},
   "outputs": [],
   "source": []
  },
  {
   "cell_type": "markdown",
   "id": "6c042efa",
   "metadata": {},
   "source": [
    "#### 63. Create an array class that has a name attribute (★★☆)"
   ]
  },
  {
   "cell_type": "code",
   "execution_count": null,
   "id": "45b3d2e0",
   "metadata": {},
   "outputs": [],
   "source": []
  },
  {
   "cell_type": "markdown",
   "id": "0a075c3d",
   "metadata": {},
   "source": [
    "#### 64. Consider a given vector, how to add 1 to each element indexed by a second vector (be careful with repeated indices)? (★★★)"
   ]
  },
  {
   "cell_type": "code",
   "execution_count": null,
   "id": "36c50470",
   "metadata": {},
   "outputs": [],
   "source": []
  },
  {
   "cell_type": "markdown",
   "id": "0fb2f0c5",
   "metadata": {},
   "source": [
    "#### 65. How to accumulate elements of a vector (X) to an array (F) based on an index list (I)? (★★★)"
   ]
  },
  {
   "cell_type": "code",
   "execution_count": null,
   "id": "58aa5f82",
   "metadata": {},
   "outputs": [],
   "source": []
  },
  {
   "cell_type": "markdown",
   "id": "d89dc506",
   "metadata": {},
   "source": [
    "#### 66. Considering a (w,h,3) image of (dtype=ubyte), compute the number of unique colors (★★☆)"
   ]
  },
  {
   "cell_type": "code",
   "execution_count": null,
   "id": "8fb43a49",
   "metadata": {},
   "outputs": [],
   "source": []
  },
  {
   "cell_type": "markdown",
   "id": "535a5d81",
   "metadata": {},
   "source": [
    "#### 67. Considering a four dimensions array, how to get sum over the last two axis at once? (★★★)"
   ]
  },
  {
   "cell_type": "code",
   "execution_count": null,
   "id": "f954ab9d",
   "metadata": {},
   "outputs": [],
   "source": []
  },
  {
   "cell_type": "markdown",
   "id": "eee66d3c",
   "metadata": {},
   "source": [
    "#### 68. Considering a one-dimensional vector D, how to compute means of subsets of D using a vector S of same size describing subset  indices? (★★★)"
   ]
  },
  {
   "cell_type": "code",
   "execution_count": null,
   "id": "8929773a",
   "metadata": {},
   "outputs": [],
   "source": []
  },
  {
   "cell_type": "markdown",
   "id": "f90d4c40",
   "metadata": {},
   "source": [
    "#### 69. How to get the diagonal of a dot product? (★★★)"
   ]
  },
  {
   "cell_type": "code",
   "execution_count": null,
   "id": "b47d392d",
   "metadata": {},
   "outputs": [],
   "source": []
  },
  {
   "cell_type": "markdown",
   "id": "a8a97e7d",
   "metadata": {},
   "source": [
    "#### 70. Consider the vector [1, 2, 3, 4, 5], how to build a new vector with 3 consecutive zeros interleaved between each value? (★★★)"
   ]
  },
  {
   "cell_type": "code",
   "execution_count": null,
   "id": "ee6c6c37",
   "metadata": {},
   "outputs": [],
   "source": []
  },
  {
   "cell_type": "markdown",
   "id": "d6a30d60",
   "metadata": {},
   "source": [
    "#### 71. Consider an array of dimension (5,5,3), how to mulitply it by an array with dimensions (5,5)? (★★★)"
   ]
  },
  {
   "cell_type": "code",
   "execution_count": null,
   "id": "e9703f2e",
   "metadata": {},
   "outputs": [],
   "source": []
  },
  {
   "cell_type": "markdown",
   "id": "bac359a9",
   "metadata": {},
   "source": [
    "#### 72. How to swap two rows of an array? (★★★)"
   ]
  },
  {
   "cell_type": "code",
   "execution_count": null,
   "id": "f1b432b1",
   "metadata": {},
   "outputs": [],
   "source": []
  },
  {
   "cell_type": "markdown",
   "id": "620c9f83",
   "metadata": {},
   "source": [
    "#### 73. Consider a set of 10 triplets describing 10 triangles (with shared vertices), find the set of unique line segments composing all the  triangles (★★★)"
   ]
  },
  {
   "cell_type": "code",
   "execution_count": null,
   "id": "4e595ffc",
   "metadata": {},
   "outputs": [],
   "source": []
  },
  {
   "cell_type": "markdown",
   "id": "a76c55a2",
   "metadata": {},
   "source": [
    "#### 74. Given a sorted array C that corresponds to a bincount, how to produce an array A such that np.bincount(A) == C? (★★★)"
   ]
  },
  {
   "cell_type": "code",
   "execution_count": null,
   "id": "2d2ae65a",
   "metadata": {},
   "outputs": [],
   "source": []
  },
  {
   "cell_type": "markdown",
   "id": "d550c8e2",
   "metadata": {},
   "source": [
    "#### 75. How to compute averages using a sliding window over an array? (★★★)"
   ]
  },
  {
   "cell_type": "code",
   "execution_count": null,
   "id": "841c457c",
   "metadata": {},
   "outputs": [],
   "source": []
  },
  {
   "cell_type": "markdown",
   "id": "6b170b00",
   "metadata": {},
   "source": [
    "#### 76. Consider a one-dimensional array Z, build a two-dimensional array whose first row is (Z[0],Z[1],Z[2]) and each subsequent row is  shifted by 1 (last row should be (Z[-3],Z[-2],Z[-1]) (★★★)"
   ]
  },
  {
   "cell_type": "code",
   "execution_count": null,
   "id": "d9a0cf4e",
   "metadata": {},
   "outputs": [],
   "source": []
  },
  {
   "cell_type": "markdown",
   "id": "e94a5c1d",
   "metadata": {},
   "source": [
    "#### 77. How to negate a boolean, or to change the sign of a float inplace? (★★★)"
   ]
  },
  {
   "cell_type": "code",
   "execution_count": null,
   "id": "c0f9504f",
   "metadata": {},
   "outputs": [],
   "source": []
  },
  {
   "cell_type": "markdown",
   "id": "4eb8b5c1",
   "metadata": {},
   "source": [
    "#### 78. Consider 2 sets of points P0,P1 describing lines (2d) and a point p, how to compute distance from p to each line i (P0[i],P1[i])? (★★★)"
   ]
  },
  {
   "cell_type": "code",
   "execution_count": null,
   "id": "487f47ec",
   "metadata": {},
   "outputs": [],
   "source": []
  },
  {
   "cell_type": "markdown",
   "id": "3df99948",
   "metadata": {},
   "source": [
    "#### 79. Consider 2 sets of points P0,P1 describing lines (2d) and a set of points P, how to compute distance from each point j (P[j]) to each line i (P0[i],P1[i])? (★★★)"
   ]
  },
  {
   "cell_type": "code",
   "execution_count": null,
   "id": "dc2df37b",
   "metadata": {},
   "outputs": [],
   "source": []
  },
  {
   "cell_type": "markdown",
   "id": "11e972c2",
   "metadata": {},
   "source": [
    "#### 80. Consider an arbitrary array, write a function that extract a subpart with a fixed shape and centered on a given element (pad with a `fill` value when necessary) (★★★)"
   ]
  },
  {
   "cell_type": "code",
   "execution_count": null,
   "id": "0291247f",
   "metadata": {},
   "outputs": [],
   "source": []
  },
  {
   "cell_type": "markdown",
   "id": "93cfeab3",
   "metadata": {},
   "source": [
    "#### 81. Consider an array Z = [1,2,3,4,5,6,7,8,9,10,11,12,13,14], how to generate an array R = [[1,2,3,4], [2,3,4,5], [3,4,5,6], ..., [11,12,13,14]]? (★★★)"
   ]
  },
  {
   "cell_type": "code",
   "execution_count": null,
   "id": "360de791",
   "metadata": {},
   "outputs": [],
   "source": []
  },
  {
   "cell_type": "markdown",
   "id": "4c15ceff",
   "metadata": {},
   "source": [
    "#### 82. Compute a matrix rank (★★★)"
   ]
  },
  {
   "cell_type": "code",
   "execution_count": null,
   "id": "9a4272d2",
   "metadata": {},
   "outputs": [],
   "source": []
  },
  {
   "cell_type": "markdown",
   "id": "1171cb84",
   "metadata": {},
   "source": [
    "#### 83. How to find the most frequent value in an array?"
   ]
  },
  {
   "cell_type": "code",
   "execution_count": null,
   "id": "33e951c8",
   "metadata": {},
   "outputs": [],
   "source": []
  },
  {
   "cell_type": "markdown",
   "id": "04f472aa",
   "metadata": {},
   "source": [
    "#### 84. Extract all the contiguous 3x3 blocks from a random 10x10 matrix (★★★)"
   ]
  },
  {
   "cell_type": "code",
   "execution_count": null,
   "id": "7aade14a",
   "metadata": {},
   "outputs": [],
   "source": []
  },
  {
   "cell_type": "markdown",
   "id": "52836346",
   "metadata": {},
   "source": [
    "#### 85. Create a 2D array subclass such that Z[i,j] == Z[j,i] (★★★)"
   ]
  },
  {
   "cell_type": "code",
   "execution_count": null,
   "id": "4df70318",
   "metadata": {},
   "outputs": [],
   "source": []
  },
  {
   "cell_type": "markdown",
   "id": "78c43ee5",
   "metadata": {},
   "source": [
    "#### 86. Consider a set of p matrices with shape (n,n) and a set of p vectors with shape (n,1). How to compute the sum of of the p matrix products at once? (result has shape (n,1)) (★★★)"
   ]
  },
  {
   "cell_type": "code",
   "execution_count": null,
   "id": "32fd2c3b",
   "metadata": {},
   "outputs": [],
   "source": []
  },
  {
   "cell_type": "markdown",
   "id": "158f9945",
   "metadata": {},
   "source": [
    "#### 87. Consider a 16x16 array, how to get the block-sum (block size is 4x4)? (★★★)"
   ]
  },
  {
   "cell_type": "code",
   "execution_count": null,
   "id": "5a9b808f",
   "metadata": {},
   "outputs": [],
   "source": []
  },
  {
   "cell_type": "markdown",
   "id": "2e0ad860",
   "metadata": {},
   "source": [
    "#### 88. How to implement the Game of Life using numpy arrays? (★★★)"
   ]
  },
  {
   "cell_type": "code",
   "execution_count": null,
   "id": "574acff5",
   "metadata": {},
   "outputs": [],
   "source": []
  },
  {
   "cell_type": "markdown",
   "id": "69a892fa",
   "metadata": {},
   "source": [
    "#### 89. How to get the n largest values of an array (★★★)"
   ]
  },
  {
   "cell_type": "code",
   "execution_count": null,
   "id": "21b2bd48",
   "metadata": {},
   "outputs": [],
   "source": []
  },
  {
   "cell_type": "markdown",
   "id": "b55ccacc",
   "metadata": {},
   "source": [
    "#### 90. Given an arbitrary number of vectors, build the cartesian product (every combinations of every item) (★★★)"
   ]
  },
  {
   "cell_type": "code",
   "execution_count": null,
   "id": "4b645da4",
   "metadata": {},
   "outputs": [],
   "source": []
  },
  {
   "cell_type": "markdown",
   "id": "89187a23",
   "metadata": {},
   "source": [
    "#### 91. How to create a record array from a regular array? (★★★)"
   ]
  },
  {
   "cell_type": "code",
   "execution_count": null,
   "id": "da94c71a",
   "metadata": {},
   "outputs": [],
   "source": []
  },
  {
   "cell_type": "markdown",
   "id": "aa70d4ca",
   "metadata": {},
   "source": [
    "#### 92. Consider a large vector Z, compute Z to the power of 3 using 3 different methods (★★★)"
   ]
  },
  {
   "cell_type": "code",
   "execution_count": null,
   "id": "7cff1bf5",
   "metadata": {},
   "outputs": [],
   "source": []
  },
  {
   "cell_type": "markdown",
   "id": "5f79dd00",
   "metadata": {},
   "source": [
    "#### 93. Consider two arrays A and B of shape (8,3) and (2,2). How to find rows of A that contain elements of each row of B regardless of the order of the elements in B? (★★★)"
   ]
  },
  {
   "cell_type": "code",
   "execution_count": null,
   "id": "20c105b2",
   "metadata": {},
   "outputs": [],
   "source": []
  },
  {
   "cell_type": "markdown",
   "id": "a80570cd",
   "metadata": {},
   "source": [
    "#### 94. Considering a 10x3 matrix, extract rows with unequal values (e.g. [2,2,3]) (★★★)"
   ]
  },
  {
   "cell_type": "code",
   "execution_count": null,
   "id": "84db8de1",
   "metadata": {},
   "outputs": [],
   "source": []
  },
  {
   "cell_type": "markdown",
   "id": "ba154f43",
   "metadata": {},
   "source": [
    "#### 95. Convert a vector of ints into a matrix binary representation (★★★)"
   ]
  },
  {
   "cell_type": "code",
   "execution_count": null,
   "id": "cfa96e1b",
   "metadata": {},
   "outputs": [],
   "source": []
  },
  {
   "cell_type": "markdown",
   "id": "420e2343",
   "metadata": {},
   "source": [
    "#### 96. Given a two dimensional array, how to extract unique rows? (★★★)"
   ]
  },
  {
   "cell_type": "code",
   "execution_count": null,
   "id": "4680dfd0",
   "metadata": {},
   "outputs": [],
   "source": []
  },
  {
   "cell_type": "markdown",
   "id": "89fef2f3",
   "metadata": {},
   "source": [
    "#### 97. Considering 2 vectors A & B, write the einsum equivalent of inner, outer, sum, and mul function (★★★)"
   ]
  },
  {
   "cell_type": "code",
   "execution_count": null,
   "id": "bb9c14b2",
   "metadata": {},
   "outputs": [],
   "source": []
  },
  {
   "cell_type": "markdown",
   "id": "7ad5cc5f",
   "metadata": {},
   "source": [
    "#### 98. Considering a path described by two vectors (X,Y), how to sample it using equidistant samples (★★★)?"
   ]
  },
  {
   "cell_type": "code",
   "execution_count": null,
   "id": "0899d1d5",
   "metadata": {},
   "outputs": [],
   "source": []
  },
  {
   "cell_type": "markdown",
   "id": "2b69272e",
   "metadata": {},
   "source": [
    "#### 99. Given an integer n and a 2D array X, select from X the rows which can be interpreted as draws from a multinomial distribution with n degrees, i.e., the rows which only contain integers and which sum to n. (★★★)"
   ]
  },
  {
   "cell_type": "code",
   "execution_count": null,
   "id": "55c8b034",
   "metadata": {},
   "outputs": [],
   "source": []
  },
  {
   "cell_type": "markdown",
   "id": "59ab5516",
   "metadata": {},
   "source": [
    "#### 100. Compute bootstrapped 95% confidence intervals for the mean of a 1D array X (i.e., resample the elements of an array with replacement N times, compute the mean of each sample, and then compute percentiles over the means). (★★★)"
   ]
  },
  {
   "cell_type": "code",
   "execution_count": null,
   "id": "450877d8",
   "metadata": {},
   "outputs": [],
   "source": []
  }
 ],
 "metadata": {
  "kernelspec": {
   "display_name": "Python 3",
   "language": "python",
   "name": "python3"
  },
  "language_info": {
   "codemirror_mode": {
    "name": "ipython",
    "version": 3
   },
   "file_extension": ".py",
   "mimetype": "text/x-python",
   "name": "python",
   "nbconvert_exporter": "python",
   "pygments_lexer": "ipython3",
   "version": "3.11.4"
  }
 },
 "nbformat": 4,
 "nbformat_minor": 5
}
