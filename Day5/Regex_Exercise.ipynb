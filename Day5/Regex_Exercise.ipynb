{
 "cells": [
  {
   "cell_type": "markdown",
   "id": "1940c91d",
   "metadata": {},
   "source": [
    "### Questions 1\n",
    "\n",
    "Write a Python program to check that a string contains only a certain set of characters (in this case a-z, A-Z and 0-9)."
   ]
  },
  {
   "cell_type": "code",
   "execution_count": 35,
   "id": "fb788c99",
   "metadata": {},
   "outputs": [
    {
     "name": "stdout",
     "output_type": "stream",
     "text": [
      "matched\n"
     ]
    }
   ],
   "source": [
    "import re\n",
    "def Check(str):\n",
    "    res = re.compile(\"^[a-zA-Z0-9]+$\")\n",
    "    if res.match(str):\n",
    "        print(\"matched\")\n",
    "    else:\n",
    "        print(\"not matched\")\n",
    "\n",
    "str = \"abcdXYZ1234\"\n",
    "Check(str)"
   ]
  },
  {
   "cell_type": "markdown",
   "id": "36b773c3",
   "metadata": {},
   "source": [
    "### Question 2\n",
    "\n",
    "Write a Python program that matches a string that has an a followed by zero or more b's."
   ]
  },
  {
   "cell_type": "code",
   "execution_count": 33,
   "id": "a552493a",
   "metadata": {},
   "outputs": [
    {
     "name": "stdout",
     "output_type": "stream",
     "text": [
      "matched\n"
     ]
    }
   ],
   "source": [
    "def Check(str):\n",
    "    res = re.compile(\"ab*\")\n",
    "    if res.search(str):\n",
    "        print(\"matched\")\n",
    "    else:\n",
    "        print(\"not matched\")\n",
    "\n",
    "str = \"ab\"\n",
    "Check(str)"
   ]
  },
  {
   "cell_type": "markdown",
   "id": "673d61a9",
   "metadata": {},
   "source": [
    "### Question 3\n",
    "\n",
    "Write a Python program that matches a string that has an a followed by one or more b's."
   ]
  },
  {
   "cell_type": "code",
   "execution_count": 32,
   "id": "7e0fb77a",
   "metadata": {},
   "outputs": [
    {
     "name": "stdout",
     "output_type": "stream",
     "text": [
      "matched\n"
     ]
    }
   ],
   "source": [
    "def Check(str):\n",
    "    res = re.compile(\"ab+\")\n",
    "    if res.search(str):\n",
    "        print(\"matched\")\n",
    "    else:\n",
    "        print(\"not matched\")\n",
    "\n",
    "str = \"abbbb\"\n",
    "Check(str)"
   ]
  },
  {
   "cell_type": "markdown",
   "id": "8494f5a8",
   "metadata": {},
   "source": [
    "### Question 4\n",
    "Write a Python program that matches a string that has an a followed by zero or one 'b'."
   ]
  },
  {
   "cell_type": "code",
   "execution_count": 37,
   "id": "df4a9688",
   "metadata": {},
   "outputs": [
    {
     "name": "stdout",
     "output_type": "stream",
     "text": [
      "matched\n"
     ]
    }
   ],
   "source": [
    "def Check(str):\n",
    "    res = re.compile(\"ab?\")\n",
    "    if res.search(str):\n",
    "        print(\"matched\")\n",
    "    else:\n",
    "        print(\"not matched\")\n",
    "\n",
    "str = \"abbbb\"\n",
    "Check(str)"
   ]
  },
  {
   "cell_type": "markdown",
   "id": "cb6b8dc8",
   "metadata": {},
   "source": [
    "### Question 5\n",
    "Write a Python program to find sequences of lowercase letters joined by an underscore."
   ]
  },
  {
   "cell_type": "code",
   "execution_count": 39,
   "id": "fcf95464",
   "metadata": {},
   "outputs": [
    {
     "name": "stdout",
     "output_type": "stream",
     "text": [
      "matched\n"
     ]
    }
   ],
   "source": [
    "def Check(str):\n",
    "    res = re.compile(\"[a-z]+_[a-z]+\")\n",
    "    if res.findall(str):\n",
    "        print(\"matched\")\n",
    "    else:\n",
    "        print(\"not matched\")\n",
    "\n",
    "str = \"abc_def_ghi jkl_mno\"\n",
    "Check(str)"
   ]
  },
  {
   "cell_type": "markdown",
   "id": "3f07cde8",
   "metadata": {},
   "source": [
    "### Question 6\n",
    "Write a Python program that matches a word at the beginning of a string."
   ]
  },
  {
   "cell_type": "code",
   "execution_count": 41,
   "id": "f7b852af",
   "metadata": {},
   "outputs": [
    {
     "name": "stdout",
     "output_type": "stream",
     "text": [
      "found\n"
     ]
    }
   ],
   "source": [
    "def Check(str, w):\n",
    "    res = re.compile(\"^\" + re.escape(w))\n",
    "    if res.search(str):\n",
    "        print(\"found\")\n",
    "    else:\n",
    "        print(\"not found\")\n",
    "\n",
    "str = \"fundamentals of programming\"\n",
    "word = \"fundamentals\"\n",
    "Check(str, word)"
   ]
  },
  {
   "cell_type": "markdown",
   "id": "170c8d78",
   "metadata": {},
   "source": [
    "### Question 7\n",
    "Write a Python program that matches a word containing 'z'."
   ]
  },
  {
   "cell_type": "code",
   "execution_count": 45,
   "id": "c5c796b8",
   "metadata": {},
   "outputs": [
    {
     "name": "stdout",
     "output_type": "stream",
     "text": [
      "not matched\n"
     ]
    }
   ],
   "source": [
    "def Check(str):\n",
    "    res = re.compile(r'\\b\\w*z\\w*\\b')\n",
    "    if res.findall(str):\n",
    "        print(\"matched\")\n",
    "    else:\n",
    "        print(\"not matched\")\n",
    "\n",
    "str = \"towards data science\"\n",
    "Check(str)"
   ]
  },
  {
   "cell_type": "markdown",
   "id": "c2d89556",
   "metadata": {},
   "source": [
    "### Question 8\n",
    "Write a Python program to match a string that contains only upper and lowercase letters, numbers, and underscores."
   ]
  },
  {
   "cell_type": "code",
   "execution_count": 46,
   "id": "a1958601",
   "metadata": {},
   "outputs": [
    {
     "name": "stdout",
     "output_type": "stream",
     "text": [
      "matched\n"
     ]
    }
   ],
   "source": [
    "def Check(str):\n",
    "    res = re.compile(\"^[a-zA-Z0-9_]+$\")\n",
    "    if res.match(str):\n",
    "        print(\"matched\")\n",
    "    else:\n",
    "        print(\"not matched\")\n",
    "        \n",
    "str = \"ABcd_123\"\n",
    "Check(str)"
   ]
  },
  {
   "cell_type": "markdown",
   "id": "c476a75a",
   "metadata": {},
   "source": [
    "### Question 9\n",
    "Write a Python program to search for literal strings within a string.<br>\n",
    "Sample text : 'The quick brown fox jumps over the lazy dog.'<br>\n",
    "Searched words : 'fox', 'dog', 'horse'<br>"
   ]
  },
  {
   "cell_type": "code",
   "execution_count": 49,
   "id": "62fdfa6c",
   "metadata": {},
   "outputs": [
    {
     "name": "stdout",
     "output_type": "stream",
     "text": [
      "fox found\n",
      "dog found\n",
      "horse not found\n"
     ]
    }
   ],
   "source": [
    "def Check(txt, words):\n",
    "    for w in words:\n",
    "        if re.search(re.escape(w), txt):\n",
    "            print(f\"{w} found\")\n",
    "        else:\n",
    "            print(f\"{w} not found\")\n",
    "\n",
    "\n",
    "text = 'The quick brown fox jumps over the lazy dog.'\n",
    "words = [\"fox\", \"dog\", \"horse\"]\n",
    "Check(text, words)"
   ]
  },
  {
   "cell_type": "markdown",
   "id": "5da7e932",
   "metadata": {},
   "source": [
    "### Question 10\n",
    "Write a Python program to search for a literal string in a string and also find the location within the original string where the pattern occurs.<br>\n",
    "\n",
    "Sample text : 'The quick brown fox jumps over the lazy dog.'<br>\n",
    "Searched words : 'fox'<br>\n",
    "\n"
   ]
  },
  {
   "cell_type": "code",
   "execution_count": 50,
   "id": "a540ad56",
   "metadata": {},
   "outputs": [
    {
     "name": "stdout",
     "output_type": "stream",
     "text": [
      "fox found, start index= 16, end index= 18\n"
     ]
    }
   ],
   "source": [
    "def Check(txt, w):\n",
    "    match = re.search(re.escape(w), txt)\n",
    "    if match:\n",
    "        print(f\"{w} found, start index= {match.start()}, end index= {match.end() - 1}\")\n",
    "    else:\n",
    "        print(\"not found\")\n",
    "\n",
    "text = 'The quick brown fox jumps over the lazy dog.'\n",
    "word = 'fox'\n",
    "Check(text, word)"
   ]
  },
  {
   "cell_type": "markdown",
   "id": "3c788609",
   "metadata": {},
   "source": [
    "### Question 11\n",
    "Write a Python program that checks whether a word starts and ends with a vowel in a given string. Return true if a word matches the condition; otherwise, return false.<br>\n",
    "Sample Data:<br>\n",
    "(\"Red Orange White\") -> True<br>\n",
    "(\"Red White Black\") -> False<br>\n",
    "(\"abcd dkise eosksu\") -> True<br>"
   ]
  },
  {
   "cell_type": "code",
   "execution_count": 51,
   "id": "6a5c8575",
   "metadata": {},
   "outputs": [
    {
     "name": "stdout",
     "output_type": "stream",
     "text": [
      "[False, True, False]\n",
      "[False, False, False]\n",
      "[False, False, True]\n"
     ]
    }
   ],
   "source": [
    "def Check(w):\n",
    "    vowels = \"aeiouAEIOU\"\n",
    "    return len(w) > 0 and w[0] in vowels and w[-1] in vowels\n",
    "\n",
    "def check_condition(s):\n",
    "    words = s.split()\n",
    "    res = [Check(word) for word in words]\n",
    "    return res\n",
    "\n",
    "s1 = \"Red Orange White\"\n",
    "s2 = \"Red White Black\"\n",
    "s3 = \"abcd dkise eosksu\"\n",
    "print(check_condition(s1)) \n",
    "print(check_condition(s2)) \n",
    "print(check_condition(s3)) \n"
   ]
  },
  {
   "cell_type": "markdown",
   "id": "9bc8c2bb",
   "metadata": {},
   "source": [
    "### Question 12\n",
    "Write a Python program that takes a string with some words. For two consecutive words in the said string, check whether the first word ends with a vowel and the next word begins with a vowel. If the program meets the condition, return true, otherwise false. Only one space is allowed between the words.<br>\n",
    "Sample Data:<br>\n",
    "(\"These exercises can be used for practice.\") -> True<br>\n",
    "(\"Following exercises should be removed for practice.\") -> False<br>\n",
    "(\"I use these stories in my classroom.\") -> True<br>"
   ]
  },
  {
   "cell_type": "code",
   "execution_count": null,
   "id": "3b5f1d7b",
   "metadata": {},
   "outputs": [],
   "source": [
    "def Check(s):\n",
    "    w = s.split()\n",
    "    for i in range(len(w) - 1):\n",
    "        w1 = w[i]\n",
    "        w2 = w[i + 1]\n",
    "\n",
    "        if w1[-1].lower() in \"aeiou\" and w2[0].lower() in \"aeiou\":\n",
    "            return True\n",
    "\n",
    "    return False\n",
    "s1 = \"These exercises can be used for practice.\"\n",
    "s2 = \"Following exercises should be removed for practice.\"\n",
    "s3 = \"I use these stories in my classroom.\"\n",
    "print(Check(s1))  \n",
    "print(Check(s2)) \n",
    "print(Check(s3)) \n"
   ]
  }
 ],
 "metadata": {
  "kernelspec": {
   "display_name": "Python 3 (ipykernel)",
   "language": "python",
   "name": "python3"
  },
  "language_info": {
   "codemirror_mode": {
    "name": "ipython",
    "version": 3
   },
   "file_extension": ".py",
   "mimetype": "text/x-python",
   "name": "python",
   "nbconvert_exporter": "python",
   "pygments_lexer": "ipython3",
   "version": "3.11.4"
  }
 },
 "nbformat": 4,
 "nbformat_minor": 5
}
